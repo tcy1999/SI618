{
 "cells": [
  {
   "cell_type": "markdown",
   "metadata": {},
   "source": [
    "# SI 618: Data Manipulation and Analysis\n",
    "## 02 - Introduction to pandas\n",
    "### Dr. Chris Teplovs, School of Information, University of Michigan\n",
    "<small><a rel=\"license\" href=\"http://creativecommons.org/licenses/by-nc-sa/4.0/\"><img alt=\"Creative Commons License\" style=\"border-width:0\" src=\"https://i.creativecommons.org/l/by-nc-sa/4.0/88x31.png\" /></a>This work is licensed under a <a rel=\"license\" href=\"http://creativecommons.org/licenses/by-nc-sa/4.0/\">Creative Commons Attribution-NonCommercial-ShareAlike 4.0 International License</a>.\n",
    "    \n",
    "Version 2021.01.31.1.CT"
   ]
  },
  {
   "cell_type": "markdown",
   "metadata": {
    "colab_type": "text",
    "id": "6xlxDwAkVZ6g"
   },
   "source": [
    "\n",
    "## Objectives:\n",
    "* Know how to manipulate Series and DataFrame\n",
    "* Draw a random sample of data\n",
    "* Select subset of data using boolean masking\n",
    "* Compute descriptive and summary statistics\n",
    "* Sort a DataFrame by index or column\n",
    "* Group data and calculate aggregate statistics\n",
    "* Make basic plots (scatter plot, histogram, bar chart, etc)\n",
    "\n",
    "## Submission Instructions:\n",
    "Please turn in this Jupyter notebook file (both .ipynb and .html formats) on Canvas before the end of class."
   ]
  },
  {
   "cell_type": "markdown",
   "metadata": {},
   "source": [
    "## Points\n",
    "All questions are worth a maximum of two points."
   ]
  },
  {
   "cell_type": "markdown",
   "metadata": {
    "colab_type": "text",
    "id": "yzYmZ_ZRVZ6h"
   },
   "source": [
    "### IMPORTANT: Replace ```?``` in the following code with your uniqname."
   ]
  },
  {
   "cell_type": "code",
   "execution_count": 1,
   "metadata": {
    "colab": {},
    "colab_type": "code",
    "id": "NJ-VtIuoVZ6i"
   },
   "outputs": [],
   "source": [
    "MY_UNIQNAME = 'cyuntao'"
   ]
  },
  {
   "cell_type": "markdown",
   "metadata": {},
   "source": [
    "## NumPy"
   ]
  },
  {
   "cell_type": "markdown",
   "metadata": {},
   "source": [
    "Let's set up a couple of plain old python lists"
   ]
  },
  {
   "cell_type": "code",
   "execution_count": 2,
   "metadata": {},
   "outputs": [],
   "source": [
    "names = ['Alphonso','Beata','Cal','Din','Ella']\n",
    "scores = [3,5,4,4,5]"
   ]
  },
  {
   "cell_type": "markdown",
   "metadata": {},
   "source": [
    "### <font color=\"magenta\">Q1: Write code to iterate through the two lists to produce the following output:</font>\n",
    "```\n",
    "Alphonso has a score of 3.\n",
    "Beata has a score of 5.\n",
    "Cal has a score of 4.\n",
    "Din has a score of 4.\n",
    "Ella has a score of 5.\n",
    "```"
   ]
  },
  {
   "cell_type": "code",
   "execution_count": 3,
   "metadata": {
    "scrolled": true
   },
   "outputs": [
    {
     "name": "stdout",
     "output_type": "stream",
     "text": [
      "Alphonso has a score of 3.\n",
      "Beata has a score of 5.\n",
      "Cal has a score of 4.\n",
      "Din has a score of 4.\n",
      "Ella has a score of 5.\n"
     ]
    }
   ],
   "source": [
    "for i in range(5):\n",
    "    print('{} has a score of {}.'.format(names[i], scores[i]))"
   ]
  },
  {
   "cell_type": "markdown",
   "metadata": {},
   "source": [
    "## NumPy"
   ]
  },
  {
   "cell_type": "code",
   "execution_count": 4,
   "metadata": {},
   "outputs": [],
   "source": [
    "import numpy as np"
   ]
  },
  {
   "cell_type": "code",
   "execution_count": 5,
   "metadata": {},
   "outputs": [
    {
     "data": {
      "text/plain": [
       "array(['Alphonso', 'Beata', 'Cal', 'Din', 'Ella'], dtype='<U8')"
      ]
     },
     "execution_count": 5,
     "metadata": {},
     "output_type": "execute_result"
    }
   ],
   "source": [
    "ar_names = np.array(names)\n",
    "ar_names"
   ]
  },
  {
   "cell_type": "markdown",
   "metadata": {},
   "source": [
    "### <font color=\"magenta\">Q2: Create ```ar_scores``` that contains an array of the scores from above:"
   ]
  },
  {
   "cell_type": "code",
   "execution_count": 6,
   "metadata": {},
   "outputs": [
    {
     "data": {
      "text/plain": [
       "array([3, 5, 4, 4, 5])"
      ]
     },
     "execution_count": 6,
     "metadata": {},
     "output_type": "execute_result"
    }
   ],
   "source": [
    "ar_scores = np.array(scores)\n",
    "ar_scores"
   ]
  },
  {
   "cell_type": "markdown",
   "metadata": {},
   "source": [
    "Now, let's say we wanted to modify the scores by multiplying each one by 1.25.\n",
    "\n",
    "### <font color=\"magenta\">Q3: Write some code that would do that using plain old python:</font>"
   ]
  },
  {
   "cell_type": "code",
   "execution_count": 7,
   "metadata": {},
   "outputs": [],
   "source": [
    "new_scores = []\n",
    "for score in ar_scores:\n",
    "    new_scores.append(score * 1.25)\n",
    "ar_new_scores = np.array(new_scores)"
   ]
  },
  {
   "cell_type": "code",
   "execution_count": 8,
   "metadata": {},
   "outputs": [
    {
     "data": {
      "text/plain": [
       "array([3.75, 6.25, 5.  , 5.  , 6.25])"
      ]
     },
     "execution_count": 8,
     "metadata": {},
     "output_type": "execute_result"
    }
   ],
   "source": [
    "ar_new_scores"
   ]
  },
  {
   "cell_type": "markdown",
   "metadata": {},
   "source": [
    "## ufuncs\n",
    "\n",
    "We can use ufuncs to multiply each score by 1.25:"
   ]
  },
  {
   "cell_type": "code",
   "execution_count": 9,
   "metadata": {},
   "outputs": [
    {
     "data": {
      "text/plain": [
       "array([3.75, 6.25, 5.  , 5.  , 6.25])"
      ]
     },
     "execution_count": 9,
     "metadata": {},
     "output_type": "execute_result"
    }
   ],
   "source": [
    "modified_scores = ar_scores * 1.25\n",
    "modified_scores"
   ]
  },
  {
   "cell_type": "markdown",
   "metadata": {},
   "source": [
    "### <font color=\"magenta\">Q4: write code to create a new array called sqrt_scores that contains the square roots of each of the original scores</font>"
   ]
  },
  {
   "cell_type": "code",
   "execution_count": 10,
   "metadata": {},
   "outputs": [
    {
     "data": {
      "text/plain": [
       "array([1.73205081, 2.23606798, 2.        , 2.        , 2.23606798])"
      ]
     },
     "execution_count": 10,
     "metadata": {},
     "output_type": "execute_result"
    }
   ],
   "source": [
    "sqrt_scores = ar_scores ** 0.5\n",
    "sqrt_scores"
   ]
  },
  {
   "cell_type": "markdown",
   "metadata": {},
   "source": [
    "## pd.Series"
   ]
  },
  {
   "cell_type": "code",
   "execution_count": 11,
   "metadata": {},
   "outputs": [],
   "source": [
    "import pandas as pd"
   ]
  },
  {
   "cell_type": "code",
   "execution_count": 12,
   "metadata": {},
   "outputs": [],
   "source": [
    "s_names = pd.Series(names)"
   ]
  },
  {
   "cell_type": "code",
   "execution_count": 13,
   "metadata": {
    "scrolled": true
   },
   "outputs": [
    {
     "data": {
      "text/plain": [
       "0    Alphonso\n",
       "1       Beata\n",
       "2         Cal\n",
       "3         Din\n",
       "4        Ella\n",
       "dtype: object"
      ]
     },
     "execution_count": 13,
     "metadata": {},
     "output_type": "execute_result"
    }
   ],
   "source": [
    "s_names"
   ]
  },
  {
   "cell_type": "code",
   "execution_count": 14,
   "metadata": {
    "scrolled": false
   },
   "outputs": [
    {
     "data": {
      "text/plain": [
       "0    3\n",
       "1    5\n",
       "2    4\n",
       "3    4\n",
       "4    5\n",
       "dtype: int64"
      ]
     },
     "execution_count": 14,
     "metadata": {},
     "output_type": "execute_result"
    }
   ],
   "source": [
    "s_scores = pd.Series(scores)\n",
    "s_scores"
   ]
  },
  {
   "cell_type": "code",
   "execution_count": 15,
   "metadata": {},
   "outputs": [
    {
     "data": {
      "text/plain": [
       "['Alphonso', 'Beata', 'Cal', 'Din', 'Ella']"
      ]
     },
     "execution_count": 15,
     "metadata": {},
     "output_type": "execute_result"
    }
   ],
   "source": [
    "names # just to remind ourselves what names looks like"
   ]
  },
  {
   "cell_type": "code",
   "execution_count": 16,
   "metadata": {
    "scrolled": false
   },
   "outputs": [
    {
     "data": {
      "text/plain": [
       "Alphonso    3\n",
       "Beata       5\n",
       "Cal         4\n",
       "Din         4\n",
       "Ella        5\n",
       "dtype: int64"
      ]
     },
     "execution_count": 16,
     "metadata": {},
     "output_type": "execute_result"
    }
   ],
   "source": [
    "s_scores = pd.Series(scores,index=names)\n",
    "s_scores"
   ]
  },
  {
   "cell_type": "markdown",
   "metadata": {},
   "source": [
    "## pd.DataFrame"
   ]
  },
  {
   "cell_type": "code",
   "execution_count": 17,
   "metadata": {},
   "outputs": [],
   "source": [
    "df = pd.DataFrame({\"name\":names,\"score\":scores})"
   ]
  },
  {
   "cell_type": "code",
   "execution_count": 18,
   "metadata": {
    "scrolled": true
   },
   "outputs": [
    {
     "data": {
      "text/html": [
       "<div>\n",
       "<style scoped>\n",
       "    .dataframe tbody tr th:only-of-type {\n",
       "        vertical-align: middle;\n",
       "    }\n",
       "\n",
       "    .dataframe tbody tr th {\n",
       "        vertical-align: top;\n",
       "    }\n",
       "\n",
       "    .dataframe thead th {\n",
       "        text-align: right;\n",
       "    }\n",
       "</style>\n",
       "<table border=\"1\" class=\"dataframe\">\n",
       "  <thead>\n",
       "    <tr style=\"text-align: right;\">\n",
       "      <th></th>\n",
       "      <th>name</th>\n",
       "      <th>score</th>\n",
       "    </tr>\n",
       "  </thead>\n",
       "  <tbody>\n",
       "    <tr>\n",
       "      <th>0</th>\n",
       "      <td>Alphonso</td>\n",
       "      <td>3</td>\n",
       "    </tr>\n",
       "    <tr>\n",
       "      <th>1</th>\n",
       "      <td>Beata</td>\n",
       "      <td>5</td>\n",
       "    </tr>\n",
       "    <tr>\n",
       "      <th>2</th>\n",
       "      <td>Cal</td>\n",
       "      <td>4</td>\n",
       "    </tr>\n",
       "    <tr>\n",
       "      <th>3</th>\n",
       "      <td>Din</td>\n",
       "      <td>4</td>\n",
       "    </tr>\n",
       "    <tr>\n",
       "      <th>4</th>\n",
       "      <td>Ella</td>\n",
       "      <td>5</td>\n",
       "    </tr>\n",
       "  </tbody>\n",
       "</table>\n",
       "</div>"
      ],
      "text/plain": [
       "       name  score\n",
       "0  Alphonso      3\n",
       "1     Beata      5\n",
       "2       Cal      4\n",
       "3       Din      4\n",
       "4      Ella      5"
      ]
     },
     "execution_count": 18,
     "metadata": {},
     "output_type": "execute_result"
    }
   ],
   "source": [
    "df"
   ]
  },
  {
   "cell_type": "code",
   "execution_count": 19,
   "metadata": {},
   "outputs": [],
   "source": [
    "specializations = ['DS','UX','UX','DS','DS']"
   ]
  },
  {
   "cell_type": "code",
   "execution_count": 20,
   "metadata": {
    "scrolled": true
   },
   "outputs": [
    {
     "data": {
      "text/html": [
       "<div>\n",
       "<style scoped>\n",
       "    .dataframe tbody tr th:only-of-type {\n",
       "        vertical-align: middle;\n",
       "    }\n",
       "\n",
       "    .dataframe tbody tr th {\n",
       "        vertical-align: top;\n",
       "    }\n",
       "\n",
       "    .dataframe thead th {\n",
       "        text-align: right;\n",
       "    }\n",
       "</style>\n",
       "<table border=\"1\" class=\"dataframe\">\n",
       "  <thead>\n",
       "    <tr style=\"text-align: right;\">\n",
       "      <th></th>\n",
       "      <th>name</th>\n",
       "      <th>score</th>\n",
       "      <th>specialization</th>\n",
       "    </tr>\n",
       "  </thead>\n",
       "  <tbody>\n",
       "    <tr>\n",
       "      <th>0</th>\n",
       "      <td>Alphonso</td>\n",
       "      <td>3</td>\n",
       "      <td>DS</td>\n",
       "    </tr>\n",
       "    <tr>\n",
       "      <th>1</th>\n",
       "      <td>Beata</td>\n",
       "      <td>5</td>\n",
       "      <td>UX</td>\n",
       "    </tr>\n",
       "    <tr>\n",
       "      <th>2</th>\n",
       "      <td>Cal</td>\n",
       "      <td>4</td>\n",
       "      <td>UX</td>\n",
       "    </tr>\n",
       "    <tr>\n",
       "      <th>3</th>\n",
       "      <td>Din</td>\n",
       "      <td>4</td>\n",
       "      <td>DS</td>\n",
       "    </tr>\n",
       "    <tr>\n",
       "      <th>4</th>\n",
       "      <td>Ella</td>\n",
       "      <td>5</td>\n",
       "      <td>DS</td>\n",
       "    </tr>\n",
       "  </tbody>\n",
       "</table>\n",
       "</div>"
      ],
      "text/plain": [
       "       name  score specialization\n",
       "0  Alphonso      3             DS\n",
       "1     Beata      5             UX\n",
       "2       Cal      4             UX\n",
       "3       Din      4             DS\n",
       "4      Ella      5             DS"
      ]
     },
     "execution_count": 20,
     "metadata": {},
     "output_type": "execute_result"
    }
   ],
   "source": [
    "df['specialization'] = specializations\n",
    "df"
   ]
  },
  {
   "cell_type": "markdown",
   "metadata": {},
   "source": [
    "Let's say we wanted to set the \"name\" column to be the index:"
   ]
  },
  {
   "cell_type": "code",
   "execution_count": 21,
   "metadata": {},
   "outputs": [
    {
     "data": {
      "text/html": [
       "<div>\n",
       "<style scoped>\n",
       "    .dataframe tbody tr th:only-of-type {\n",
       "        vertical-align: middle;\n",
       "    }\n",
       "\n",
       "    .dataframe tbody tr th {\n",
       "        vertical-align: top;\n",
       "    }\n",
       "\n",
       "    .dataframe thead th {\n",
       "        text-align: right;\n",
       "    }\n",
       "</style>\n",
       "<table border=\"1\" class=\"dataframe\">\n",
       "  <thead>\n",
       "    <tr style=\"text-align: right;\">\n",
       "      <th></th>\n",
       "      <th>score</th>\n",
       "      <th>specialization</th>\n",
       "    </tr>\n",
       "    <tr>\n",
       "      <th>name</th>\n",
       "      <th></th>\n",
       "      <th></th>\n",
       "    </tr>\n",
       "  </thead>\n",
       "  <tbody>\n",
       "    <tr>\n",
       "      <th>Alphonso</th>\n",
       "      <td>3</td>\n",
       "      <td>DS</td>\n",
       "    </tr>\n",
       "    <tr>\n",
       "      <th>Beata</th>\n",
       "      <td>5</td>\n",
       "      <td>UX</td>\n",
       "    </tr>\n",
       "    <tr>\n",
       "      <th>Cal</th>\n",
       "      <td>4</td>\n",
       "      <td>UX</td>\n",
       "    </tr>\n",
       "    <tr>\n",
       "      <th>Din</th>\n",
       "      <td>4</td>\n",
       "      <td>DS</td>\n",
       "    </tr>\n",
       "    <tr>\n",
       "      <th>Ella</th>\n",
       "      <td>5</td>\n",
       "      <td>DS</td>\n",
       "    </tr>\n",
       "  </tbody>\n",
       "</table>\n",
       "</div>"
      ],
      "text/plain": [
       "          score specialization\n",
       "name                          \n",
       "Alphonso      3             DS\n",
       "Beata         5             UX\n",
       "Cal           4             UX\n",
       "Din           4             DS\n",
       "Ella          5             DS"
      ]
     },
     "execution_count": 21,
     "metadata": {},
     "output_type": "execute_result"
    }
   ],
   "source": [
    "df.set_index(\"name\")"
   ]
  },
  {
   "cell_type": "code",
   "execution_count": 22,
   "metadata": {},
   "outputs": [],
   "source": [
    "df.set_index(\"name\",inplace = True) # equivalent to df = df.set_index(\"name\")"
   ]
  },
  {
   "cell_type": "code",
   "execution_count": 23,
   "metadata": {
    "scrolled": true
   },
   "outputs": [
    {
     "data": {
      "text/html": [
       "<div>\n",
       "<style scoped>\n",
       "    .dataframe tbody tr th:only-of-type {\n",
       "        vertical-align: middle;\n",
       "    }\n",
       "\n",
       "    .dataframe tbody tr th {\n",
       "        vertical-align: top;\n",
       "    }\n",
       "\n",
       "    .dataframe thead th {\n",
       "        text-align: right;\n",
       "    }\n",
       "</style>\n",
       "<table border=\"1\" class=\"dataframe\">\n",
       "  <thead>\n",
       "    <tr style=\"text-align: right;\">\n",
       "      <th></th>\n",
       "      <th>score</th>\n",
       "      <th>specialization</th>\n",
       "    </tr>\n",
       "    <tr>\n",
       "      <th>name</th>\n",
       "      <th></th>\n",
       "      <th></th>\n",
       "    </tr>\n",
       "  </thead>\n",
       "  <tbody>\n",
       "    <tr>\n",
       "      <th>Alphonso</th>\n",
       "      <td>3</td>\n",
       "      <td>DS</td>\n",
       "    </tr>\n",
       "    <tr>\n",
       "      <th>Beata</th>\n",
       "      <td>5</td>\n",
       "      <td>UX</td>\n",
       "    </tr>\n",
       "    <tr>\n",
       "      <th>Cal</th>\n",
       "      <td>4</td>\n",
       "      <td>UX</td>\n",
       "    </tr>\n",
       "    <tr>\n",
       "      <th>Din</th>\n",
       "      <td>4</td>\n",
       "      <td>DS</td>\n",
       "    </tr>\n",
       "    <tr>\n",
       "      <th>Ella</th>\n",
       "      <td>5</td>\n",
       "      <td>DS</td>\n",
       "    </tr>\n",
       "  </tbody>\n",
       "</table>\n",
       "</div>"
      ],
      "text/plain": [
       "          score specialization\n",
       "name                          \n",
       "Alphonso      3             DS\n",
       "Beata         5             UX\n",
       "Cal           4             UX\n",
       "Din           4             DS\n",
       "Ella          5             DS"
      ]
     },
     "execution_count": 23,
     "metadata": {},
     "output_type": "execute_result"
    }
   ],
   "source": [
    "df"
   ]
  },
  {
   "cell_type": "code",
   "execution_count": 24,
   "metadata": {},
   "outputs": [
    {
     "data": {
      "text/html": [
       "<div>\n",
       "<style scoped>\n",
       "    .dataframe tbody tr th:only-of-type {\n",
       "        vertical-align: middle;\n",
       "    }\n",
       "\n",
       "    .dataframe tbody tr th {\n",
       "        vertical-align: top;\n",
       "    }\n",
       "\n",
       "    .dataframe thead th {\n",
       "        text-align: right;\n",
       "    }\n",
       "</style>\n",
       "<table border=\"1\" class=\"dataframe\">\n",
       "  <thead>\n",
       "    <tr style=\"text-align: right;\">\n",
       "      <th></th>\n",
       "      <th>name</th>\n",
       "      <th>score</th>\n",
       "      <th>specialization</th>\n",
       "    </tr>\n",
       "  </thead>\n",
       "  <tbody>\n",
       "    <tr>\n",
       "      <th>0</th>\n",
       "      <td>Alphonso</td>\n",
       "      <td>3</td>\n",
       "      <td>DS</td>\n",
       "    </tr>\n",
       "    <tr>\n",
       "      <th>1</th>\n",
       "      <td>Beata</td>\n",
       "      <td>5</td>\n",
       "      <td>UX</td>\n",
       "    </tr>\n",
       "    <tr>\n",
       "      <th>2</th>\n",
       "      <td>Cal</td>\n",
       "      <td>4</td>\n",
       "      <td>UX</td>\n",
       "    </tr>\n",
       "    <tr>\n",
       "      <th>3</th>\n",
       "      <td>Din</td>\n",
       "      <td>4</td>\n",
       "      <td>DS</td>\n",
       "    </tr>\n",
       "    <tr>\n",
       "      <th>4</th>\n",
       "      <td>Ella</td>\n",
       "      <td>5</td>\n",
       "      <td>DS</td>\n",
       "    </tr>\n",
       "  </tbody>\n",
       "</table>\n",
       "</div>"
      ],
      "text/plain": [
       "       name  score specialization\n",
       "0  Alphonso      3             DS\n",
       "1     Beata      5             UX\n",
       "2       Cal      4             UX\n",
       "3       Din      4             DS\n",
       "4      Ella      5             DS"
      ]
     },
     "execution_count": 24,
     "metadata": {},
     "output_type": "execute_result"
    }
   ],
   "source": [
    "df.reset_index(inplace = True)\n",
    "df"
   ]
  },
  {
   "cell_type": "markdown",
   "metadata": {
    "colab_type": "text",
    "id": "rE4uriL0VZ9l"
   },
   "source": [
    "# Part 1 (as a group): Mental Health Disorders In the Tech Workplace\n",
    "From https://www.kaggle.com/osmi/mental-health-in-tech-survey"
   ]
  },
  {
   "cell_type": "markdown",
   "metadata": {
    "colab_type": "text",
    "id": "N1djnH6yVZ9m"
   },
   "source": [
    "## Data Description\n",
    "\n",
    "This dataset is from a 2014 survey that measures attitudes towards mental health and frequency of mental health disorders in the tech workplace."
   ]
  },
  {
   "cell_type": "markdown",
   "metadata": {
    "colab_type": "text",
    "id": "PhOC6r2AVZ9n"
   },
   "source": [
    "## Metadata\n",
    "|Field|Description|\n",
    "|:----|:----|\n",
    "|**Timestamp**|\n",
    "|**Age**| \n",
    "|**Gender**\n",
    "|**Country**\n",
    "|**state**| If you live in the United States, which state or territory do you live in?\n",
    "|**self_employed**| Are you self-employed?\n",
    "|**family_history**| Do you have a family history of mental illness?\n",
    "|**treatment**| Have you sought treatment for a mental health condition?\n",
    "|**work_interfere**| If you have a mental health condition, do you feel that it interferes with your work?\n",
    "|**no_employees**| How many employees does your company or organization have?\n",
    "|**remote_work**| Do you work remotely (outside of an office) at least 50% of the time?\n",
    "|**tech_company**| Is your employer primarily a tech company/organization?\n",
    "|**benefits**| Does your employer provide mental health benefits?\n",
    "|**care_options**| Do you know the options for mental health care your employer provides?\n",
    "|**wellness_program**| Has your employer ever discussed mental health as part of an employee wellness program?\n",
    "|**seek_help**| Does your employer provide resources to learn more about mental health issues and how to seek help?\n",
    "|**anonymity**| Is your anonymity protected if you choose to take advantage of mental health or substance abuse treatment resources?\n",
    "|**leave**| How easy is it for you to take medical leave for a mental health condition?\n",
    "|**mental_health_consequence**| Do you think that discussing a mental health issue with your employer would have negative consequences?\n",
    "|**phys_health_consequence**| Do you think that discussing a physical health issue with your employer would have negative consequences?\n",
    "|**coworkers**| Would you be willing to discuss a mental health issue with your coworkers?\n",
    "|**supervisor**| Would you be willing to discuss a mental health issue with your direct supervisor(s)?\n",
    "|**mental_health_interview**| Would you bring up a mental health issue with a potential employer in an interview?\n",
    "|**phys_health_interview**| Would you bring up a physical health issue with a potential employer in an interview?\n",
    "|**mental_vs_physical**| Do you feel that your employer takes mental health as seriously as physical health?\n",
    "|**obs_consequence**| Have you heard of or observed negative consequences for coworkers with mental health conditions in your workplace?\n",
    "|**comments**| Any additional notes or comments\n",
    "\n"
   ]
  },
  {
   "cell_type": "markdown",
   "metadata": {},
   "source": [
    "Let's load the usual libraries and also ask for plots to be rendered inside the notebook:"
   ]
  },
  {
   "cell_type": "code",
   "execution_count": 25,
   "metadata": {
    "colab": {},
    "colab_type": "code",
    "id": "7WzcvvbBVZ9p"
   },
   "outputs": [],
   "source": [
    "import numpy as np\n",
    "import pandas as pd\n",
    "%matplotlib inline"
   ]
  },
  {
   "cell_type": "markdown",
   "metadata": {
    "colab_type": "text",
    "id": "JSRo9nBsVZ9p"
   },
   "source": [
    "Then read the CSV file into a DataFrame:"
   ]
  },
  {
   "cell_type": "code",
   "execution_count": 26,
   "metadata": {
    "colab": {},
    "colab_type": "code",
    "id": "7WzcvvbBVZ9p"
   },
   "outputs": [],
   "source": [
    "df = pd.read_csv(\"https://raw.githubusercontent.com/umsi-data-science/data/main/survey.csv\")"
   ]
  },
  {
   "cell_type": "markdown",
   "metadata": {
    "colab_type": "text",
    "id": "Sviw9MgTVZ9s"
   },
   "source": [
    "It's common to look at the resulting DataFrame using .head()"
   ]
  },
  {
   "cell_type": "code",
   "execution_count": 27,
   "metadata": {
    "colab": {},
    "colab_type": "code",
    "id": "vfZrtu7xVZ9t",
    "outputId": "9981f8bc-789d-4243-c701-4f518e781373"
   },
   "outputs": [
    {
     "data": {
      "text/html": [
       "<div>\n",
       "<style scoped>\n",
       "    .dataframe tbody tr th:only-of-type {\n",
       "        vertical-align: middle;\n",
       "    }\n",
       "\n",
       "    .dataframe tbody tr th {\n",
       "        vertical-align: top;\n",
       "    }\n",
       "\n",
       "    .dataframe thead th {\n",
       "        text-align: right;\n",
       "    }\n",
       "</style>\n",
       "<table border=\"1\" class=\"dataframe\">\n",
       "  <thead>\n",
       "    <tr style=\"text-align: right;\">\n",
       "      <th></th>\n",
       "      <th>Timestamp</th>\n",
       "      <th>Age</th>\n",
       "      <th>Gender</th>\n",
       "      <th>Country</th>\n",
       "      <th>state</th>\n",
       "      <th>self_employed</th>\n",
       "      <th>family_history</th>\n",
       "      <th>treatment</th>\n",
       "      <th>work_interfere</th>\n",
       "      <th>no_employees</th>\n",
       "      <th>...</th>\n",
       "      <th>leave</th>\n",
       "      <th>mental_health_consequence</th>\n",
       "      <th>phys_health_consequence</th>\n",
       "      <th>coworkers</th>\n",
       "      <th>supervisor</th>\n",
       "      <th>mental_health_interview</th>\n",
       "      <th>phys_health_interview</th>\n",
       "      <th>mental_vs_physical</th>\n",
       "      <th>obs_consequence</th>\n",
       "      <th>comments</th>\n",
       "    </tr>\n",
       "  </thead>\n",
       "  <tbody>\n",
       "    <tr>\n",
       "      <th>0</th>\n",
       "      <td>2014-08-27 11:29:31</td>\n",
       "      <td>37</td>\n",
       "      <td>Female</td>\n",
       "      <td>United States</td>\n",
       "      <td>IL</td>\n",
       "      <td>NaN</td>\n",
       "      <td>No</td>\n",
       "      <td>Yes</td>\n",
       "      <td>Often</td>\n",
       "      <td>6-25</td>\n",
       "      <td>...</td>\n",
       "      <td>Somewhat easy</td>\n",
       "      <td>No</td>\n",
       "      <td>No</td>\n",
       "      <td>Some of them</td>\n",
       "      <td>Yes</td>\n",
       "      <td>No</td>\n",
       "      <td>Maybe</td>\n",
       "      <td>Yes</td>\n",
       "      <td>No</td>\n",
       "      <td>NaN</td>\n",
       "    </tr>\n",
       "    <tr>\n",
       "      <th>1</th>\n",
       "      <td>2014-08-27 11:29:37</td>\n",
       "      <td>44</td>\n",
       "      <td>M</td>\n",
       "      <td>United States</td>\n",
       "      <td>IN</td>\n",
       "      <td>NaN</td>\n",
       "      <td>No</td>\n",
       "      <td>No</td>\n",
       "      <td>Rarely</td>\n",
       "      <td>More than 1000</td>\n",
       "      <td>...</td>\n",
       "      <td>Don't know</td>\n",
       "      <td>Maybe</td>\n",
       "      <td>No</td>\n",
       "      <td>No</td>\n",
       "      <td>No</td>\n",
       "      <td>No</td>\n",
       "      <td>No</td>\n",
       "      <td>Don't know</td>\n",
       "      <td>No</td>\n",
       "      <td>NaN</td>\n",
       "    </tr>\n",
       "    <tr>\n",
       "      <th>2</th>\n",
       "      <td>2014-08-27 11:29:44</td>\n",
       "      <td>32</td>\n",
       "      <td>Male</td>\n",
       "      <td>Canada</td>\n",
       "      <td>NaN</td>\n",
       "      <td>NaN</td>\n",
       "      <td>No</td>\n",
       "      <td>No</td>\n",
       "      <td>Rarely</td>\n",
       "      <td>6-25</td>\n",
       "      <td>...</td>\n",
       "      <td>Somewhat difficult</td>\n",
       "      <td>No</td>\n",
       "      <td>No</td>\n",
       "      <td>Yes</td>\n",
       "      <td>Yes</td>\n",
       "      <td>Yes</td>\n",
       "      <td>Yes</td>\n",
       "      <td>No</td>\n",
       "      <td>No</td>\n",
       "      <td>NaN</td>\n",
       "    </tr>\n",
       "    <tr>\n",
       "      <th>3</th>\n",
       "      <td>2014-08-27 11:29:46</td>\n",
       "      <td>31</td>\n",
       "      <td>Male</td>\n",
       "      <td>United Kingdom</td>\n",
       "      <td>NaN</td>\n",
       "      <td>NaN</td>\n",
       "      <td>Yes</td>\n",
       "      <td>Yes</td>\n",
       "      <td>Often</td>\n",
       "      <td>26-100</td>\n",
       "      <td>...</td>\n",
       "      <td>Somewhat difficult</td>\n",
       "      <td>Yes</td>\n",
       "      <td>Yes</td>\n",
       "      <td>Some of them</td>\n",
       "      <td>No</td>\n",
       "      <td>Maybe</td>\n",
       "      <td>Maybe</td>\n",
       "      <td>No</td>\n",
       "      <td>Yes</td>\n",
       "      <td>NaN</td>\n",
       "    </tr>\n",
       "    <tr>\n",
       "      <th>4</th>\n",
       "      <td>2014-08-27 11:30:22</td>\n",
       "      <td>31</td>\n",
       "      <td>Male</td>\n",
       "      <td>United States</td>\n",
       "      <td>TX</td>\n",
       "      <td>NaN</td>\n",
       "      <td>No</td>\n",
       "      <td>No</td>\n",
       "      <td>Never</td>\n",
       "      <td>100-500</td>\n",
       "      <td>...</td>\n",
       "      <td>Don't know</td>\n",
       "      <td>No</td>\n",
       "      <td>No</td>\n",
       "      <td>Some of them</td>\n",
       "      <td>Yes</td>\n",
       "      <td>Yes</td>\n",
       "      <td>Yes</td>\n",
       "      <td>Don't know</td>\n",
       "      <td>No</td>\n",
       "      <td>NaN</td>\n",
       "    </tr>\n",
       "  </tbody>\n",
       "</table>\n",
       "<p>5 rows × 27 columns</p>\n",
       "</div>"
      ],
      "text/plain": [
       "             Timestamp  Age  Gender         Country state self_employed  \\\n",
       "0  2014-08-27 11:29:31   37  Female   United States    IL           NaN   \n",
       "1  2014-08-27 11:29:37   44       M   United States    IN           NaN   \n",
       "2  2014-08-27 11:29:44   32    Male          Canada   NaN           NaN   \n",
       "3  2014-08-27 11:29:46   31    Male  United Kingdom   NaN           NaN   \n",
       "4  2014-08-27 11:30:22   31    Male   United States    TX           NaN   \n",
       "\n",
       "  family_history treatment work_interfere    no_employees  ...  \\\n",
       "0             No       Yes          Often            6-25  ...   \n",
       "1             No        No         Rarely  More than 1000  ...   \n",
       "2             No        No         Rarely            6-25  ...   \n",
       "3            Yes       Yes          Often          26-100  ...   \n",
       "4             No        No          Never         100-500  ...   \n",
       "\n",
       "                leave mental_health_consequence phys_health_consequence  \\\n",
       "0       Somewhat easy                        No                      No   \n",
       "1          Don't know                     Maybe                      No   \n",
       "2  Somewhat difficult                        No                      No   \n",
       "3  Somewhat difficult                       Yes                     Yes   \n",
       "4          Don't know                        No                      No   \n",
       "\n",
       "      coworkers supervisor mental_health_interview phys_health_interview  \\\n",
       "0  Some of them        Yes                      No                 Maybe   \n",
       "1            No         No                      No                    No   \n",
       "2           Yes        Yes                     Yes                   Yes   \n",
       "3  Some of them         No                   Maybe                 Maybe   \n",
       "4  Some of them        Yes                     Yes                   Yes   \n",
       "\n",
       "  mental_vs_physical obs_consequence comments  \n",
       "0                Yes              No      NaN  \n",
       "1         Don't know              No      NaN  \n",
       "2                 No              No      NaN  \n",
       "3                 No             Yes      NaN  \n",
       "4         Don't know              No      NaN  \n",
       "\n",
       "[5 rows x 27 columns]"
      ]
     },
     "execution_count": 27,
     "metadata": {},
     "output_type": "execute_result"
    }
   ],
   "source": [
    "df.head()"
   ]
  },
  {
   "cell_type": "markdown",
   "metadata": {
    "colab_type": "text",
    "id": "PZLAWq-AVZ9y"
   },
   "source": [
    "If you want to look at a random sample, you can use .sample()"
   ]
  },
  {
   "cell_type": "code",
   "execution_count": 28,
   "metadata": {
    "colab": {},
    "colab_type": "code",
    "id": "ZTZNPV6vVZ9z",
    "outputId": "0c41c5a3-117a-4194-bdfa-2ac568d4a071"
   },
   "outputs": [
    {
     "data": {
      "text/html": [
       "<div>\n",
       "<style scoped>\n",
       "    .dataframe tbody tr th:only-of-type {\n",
       "        vertical-align: middle;\n",
       "    }\n",
       "\n",
       "    .dataframe tbody tr th {\n",
       "        vertical-align: top;\n",
       "    }\n",
       "\n",
       "    .dataframe thead th {\n",
       "        text-align: right;\n",
       "    }\n",
       "</style>\n",
       "<table border=\"1\" class=\"dataframe\">\n",
       "  <thead>\n",
       "    <tr style=\"text-align: right;\">\n",
       "      <th></th>\n",
       "      <th>Timestamp</th>\n",
       "      <th>Age</th>\n",
       "      <th>Gender</th>\n",
       "      <th>Country</th>\n",
       "      <th>state</th>\n",
       "      <th>self_employed</th>\n",
       "      <th>family_history</th>\n",
       "      <th>treatment</th>\n",
       "      <th>work_interfere</th>\n",
       "      <th>no_employees</th>\n",
       "      <th>...</th>\n",
       "      <th>leave</th>\n",
       "      <th>mental_health_consequence</th>\n",
       "      <th>phys_health_consequence</th>\n",
       "      <th>coworkers</th>\n",
       "      <th>supervisor</th>\n",
       "      <th>mental_health_interview</th>\n",
       "      <th>phys_health_interview</th>\n",
       "      <th>mental_vs_physical</th>\n",
       "      <th>obs_consequence</th>\n",
       "      <th>comments</th>\n",
       "    </tr>\n",
       "  </thead>\n",
       "  <tbody>\n",
       "    <tr>\n",
       "      <th>931</th>\n",
       "      <td>2014-08-28 21:47:33</td>\n",
       "      <td>34</td>\n",
       "      <td>male</td>\n",
       "      <td>United States</td>\n",
       "      <td>TX</td>\n",
       "      <td>No</td>\n",
       "      <td>No</td>\n",
       "      <td>No</td>\n",
       "      <td>Often</td>\n",
       "      <td>1-5</td>\n",
       "      <td>...</td>\n",
       "      <td>Very easy</td>\n",
       "      <td>No</td>\n",
       "      <td>No</td>\n",
       "      <td>Some of them</td>\n",
       "      <td>Yes</td>\n",
       "      <td>No</td>\n",
       "      <td>Maybe</td>\n",
       "      <td>Yes</td>\n",
       "      <td>No</td>\n",
       "      <td>* Small family business - YMMV.</td>\n",
       "    </tr>\n",
       "    <tr>\n",
       "      <th>130</th>\n",
       "      <td>2014-08-27 12:34:57</td>\n",
       "      <td>33</td>\n",
       "      <td>Male</td>\n",
       "      <td>United States</td>\n",
       "      <td>IL</td>\n",
       "      <td>No</td>\n",
       "      <td>Yes</td>\n",
       "      <td>Yes</td>\n",
       "      <td>Sometimes</td>\n",
       "      <td>More than 1000</td>\n",
       "      <td>...</td>\n",
       "      <td>Very easy</td>\n",
       "      <td>Maybe</td>\n",
       "      <td>No</td>\n",
       "      <td>Yes</td>\n",
       "      <td>Some of them</td>\n",
       "      <td>No</td>\n",
       "      <td>Yes</td>\n",
       "      <td>No</td>\n",
       "      <td>No</td>\n",
       "      <td>NaN</td>\n",
       "    </tr>\n",
       "    <tr>\n",
       "      <th>493</th>\n",
       "      <td>2014-08-27 16:25:26</td>\n",
       "      <td>24</td>\n",
       "      <td>Female</td>\n",
       "      <td>United States</td>\n",
       "      <td>CA</td>\n",
       "      <td>Yes</td>\n",
       "      <td>Yes</td>\n",
       "      <td>Yes</td>\n",
       "      <td>Sometimes</td>\n",
       "      <td>1-5</td>\n",
       "      <td>...</td>\n",
       "      <td>Don't know</td>\n",
       "      <td>No</td>\n",
       "      <td>No</td>\n",
       "      <td>Some of them</td>\n",
       "      <td>Some of them</td>\n",
       "      <td>No</td>\n",
       "      <td>No</td>\n",
       "      <td>Don't know</td>\n",
       "      <td>Yes</td>\n",
       "      <td>NaN</td>\n",
       "    </tr>\n",
       "    <tr>\n",
       "      <th>803</th>\n",
       "      <td>2014-08-28 13:41:51</td>\n",
       "      <td>30</td>\n",
       "      <td>Female</td>\n",
       "      <td>United States</td>\n",
       "      <td>CA</td>\n",
       "      <td>No</td>\n",
       "      <td>No</td>\n",
       "      <td>No</td>\n",
       "      <td>NaN</td>\n",
       "      <td>More than 1000</td>\n",
       "      <td>...</td>\n",
       "      <td>Very easy</td>\n",
       "      <td>No</td>\n",
       "      <td>No</td>\n",
       "      <td>Some of them</td>\n",
       "      <td>No</td>\n",
       "      <td>No</td>\n",
       "      <td>No</td>\n",
       "      <td>Yes</td>\n",
       "      <td>No</td>\n",
       "      <td>NaN</td>\n",
       "    </tr>\n",
       "    <tr>\n",
       "      <th>949</th>\n",
       "      <td>2014-08-29 00:43:37</td>\n",
       "      <td>40</td>\n",
       "      <td>Male</td>\n",
       "      <td>United States</td>\n",
       "      <td>WA</td>\n",
       "      <td>No</td>\n",
       "      <td>Yes</td>\n",
       "      <td>Yes</td>\n",
       "      <td>Sometimes</td>\n",
       "      <td>6-25</td>\n",
       "      <td>...</td>\n",
       "      <td>Very easy</td>\n",
       "      <td>Maybe</td>\n",
       "      <td>No</td>\n",
       "      <td>Some of them</td>\n",
       "      <td>Some of them</td>\n",
       "      <td>No</td>\n",
       "      <td>No</td>\n",
       "      <td>Don't know</td>\n",
       "      <td>No</td>\n",
       "      <td>NaN</td>\n",
       "    </tr>\n",
       "  </tbody>\n",
       "</table>\n",
       "<p>5 rows × 27 columns</p>\n",
       "</div>"
      ],
      "text/plain": [
       "               Timestamp  Age  Gender        Country state self_employed  \\\n",
       "931  2014-08-28 21:47:33   34    male  United States    TX            No   \n",
       "130  2014-08-27 12:34:57   33    Male  United States    IL            No   \n",
       "493  2014-08-27 16:25:26   24  Female  United States    CA           Yes   \n",
       "803  2014-08-28 13:41:51   30  Female  United States    CA            No   \n",
       "949  2014-08-29 00:43:37   40    Male  United States    WA            No   \n",
       "\n",
       "    family_history treatment work_interfere    no_employees  ...       leave  \\\n",
       "931             No        No          Often             1-5  ...   Very easy   \n",
       "130            Yes       Yes      Sometimes  More than 1000  ...   Very easy   \n",
       "493            Yes       Yes      Sometimes             1-5  ...  Don't know   \n",
       "803             No        No            NaN  More than 1000  ...   Very easy   \n",
       "949            Yes       Yes      Sometimes            6-25  ...   Very easy   \n",
       "\n",
       "    mental_health_consequence phys_health_consequence     coworkers  \\\n",
       "931                        No                      No  Some of them   \n",
       "130                     Maybe                      No           Yes   \n",
       "493                        No                      No  Some of them   \n",
       "803                        No                      No  Some of them   \n",
       "949                     Maybe                      No  Some of them   \n",
       "\n",
       "       supervisor mental_health_interview phys_health_interview  \\\n",
       "931           Yes                      No                 Maybe   \n",
       "130  Some of them                      No                   Yes   \n",
       "493  Some of them                      No                    No   \n",
       "803            No                      No                    No   \n",
       "949  Some of them                      No                    No   \n",
       "\n",
       "    mental_vs_physical obs_consequence                         comments  \n",
       "931                Yes              No  * Small family business - YMMV.  \n",
       "130                 No              No                              NaN  \n",
       "493         Don't know             Yes                              NaN  \n",
       "803                Yes              No                              NaN  \n",
       "949         Don't know              No                              NaN  \n",
       "\n",
       "[5 rows x 27 columns]"
      ]
     },
     "execution_count": 28,
     "metadata": {},
     "output_type": "execute_result"
    }
   ],
   "source": [
    "df.sample(5)"
   ]
  },
  {
   "cell_type": "markdown",
   "metadata": {
    "colab_type": "text",
    "id": "lVXzJKBwVZ93"
   },
   "source": [
    "Finally, you can get some basic information about the size and shape of the DataFrame:"
   ]
  },
  {
   "cell_type": "code",
   "execution_count": 29,
   "metadata": {
    "colab": {},
    "colab_type": "code",
    "id": "35wmK1eeVZ94",
    "outputId": "6d530143-54a5-49ef-bd13-74fbb6cbb257"
   },
   "outputs": [
    {
     "name": "stdout",
     "output_type": "stream",
     "text": [
      "The number of rows of the dataset is:  1259\n",
      "The number of columns of the dataset is:  27\n",
      "The shape of the dataset is:  (1259, 27)\n"
     ]
    }
   ],
   "source": [
    "print(\"The number of rows of the dataset is: \", len(df))\n",
    "print(\"The number of columns of the dataset is: \", len(df.columns))\n",
    "print(\"The shape of the dataset is: \", df.shape)"
   ]
  },
  {
   "cell_type": "markdown",
   "metadata": {
    "colab_type": "text",
    "id": "WM6QabC9VZ98"
   },
   "source": [
    "You can list the columns:\n"
   ]
  },
  {
   "cell_type": "code",
   "execution_count": 30,
   "metadata": {
    "colab": {},
    "colab_type": "code",
    "id": "Oz5UXsevVZ98",
    "outputId": "753c7815-7f15-47c5-887b-f2df74868924"
   },
   "outputs": [
    {
     "data": {
      "text/plain": [
       "Index(['Timestamp', 'Age', 'Gender', 'Country', 'state', 'self_employed',\n",
       "       'family_history', 'treatment', 'work_interfere', 'no_employees',\n",
       "       'remote_work', 'tech_company', 'benefits', 'care_options',\n",
       "       'wellness_program', 'seek_help', 'anonymity', 'leave',\n",
       "       'mental_health_consequence', 'phys_health_consequence', 'coworkers',\n",
       "       'supervisor', 'mental_health_interview', 'phys_health_interview',\n",
       "       'mental_vs_physical', 'obs_consequence', 'comments'],\n",
       "      dtype='object')"
      ]
     },
     "execution_count": 30,
     "metadata": {},
     "output_type": "execute_result"
    }
   ],
   "source": [
    "df.columns"
   ]
  },
  {
   "cell_type": "markdown",
   "metadata": {
    "colab_type": "text",
    "id": "MLVrG97_VZ-B"
   },
   "source": [
    "And you can extract one or more columns.  The following pair of \n",
    "commands do exactly the same thing:"
   ]
  },
  {
   "cell_type": "code",
   "execution_count": 31,
   "metadata": {
    "colab": {},
    "colab_type": "code",
    "id": "2HuKMyd3VZ-B",
    "outputId": "7c05d6db-55e9-4b0d-aea5-fe6282365fda"
   },
   "outputs": [
    {
     "name": "stdout",
     "output_type": "stream",
     "text": [
      "0        United States\n",
      "1        United States\n",
      "2               Canada\n",
      "3       United Kingdom\n",
      "4        United States\n",
      "             ...      \n",
      "1254    United Kingdom\n",
      "1255     United States\n",
      "1256     United States\n",
      "1257     United States\n",
      "1258     United States\n",
      "Name: Country, Length: 1259, dtype: object\n"
     ]
    }
   ],
   "source": [
    "print(df['Country'])"
   ]
  },
  {
   "cell_type": "code",
   "execution_count": 32,
   "metadata": {
    "colab": {},
    "colab_type": "code",
    "id": "sc5m2sFKVZ-H",
    "outputId": "fe857af6-702d-47f3-a0d3-e408bb9ac0dc"
   },
   "outputs": [
    {
     "data": {
      "text/html": [
       "<div>\n",
       "<style scoped>\n",
       "    .dataframe tbody tr th:only-of-type {\n",
       "        vertical-align: middle;\n",
       "    }\n",
       "\n",
       "    .dataframe tbody tr th {\n",
       "        vertical-align: top;\n",
       "    }\n",
       "\n",
       "    .dataframe thead th {\n",
       "        text-align: right;\n",
       "    }\n",
       "</style>\n",
       "<table border=\"1\" class=\"dataframe\">\n",
       "  <thead>\n",
       "    <tr style=\"text-align: right;\">\n",
       "      <th></th>\n",
       "      <th>Country</th>\n",
       "      <th>state</th>\n",
       "    </tr>\n",
       "  </thead>\n",
       "  <tbody>\n",
       "    <tr>\n",
       "      <th>0</th>\n",
       "      <td>United States</td>\n",
       "      <td>IL</td>\n",
       "    </tr>\n",
       "    <tr>\n",
       "      <th>1</th>\n",
       "      <td>United States</td>\n",
       "      <td>IN</td>\n",
       "    </tr>\n",
       "    <tr>\n",
       "      <th>2</th>\n",
       "      <td>Canada</td>\n",
       "      <td>NaN</td>\n",
       "    </tr>\n",
       "    <tr>\n",
       "      <th>3</th>\n",
       "      <td>United Kingdom</td>\n",
       "      <td>NaN</td>\n",
       "    </tr>\n",
       "    <tr>\n",
       "      <th>4</th>\n",
       "      <td>United States</td>\n",
       "      <td>TX</td>\n",
       "    </tr>\n",
       "  </tbody>\n",
       "</table>\n",
       "</div>"
      ],
      "text/plain": [
       "          Country state\n",
       "0   United States    IL\n",
       "1   United States    IN\n",
       "2          Canada   NaN\n",
       "3  United Kingdom   NaN\n",
       "4   United States    TX"
      ]
     },
     "execution_count": 32,
     "metadata": {},
     "output_type": "execute_result"
    }
   ],
   "source": [
    "country_state = df[['Country','state']]\n",
    "country_state.head()"
   ]
  },
  {
   "cell_type": "markdown",
   "metadata": {
    "colab_type": "text",
    "id": "sCdBNks5VZ-K"
   },
   "source": [
    "## Extracting rows"
   ]
  },
  {
   "cell_type": "code",
   "execution_count": 33,
   "metadata": {
    "colab": {},
    "colab_type": "code",
    "id": "yvJlk3mRVZ-K",
    "outputId": "15aedfc7-b423-4694-a4f7-f631479ba7cf"
   },
   "outputs": [
    {
     "data": {
      "text/plain": [
       "Timestamp                    2014-08-27 11:29:31\n",
       "Age                                           37\n",
       "Gender                                    Female\n",
       "Country                            United States\n",
       "state                                         IL\n",
       "self_employed                                NaN\n",
       "family_history                                No\n",
       "treatment                                    Yes\n",
       "work_interfere                             Often\n",
       "no_employees                                6-25\n",
       "remote_work                                   No\n",
       "tech_company                                 Yes\n",
       "benefits                                     Yes\n",
       "care_options                            Not sure\n",
       "wellness_program                              No\n",
       "seek_help                                    Yes\n",
       "anonymity                                    Yes\n",
       "leave                              Somewhat easy\n",
       "mental_health_consequence                     No\n",
       "phys_health_consequence                       No\n",
       "coworkers                           Some of them\n",
       "supervisor                                   Yes\n",
       "mental_health_interview                       No\n",
       "phys_health_interview                      Maybe\n",
       "mental_vs_physical                           Yes\n",
       "obs_consequence                               No\n",
       "comments                                     NaN\n",
       "Name: 0, dtype: object"
      ]
     },
     "execution_count": 33,
     "metadata": {},
     "output_type": "execute_result"
    }
   ],
   "source": [
    "df.iloc[0]"
   ]
  },
  {
   "cell_type": "code",
   "execution_count": 34,
   "metadata": {
    "colab": {},
    "colab_type": "code",
    "id": "t2ixMmwDVZ-P",
    "outputId": "b2faeb7e-e480-42d0-d38c-f5dc3b72cb37"
   },
   "outputs": [
    {
     "data": {
      "text/plain": [
       "Timestamp                    2014-08-27 11:29:31\n",
       "Age                                           37\n",
       "Gender                                    Female\n",
       "Country                            United States\n",
       "state                                         IL\n",
       "self_employed                                NaN\n",
       "family_history                                No\n",
       "treatment                                    Yes\n",
       "work_interfere                             Often\n",
       "no_employees                                6-25\n",
       "remote_work                                   No\n",
       "tech_company                                 Yes\n",
       "benefits                                     Yes\n",
       "care_options                            Not sure\n",
       "wellness_program                              No\n",
       "seek_help                                    Yes\n",
       "anonymity                                    Yes\n",
       "leave                              Somewhat easy\n",
       "mental_health_consequence                     No\n",
       "phys_health_consequence                       No\n",
       "coworkers                           Some of them\n",
       "supervisor                                   Yes\n",
       "mental_health_interview                       No\n",
       "phys_health_interview                      Maybe\n",
       "mental_vs_physical                           Yes\n",
       "obs_consequence                               No\n",
       "comments                                     NaN\n",
       "Name: 0, dtype: object"
      ]
     },
     "execution_count": 34,
     "metadata": {},
     "output_type": "execute_result"
    }
   ],
   "source": [
    "df.loc[0]"
   ]
  },
  {
   "cell_type": "code",
   "execution_count": 35,
   "metadata": {
    "colab": {},
    "colab_type": "code",
    "id": "DjG0tSoNVZ-S"
   },
   "outputs": [],
   "source": [
    "df_gender = df.set_index('Gender')"
   ]
  },
  {
   "cell_type": "code",
   "execution_count": 36,
   "metadata": {
    "colab": {},
    "colab_type": "code",
    "id": "UpkWJyHGVZ-U",
    "outputId": "f17d6766-c2fe-46d0-c746-e4c657792cf3"
   },
   "outputs": [
    {
     "data": {
      "text/html": [
       "<div>\n",
       "<style scoped>\n",
       "    .dataframe tbody tr th:only-of-type {\n",
       "        vertical-align: middle;\n",
       "    }\n",
       "\n",
       "    .dataframe tbody tr th {\n",
       "        vertical-align: top;\n",
       "    }\n",
       "\n",
       "    .dataframe thead th {\n",
       "        text-align: right;\n",
       "    }\n",
       "</style>\n",
       "<table border=\"1\" class=\"dataframe\">\n",
       "  <thead>\n",
       "    <tr style=\"text-align: right;\">\n",
       "      <th></th>\n",
       "      <th>Timestamp</th>\n",
       "      <th>Age</th>\n",
       "      <th>Country</th>\n",
       "      <th>state</th>\n",
       "      <th>self_employed</th>\n",
       "      <th>family_history</th>\n",
       "      <th>treatment</th>\n",
       "      <th>work_interfere</th>\n",
       "      <th>no_employees</th>\n",
       "      <th>remote_work</th>\n",
       "      <th>...</th>\n",
       "      <th>leave</th>\n",
       "      <th>mental_health_consequence</th>\n",
       "      <th>phys_health_consequence</th>\n",
       "      <th>coworkers</th>\n",
       "      <th>supervisor</th>\n",
       "      <th>mental_health_interview</th>\n",
       "      <th>phys_health_interview</th>\n",
       "      <th>mental_vs_physical</th>\n",
       "      <th>obs_consequence</th>\n",
       "      <th>comments</th>\n",
       "    </tr>\n",
       "    <tr>\n",
       "      <th>Gender</th>\n",
       "      <th></th>\n",
       "      <th></th>\n",
       "      <th></th>\n",
       "      <th></th>\n",
       "      <th></th>\n",
       "      <th></th>\n",
       "      <th></th>\n",
       "      <th></th>\n",
       "      <th></th>\n",
       "      <th></th>\n",
       "      <th></th>\n",
       "      <th></th>\n",
       "      <th></th>\n",
       "      <th></th>\n",
       "      <th></th>\n",
       "      <th></th>\n",
       "      <th></th>\n",
       "      <th></th>\n",
       "      <th></th>\n",
       "      <th></th>\n",
       "      <th></th>\n",
       "    </tr>\n",
       "  </thead>\n",
       "  <tbody>\n",
       "    <tr>\n",
       "      <th>Male</th>\n",
       "      <td>2014-08-27 11:29:44</td>\n",
       "      <td>32</td>\n",
       "      <td>Canada</td>\n",
       "      <td>NaN</td>\n",
       "      <td>NaN</td>\n",
       "      <td>No</td>\n",
       "      <td>No</td>\n",
       "      <td>Rarely</td>\n",
       "      <td>6-25</td>\n",
       "      <td>No</td>\n",
       "      <td>...</td>\n",
       "      <td>Somewhat difficult</td>\n",
       "      <td>No</td>\n",
       "      <td>No</td>\n",
       "      <td>Yes</td>\n",
       "      <td>Yes</td>\n",
       "      <td>Yes</td>\n",
       "      <td>Yes</td>\n",
       "      <td>No</td>\n",
       "      <td>No</td>\n",
       "      <td>NaN</td>\n",
       "    </tr>\n",
       "    <tr>\n",
       "      <th>Male</th>\n",
       "      <td>2014-08-27 11:29:46</td>\n",
       "      <td>31</td>\n",
       "      <td>United Kingdom</td>\n",
       "      <td>NaN</td>\n",
       "      <td>NaN</td>\n",
       "      <td>Yes</td>\n",
       "      <td>Yes</td>\n",
       "      <td>Often</td>\n",
       "      <td>26-100</td>\n",
       "      <td>No</td>\n",
       "      <td>...</td>\n",
       "      <td>Somewhat difficult</td>\n",
       "      <td>Yes</td>\n",
       "      <td>Yes</td>\n",
       "      <td>Some of them</td>\n",
       "      <td>No</td>\n",
       "      <td>Maybe</td>\n",
       "      <td>Maybe</td>\n",
       "      <td>No</td>\n",
       "      <td>Yes</td>\n",
       "      <td>NaN</td>\n",
       "    </tr>\n",
       "    <tr>\n",
       "      <th>Male</th>\n",
       "      <td>2014-08-27 11:30:22</td>\n",
       "      <td>31</td>\n",
       "      <td>United States</td>\n",
       "      <td>TX</td>\n",
       "      <td>NaN</td>\n",
       "      <td>No</td>\n",
       "      <td>No</td>\n",
       "      <td>Never</td>\n",
       "      <td>100-500</td>\n",
       "      <td>Yes</td>\n",
       "      <td>...</td>\n",
       "      <td>Don't know</td>\n",
       "      <td>No</td>\n",
       "      <td>No</td>\n",
       "      <td>Some of them</td>\n",
       "      <td>Yes</td>\n",
       "      <td>Yes</td>\n",
       "      <td>Yes</td>\n",
       "      <td>Don't know</td>\n",
       "      <td>No</td>\n",
       "      <td>NaN</td>\n",
       "    </tr>\n",
       "    <tr>\n",
       "      <th>Male</th>\n",
       "      <td>2014-08-27 11:31:22</td>\n",
       "      <td>33</td>\n",
       "      <td>United States</td>\n",
       "      <td>TN</td>\n",
       "      <td>NaN</td>\n",
       "      <td>Yes</td>\n",
       "      <td>No</td>\n",
       "      <td>Sometimes</td>\n",
       "      <td>6-25</td>\n",
       "      <td>No</td>\n",
       "      <td>...</td>\n",
       "      <td>Don't know</td>\n",
       "      <td>No</td>\n",
       "      <td>No</td>\n",
       "      <td>Yes</td>\n",
       "      <td>Yes</td>\n",
       "      <td>No</td>\n",
       "      <td>Maybe</td>\n",
       "      <td>Don't know</td>\n",
       "      <td>No</td>\n",
       "      <td>NaN</td>\n",
       "    </tr>\n",
       "    <tr>\n",
       "      <th>Male</th>\n",
       "      <td>2014-08-27 11:32:43</td>\n",
       "      <td>23</td>\n",
       "      <td>Canada</td>\n",
       "      <td>NaN</td>\n",
       "      <td>NaN</td>\n",
       "      <td>No</td>\n",
       "      <td>No</td>\n",
       "      <td>Never</td>\n",
       "      <td>26-100</td>\n",
       "      <td>No</td>\n",
       "      <td>...</td>\n",
       "      <td>Don't know</td>\n",
       "      <td>No</td>\n",
       "      <td>No</td>\n",
       "      <td>Yes</td>\n",
       "      <td>Yes</td>\n",
       "      <td>Maybe</td>\n",
       "      <td>Maybe</td>\n",
       "      <td>Yes</td>\n",
       "      <td>No</td>\n",
       "      <td>NaN</td>\n",
       "    </tr>\n",
       "    <tr>\n",
       "      <th>...</th>\n",
       "      <td>...</td>\n",
       "      <td>...</td>\n",
       "      <td>...</td>\n",
       "      <td>...</td>\n",
       "      <td>...</td>\n",
       "      <td>...</td>\n",
       "      <td>...</td>\n",
       "      <td>...</td>\n",
       "      <td>...</td>\n",
       "      <td>...</td>\n",
       "      <td>...</td>\n",
       "      <td>...</td>\n",
       "      <td>...</td>\n",
       "      <td>...</td>\n",
       "      <td>...</td>\n",
       "      <td>...</td>\n",
       "      <td>...</td>\n",
       "      <td>...</td>\n",
       "      <td>...</td>\n",
       "      <td>...</td>\n",
       "      <td>...</td>\n",
       "    </tr>\n",
       "    <tr>\n",
       "      <th>Male</th>\n",
       "      <td>2015-07-27 23:25:34</td>\n",
       "      <td>30</td>\n",
       "      <td>United States</td>\n",
       "      <td>CA</td>\n",
       "      <td>Yes</td>\n",
       "      <td>Yes</td>\n",
       "      <td>Yes</td>\n",
       "      <td>Often</td>\n",
       "      <td>26-100</td>\n",
       "      <td>No</td>\n",
       "      <td>...</td>\n",
       "      <td>Don't know</td>\n",
       "      <td>No</td>\n",
       "      <td>No</td>\n",
       "      <td>Some of them</td>\n",
       "      <td>Yes</td>\n",
       "      <td>Maybe</td>\n",
       "      <td>Maybe</td>\n",
       "      <td>Yes</td>\n",
       "      <td>No</td>\n",
       "      <td>NaN</td>\n",
       "    </tr>\n",
       "    <tr>\n",
       "      <th>Male</th>\n",
       "      <td>2015-08-17 09:38:35</td>\n",
       "      <td>36</td>\n",
       "      <td>South Africa</td>\n",
       "      <td>NaN</td>\n",
       "      <td>No</td>\n",
       "      <td>Yes</td>\n",
       "      <td>Yes</td>\n",
       "      <td>Often</td>\n",
       "      <td>100-500</td>\n",
       "      <td>No</td>\n",
       "      <td>...</td>\n",
       "      <td>Somewhat easy</td>\n",
       "      <td>No</td>\n",
       "      <td>No</td>\n",
       "      <td>Some of them</td>\n",
       "      <td>Yes</td>\n",
       "      <td>No</td>\n",
       "      <td>Yes</td>\n",
       "      <td>Yes</td>\n",
       "      <td>No</td>\n",
       "      <td>NaN</td>\n",
       "    </tr>\n",
       "    <tr>\n",
       "      <th>Male</th>\n",
       "      <td>2015-08-25 19:59:38</td>\n",
       "      <td>36</td>\n",
       "      <td>United States</td>\n",
       "      <td>UT</td>\n",
       "      <td>No</td>\n",
       "      <td>Yes</td>\n",
       "      <td>No</td>\n",
       "      <td>Rarely</td>\n",
       "      <td>More than 1000</td>\n",
       "      <td>No</td>\n",
       "      <td>...</td>\n",
       "      <td>Somewhat easy</td>\n",
       "      <td>Maybe</td>\n",
       "      <td>Maybe</td>\n",
       "      <td>Some of them</td>\n",
       "      <td>Some of them</td>\n",
       "      <td>No</td>\n",
       "      <td>No</td>\n",
       "      <td>Don't know</td>\n",
       "      <td>No</td>\n",
       "      <td>NaN</td>\n",
       "    </tr>\n",
       "    <tr>\n",
       "      <th>Male</th>\n",
       "      <td>2015-09-26 01:07:35</td>\n",
       "      <td>32</td>\n",
       "      <td>United States</td>\n",
       "      <td>IL</td>\n",
       "      <td>No</td>\n",
       "      <td>Yes</td>\n",
       "      <td>Yes</td>\n",
       "      <td>Often</td>\n",
       "      <td>26-100</td>\n",
       "      <td>Yes</td>\n",
       "      <td>...</td>\n",
       "      <td>Somewhat difficult</td>\n",
       "      <td>No</td>\n",
       "      <td>No</td>\n",
       "      <td>Some of them</td>\n",
       "      <td>Yes</td>\n",
       "      <td>No</td>\n",
       "      <td>No</td>\n",
       "      <td>Yes</td>\n",
       "      <td>No</td>\n",
       "      <td>NaN</td>\n",
       "    </tr>\n",
       "    <tr>\n",
       "      <th>Male</th>\n",
       "      <td>2016-02-01 23:04:31</td>\n",
       "      <td>25</td>\n",
       "      <td>United States</td>\n",
       "      <td>IL</td>\n",
       "      <td>No</td>\n",
       "      <td>Yes</td>\n",
       "      <td>Yes</td>\n",
       "      <td>Sometimes</td>\n",
       "      <td>26-100</td>\n",
       "      <td>No</td>\n",
       "      <td>...</td>\n",
       "      <td>Don't know</td>\n",
       "      <td>Maybe</td>\n",
       "      <td>No</td>\n",
       "      <td>Some of them</td>\n",
       "      <td>No</td>\n",
       "      <td>No</td>\n",
       "      <td>No</td>\n",
       "      <td>Don't know</td>\n",
       "      <td>No</td>\n",
       "      <td>NaN</td>\n",
       "    </tr>\n",
       "  </tbody>\n",
       "</table>\n",
       "<p>615 rows × 26 columns</p>\n",
       "</div>"
      ],
      "text/plain": [
       "                  Timestamp  Age         Country state self_employed  \\\n",
       "Gender                                                                 \n",
       "Male    2014-08-27 11:29:44   32          Canada   NaN           NaN   \n",
       "Male    2014-08-27 11:29:46   31  United Kingdom   NaN           NaN   \n",
       "Male    2014-08-27 11:30:22   31   United States    TX           NaN   \n",
       "Male    2014-08-27 11:31:22   33   United States    TN           NaN   \n",
       "Male    2014-08-27 11:32:43   23          Canada   NaN           NaN   \n",
       "...                     ...  ...             ...   ...           ...   \n",
       "Male    2015-07-27 23:25:34   30   United States    CA           Yes   \n",
       "Male    2015-08-17 09:38:35   36    South Africa   NaN            No   \n",
       "Male    2015-08-25 19:59:38   36   United States    UT            No   \n",
       "Male    2015-09-26 01:07:35   32   United States    IL            No   \n",
       "Male    2016-02-01 23:04:31   25   United States    IL            No   \n",
       "\n",
       "       family_history treatment work_interfere    no_employees remote_work  \\\n",
       "Gender                                                                       \n",
       "Male               No        No         Rarely            6-25          No   \n",
       "Male              Yes       Yes          Often          26-100          No   \n",
       "Male               No        No          Never         100-500         Yes   \n",
       "Male              Yes        No      Sometimes            6-25          No   \n",
       "Male               No        No          Never          26-100          No   \n",
       "...               ...       ...            ...             ...         ...   \n",
       "Male              Yes       Yes          Often          26-100          No   \n",
       "Male              Yes       Yes          Often         100-500          No   \n",
       "Male              Yes        No         Rarely  More than 1000          No   \n",
       "Male              Yes       Yes          Often          26-100         Yes   \n",
       "Male              Yes       Yes      Sometimes          26-100          No   \n",
       "\n",
       "        ...               leave mental_health_consequence  \\\n",
       "Gender  ...                                                 \n",
       "Male    ...  Somewhat difficult                        No   \n",
       "Male    ...  Somewhat difficult                       Yes   \n",
       "Male    ...          Don't know                        No   \n",
       "Male    ...          Don't know                        No   \n",
       "Male    ...          Don't know                        No   \n",
       "...     ...                 ...                       ...   \n",
       "Male    ...          Don't know                        No   \n",
       "Male    ...       Somewhat easy                        No   \n",
       "Male    ...       Somewhat easy                     Maybe   \n",
       "Male    ...  Somewhat difficult                        No   \n",
       "Male    ...          Don't know                     Maybe   \n",
       "\n",
       "       phys_health_consequence     coworkers    supervisor  \\\n",
       "Gender                                                       \n",
       "Male                        No           Yes           Yes   \n",
       "Male                       Yes  Some of them            No   \n",
       "Male                        No  Some of them           Yes   \n",
       "Male                        No           Yes           Yes   \n",
       "Male                        No           Yes           Yes   \n",
       "...                        ...           ...           ...   \n",
       "Male                        No  Some of them           Yes   \n",
       "Male                        No  Some of them           Yes   \n",
       "Male                     Maybe  Some of them  Some of them   \n",
       "Male                        No  Some of them           Yes   \n",
       "Male                        No  Some of them            No   \n",
       "\n",
       "       mental_health_interview phys_health_interview mental_vs_physical  \\\n",
       "Gender                                                                    \n",
       "Male                       Yes                   Yes                 No   \n",
       "Male                     Maybe                 Maybe                 No   \n",
       "Male                       Yes                   Yes         Don't know   \n",
       "Male                        No                 Maybe         Don't know   \n",
       "Male                     Maybe                 Maybe                Yes   \n",
       "...                        ...                   ...                ...   \n",
       "Male                     Maybe                 Maybe                Yes   \n",
       "Male                        No                   Yes                Yes   \n",
       "Male                        No                    No         Don't know   \n",
       "Male                        No                    No                Yes   \n",
       "Male                        No                    No         Don't know   \n",
       "\n",
       "       obs_consequence comments  \n",
       "Gender                           \n",
       "Male                No      NaN  \n",
       "Male               Yes      NaN  \n",
       "Male                No      NaN  \n",
       "Male                No      NaN  \n",
       "Male                No      NaN  \n",
       "...                ...      ...  \n",
       "Male                No      NaN  \n",
       "Male                No      NaN  \n",
       "Male                No      NaN  \n",
       "Male                No      NaN  \n",
       "Male                No      NaN  \n",
       "\n",
       "[615 rows x 26 columns]"
      ]
     },
     "execution_count": 36,
     "metadata": {},
     "output_type": "execute_result"
    }
   ],
   "source": [
    "df_gender.loc['Male']\n"
   ]
  },
  {
   "cell_type": "code",
   "execution_count": 37,
   "metadata": {
    "colab": {},
    "colab_type": "code",
    "id": "vQx4rzahVZ-a",
    "outputId": "95d2d95a-2888-4284-93f6-dd1673f1b429"
   },
   "outputs": [
    {
     "name": "stdout",
     "output_type": "stream",
     "text": [
      "Traceback (most recent call last):\n",
      "  File \"<ipython-input-37-3a2b04f682b6>\", line 3, in <module>\n",
      "    df.iloc['Gender'] # generates error\n",
      "  File \"c:\\python\\lib\\site-packages\\pandas\\core\\indexing.py\", line 895, in __getitem__\n",
      "    return self._getitem_axis(maybe_callable, axis=axis)\n",
      "  File \"c:\\python\\lib\\site-packages\\pandas\\core\\indexing.py\", line 1498, in _getitem_axis\n",
      "    raise TypeError(\"Cannot index by location index with a non-integer key\")\n",
      "TypeError: Cannot index by location index with a non-integer key\n",
      "\n"
     ]
    }
   ],
   "source": [
    "import traceback\n",
    "try:\n",
    "    df.iloc['Gender'] # generates error\n",
    "except TypeError as e:\n",
    "    print(traceback.format_exc())"
   ]
  },
  {
   "cell_type": "code",
   "execution_count": 38,
   "metadata": {
    "colab": {},
    "colab_type": "code",
    "id": "Y5gxfBo5VZ-c",
    "outputId": "fe806a10-ebfc-49a8-eb38-3b17ed407ca2"
   },
   "outputs": [
    {
     "data": {
      "text/plain": [
       "Timestamp                    2014-08-27 11:29:31\n",
       "Age                                           37\n",
       "Gender                                    Female\n",
       "Country                            United States\n",
       "state                                         IL\n",
       "self_employed                                NaN\n",
       "family_history                                No\n",
       "treatment                                    Yes\n",
       "work_interfere                             Often\n",
       "no_employees                                6-25\n",
       "remote_work                                   No\n",
       "tech_company                                 Yes\n",
       "benefits                                     Yes\n",
       "care_options                            Not sure\n",
       "wellness_program                              No\n",
       "seek_help                                    Yes\n",
       "anonymity                                    Yes\n",
       "leave                              Somewhat easy\n",
       "mental_health_consequence                     No\n",
       "phys_health_consequence                       No\n",
       "coworkers                           Some of them\n",
       "supervisor                                   Yes\n",
       "mental_health_interview                       No\n",
       "phys_health_interview                      Maybe\n",
       "mental_vs_physical                           Yes\n",
       "obs_consequence                               No\n",
       "comments                                     NaN\n",
       "Name: 0, dtype: object"
      ]
     },
     "execution_count": 38,
     "metadata": {},
     "output_type": "execute_result"
    }
   ],
   "source": [
    "df.iloc[0]"
   ]
  },
  {
   "cell_type": "markdown",
   "metadata": {
    "colab_type": "text",
    "id": "zBjjcPHZVZ-i"
   },
   "source": [
    "## Sorting\n",
    "You can use either sort_values() or sort_index():\n"
   ]
  },
  {
   "cell_type": "code",
   "execution_count": 39,
   "metadata": {
    "colab": {},
    "colab_type": "code",
    "id": "2TQQb4fkVZ-i",
    "outputId": "d52d4824-f7f5-41ea-ff1e-2f460b2d1277"
   },
   "outputs": [
    {
     "data": {
      "text/html": [
       "<div>\n",
       "<style scoped>\n",
       "    .dataframe tbody tr th:only-of-type {\n",
       "        vertical-align: middle;\n",
       "    }\n",
       "\n",
       "    .dataframe tbody tr th {\n",
       "        vertical-align: top;\n",
       "    }\n",
       "\n",
       "    .dataframe thead th {\n",
       "        text-align: right;\n",
       "    }\n",
       "</style>\n",
       "<table border=\"1\" class=\"dataframe\">\n",
       "  <thead>\n",
       "    <tr style=\"text-align: right;\">\n",
       "      <th></th>\n",
       "      <th>Timestamp</th>\n",
       "      <th>Age</th>\n",
       "      <th>Gender</th>\n",
       "      <th>Country</th>\n",
       "      <th>state</th>\n",
       "      <th>self_employed</th>\n",
       "      <th>family_history</th>\n",
       "      <th>treatment</th>\n",
       "      <th>work_interfere</th>\n",
       "      <th>no_employees</th>\n",
       "      <th>...</th>\n",
       "      <th>leave</th>\n",
       "      <th>mental_health_consequence</th>\n",
       "      <th>phys_health_consequence</th>\n",
       "      <th>coworkers</th>\n",
       "      <th>supervisor</th>\n",
       "      <th>mental_health_interview</th>\n",
       "      <th>phys_health_interview</th>\n",
       "      <th>mental_vs_physical</th>\n",
       "      <th>obs_consequence</th>\n",
       "      <th>comments</th>\n",
       "    </tr>\n",
       "  </thead>\n",
       "  <tbody>\n",
       "    <tr>\n",
       "      <th>715</th>\n",
       "      <td>2014-08-28 10:07:53</td>\n",
       "      <td>-1726</td>\n",
       "      <td>male</td>\n",
       "      <td>United Kingdom</td>\n",
       "      <td>NaN</td>\n",
       "      <td>No</td>\n",
       "      <td>No</td>\n",
       "      <td>Yes</td>\n",
       "      <td>Sometimes</td>\n",
       "      <td>26-100</td>\n",
       "      <td>...</td>\n",
       "      <td>Somewhat difficult</td>\n",
       "      <td>Yes</td>\n",
       "      <td>No</td>\n",
       "      <td>No</td>\n",
       "      <td>No</td>\n",
       "      <td>No</td>\n",
       "      <td>Maybe</td>\n",
       "      <td>Don't know</td>\n",
       "      <td>No</td>\n",
       "      <td>NaN</td>\n",
       "    </tr>\n",
       "    <tr>\n",
       "      <th>143</th>\n",
       "      <td>2014-08-27 12:39:14</td>\n",
       "      <td>-29</td>\n",
       "      <td>Male</td>\n",
       "      <td>United States</td>\n",
       "      <td>MN</td>\n",
       "      <td>No</td>\n",
       "      <td>No</td>\n",
       "      <td>No</td>\n",
       "      <td>NaN</td>\n",
       "      <td>More than 1000</td>\n",
       "      <td>...</td>\n",
       "      <td>Don't know</td>\n",
       "      <td>No</td>\n",
       "      <td>No</td>\n",
       "      <td>Some of them</td>\n",
       "      <td>Yes</td>\n",
       "      <td>No</td>\n",
       "      <td>No</td>\n",
       "      <td>Don't know</td>\n",
       "      <td>No</td>\n",
       "      <td>NaN</td>\n",
       "    </tr>\n",
       "    <tr>\n",
       "      <th>1127</th>\n",
       "      <td>2014-08-30 20:55:11</td>\n",
       "      <td>-1</td>\n",
       "      <td>p</td>\n",
       "      <td>United States</td>\n",
       "      <td>AL</td>\n",
       "      <td>Yes</td>\n",
       "      <td>Yes</td>\n",
       "      <td>Yes</td>\n",
       "      <td>Often</td>\n",
       "      <td>1-5</td>\n",
       "      <td>...</td>\n",
       "      <td>Very easy</td>\n",
       "      <td>Yes</td>\n",
       "      <td>Yes</td>\n",
       "      <td>Yes</td>\n",
       "      <td>Yes</td>\n",
       "      <td>Yes</td>\n",
       "      <td>Yes</td>\n",
       "      <td>Yes</td>\n",
       "      <td>Yes</td>\n",
       "      <td>password: testered</td>\n",
       "    </tr>\n",
       "    <tr>\n",
       "      <th>734</th>\n",
       "      <td>2014-08-28 10:35:55</td>\n",
       "      <td>5</td>\n",
       "      <td>Male</td>\n",
       "      <td>United States</td>\n",
       "      <td>OH</td>\n",
       "      <td>No</td>\n",
       "      <td>No</td>\n",
       "      <td>No</td>\n",
       "      <td>NaN</td>\n",
       "      <td>100-500</td>\n",
       "      <td>...</td>\n",
       "      <td>Somewhat easy</td>\n",
       "      <td>No</td>\n",
       "      <td>No</td>\n",
       "      <td>Yes</td>\n",
       "      <td>Yes</td>\n",
       "      <td>No</td>\n",
       "      <td>No</td>\n",
       "      <td>Yes</td>\n",
       "      <td>No</td>\n",
       "      <td>We had a developer suffer from depression and ...</td>\n",
       "    </tr>\n",
       "    <tr>\n",
       "      <th>989</th>\n",
       "      <td>2014-08-29 09:10:58</td>\n",
       "      <td>8</td>\n",
       "      <td>A little about you</td>\n",
       "      <td>Bahamas, The</td>\n",
       "      <td>IL</td>\n",
       "      <td>Yes</td>\n",
       "      <td>Yes</td>\n",
       "      <td>Yes</td>\n",
       "      <td>Often</td>\n",
       "      <td>1-5</td>\n",
       "      <td>...</td>\n",
       "      <td>Very easy</td>\n",
       "      <td>Yes</td>\n",
       "      <td>Yes</td>\n",
       "      <td>Yes</td>\n",
       "      <td>Yes</td>\n",
       "      <td>Yes</td>\n",
       "      <td>Yes</td>\n",
       "      <td>Yes</td>\n",
       "      <td>Yes</td>\n",
       "      <td></td>\n",
       "    </tr>\n",
       "    <tr>\n",
       "      <th>1090</th>\n",
       "      <td>2014-08-29 17:26:15</td>\n",
       "      <td>11</td>\n",
       "      <td>male</td>\n",
       "      <td>United States</td>\n",
       "      <td>OH</td>\n",
       "      <td>Yes</td>\n",
       "      <td>No</td>\n",
       "      <td>No</td>\n",
       "      <td>Never</td>\n",
       "      <td>1-5</td>\n",
       "      <td>...</td>\n",
       "      <td>Very easy</td>\n",
       "      <td>No</td>\n",
       "      <td>No</td>\n",
       "      <td>Some of them</td>\n",
       "      <td>Some of them</td>\n",
       "      <td>No</td>\n",
       "      <td>Maybe</td>\n",
       "      <td>Yes</td>\n",
       "      <td>No</td>\n",
       "      <td>NaN</td>\n",
       "    </tr>\n",
       "    <tr>\n",
       "      <th>282</th>\n",
       "      <td>2014-08-27 14:10:15</td>\n",
       "      <td>18</td>\n",
       "      <td>male</td>\n",
       "      <td>United States</td>\n",
       "      <td>TX</td>\n",
       "      <td>No</td>\n",
       "      <td>No</td>\n",
       "      <td>Yes</td>\n",
       "      <td>Sometimes</td>\n",
       "      <td>6-25</td>\n",
       "      <td>...</td>\n",
       "      <td>Don't know</td>\n",
       "      <td>Yes</td>\n",
       "      <td>No</td>\n",
       "      <td>No</td>\n",
       "      <td>No</td>\n",
       "      <td>No</td>\n",
       "      <td>Maybe</td>\n",
       "      <td>Don't know</td>\n",
       "      <td>No</td>\n",
       "      <td>NaN</td>\n",
       "    </tr>\n",
       "    <tr>\n",
       "      <th>287</th>\n",
       "      <td>2014-08-27 14:11:55</td>\n",
       "      <td>18</td>\n",
       "      <td>Male</td>\n",
       "      <td>United States</td>\n",
       "      <td>WA</td>\n",
       "      <td>No</td>\n",
       "      <td>No</td>\n",
       "      <td>No</td>\n",
       "      <td>Never</td>\n",
       "      <td>26-100</td>\n",
       "      <td>...</td>\n",
       "      <td>Very easy</td>\n",
       "      <td>No</td>\n",
       "      <td>No</td>\n",
       "      <td>Some of them</td>\n",
       "      <td>Some of them</td>\n",
       "      <td>No</td>\n",
       "      <td>Maybe</td>\n",
       "      <td>Yes</td>\n",
       "      <td>No</td>\n",
       "      <td>NaN</td>\n",
       "    </tr>\n",
       "    <tr>\n",
       "      <th>43</th>\n",
       "      <td>2014-08-27 11:43:10</td>\n",
       "      <td>18</td>\n",
       "      <td>Male</td>\n",
       "      <td>Netherlands</td>\n",
       "      <td>NaN</td>\n",
       "      <td>No</td>\n",
       "      <td>No</td>\n",
       "      <td>No</td>\n",
       "      <td>Often</td>\n",
       "      <td>6-25</td>\n",
       "      <td>...</td>\n",
       "      <td>Somewhat difficult</td>\n",
       "      <td>Yes</td>\n",
       "      <td>Maybe</td>\n",
       "      <td>No</td>\n",
       "      <td>Some of them</td>\n",
       "      <td>No</td>\n",
       "      <td>No</td>\n",
       "      <td>No</td>\n",
       "      <td>No</td>\n",
       "      <td>NaN</td>\n",
       "    </tr>\n",
       "    <tr>\n",
       "      <th>482</th>\n",
       "      <td>2014-08-27 16:19:05</td>\n",
       "      <td>18</td>\n",
       "      <td>Female</td>\n",
       "      <td>United Kingdom</td>\n",
       "      <td>NaN</td>\n",
       "      <td>No</td>\n",
       "      <td>Yes</td>\n",
       "      <td>Yes</td>\n",
       "      <td>Sometimes</td>\n",
       "      <td>1-5</td>\n",
       "      <td>...</td>\n",
       "      <td>Don't know</td>\n",
       "      <td>Maybe</td>\n",
       "      <td>Maybe</td>\n",
       "      <td>Some of them</td>\n",
       "      <td>Some of them</td>\n",
       "      <td>Maybe</td>\n",
       "      <td>Maybe</td>\n",
       "      <td>Don't know</td>\n",
       "      <td>No</td>\n",
       "      <td>I don't have a job :D</td>\n",
       "    </tr>\n",
       "  </tbody>\n",
       "</table>\n",
       "<p>10 rows × 27 columns</p>\n",
       "</div>"
      ],
      "text/plain": [
       "                Timestamp   Age              Gender         Country state  \\\n",
       "715   2014-08-28 10:07:53 -1726                male  United Kingdom   NaN   \n",
       "143   2014-08-27 12:39:14   -29                Male   United States    MN   \n",
       "1127  2014-08-30 20:55:11    -1                   p   United States    AL   \n",
       "734   2014-08-28 10:35:55     5                Male   United States    OH   \n",
       "989   2014-08-29 09:10:58     8  A little about you    Bahamas, The    IL   \n",
       "1090  2014-08-29 17:26:15    11                male   United States    OH   \n",
       "282   2014-08-27 14:10:15    18                male   United States    TX   \n",
       "287   2014-08-27 14:11:55    18                Male   United States    WA   \n",
       "43    2014-08-27 11:43:10    18                Male     Netherlands   NaN   \n",
       "482   2014-08-27 16:19:05    18              Female  United Kingdom   NaN   \n",
       "\n",
       "     self_employed family_history treatment work_interfere    no_employees  \\\n",
       "715             No             No       Yes      Sometimes          26-100   \n",
       "143             No             No        No            NaN  More than 1000   \n",
       "1127           Yes            Yes       Yes          Often             1-5   \n",
       "734             No             No        No            NaN         100-500   \n",
       "989            Yes            Yes       Yes          Often             1-5   \n",
       "1090           Yes             No        No          Never             1-5   \n",
       "282             No             No       Yes      Sometimes            6-25   \n",
       "287             No             No        No          Never          26-100   \n",
       "43              No             No        No          Often            6-25   \n",
       "482             No            Yes       Yes      Sometimes             1-5   \n",
       "\n",
       "      ...               leave mental_health_consequence  \\\n",
       "715   ...  Somewhat difficult                       Yes   \n",
       "143   ...          Don't know                        No   \n",
       "1127  ...           Very easy                       Yes   \n",
       "734   ...       Somewhat easy                        No   \n",
       "989   ...           Very easy                       Yes   \n",
       "1090  ...           Very easy                        No   \n",
       "282   ...          Don't know                       Yes   \n",
       "287   ...           Very easy                        No   \n",
       "43    ...  Somewhat difficult                       Yes   \n",
       "482   ...          Don't know                     Maybe   \n",
       "\n",
       "     phys_health_consequence     coworkers    supervisor  \\\n",
       "715                       No            No            No   \n",
       "143                       No  Some of them           Yes   \n",
       "1127                     Yes           Yes           Yes   \n",
       "734                       No           Yes           Yes   \n",
       "989                      Yes           Yes           Yes   \n",
       "1090                      No  Some of them  Some of them   \n",
       "282                       No            No            No   \n",
       "287                       No  Some of them  Some of them   \n",
       "43                     Maybe            No  Some of them   \n",
       "482                    Maybe  Some of them  Some of them   \n",
       "\n",
       "     mental_health_interview phys_health_interview mental_vs_physical  \\\n",
       "715                       No                 Maybe         Don't know   \n",
       "143                       No                    No         Don't know   \n",
       "1127                     Yes                   Yes                Yes   \n",
       "734                       No                    No                Yes   \n",
       "989                      Yes                   Yes                Yes   \n",
       "1090                      No                 Maybe                Yes   \n",
       "282                       No                 Maybe         Don't know   \n",
       "287                       No                 Maybe                Yes   \n",
       "43                        No                    No                 No   \n",
       "482                    Maybe                 Maybe         Don't know   \n",
       "\n",
       "     obs_consequence                                           comments  \n",
       "715               No                                                NaN  \n",
       "143               No                                                NaN  \n",
       "1127             Yes                                 password: testered  \n",
       "734               No  We had a developer suffer from depression and ...  \n",
       "989              Yes                                                     \n",
       "1090              No                                                NaN  \n",
       "282               No                                                NaN  \n",
       "287               No                                                NaN  \n",
       "43                No                                                NaN  \n",
       "482               No                              I don't have a job :D  \n",
       "\n",
       "[10 rows x 27 columns]"
      ]
     },
     "execution_count": 39,
     "metadata": {},
     "output_type": "execute_result"
    }
   ],
   "source": [
    "df_sorted = df.sort_values('Age')\n",
    "df_sorted.head(10)"
   ]
  },
  {
   "cell_type": "markdown",
   "metadata": {
    "colab_type": "text",
    "id": "1Kx8cgRcVZ-n"
   },
   "source": [
    "## Filtering using Boolean Masking"
   ]
  },
  {
   "cell_type": "code",
   "execution_count": 40,
   "metadata": {},
   "outputs": [
    {
     "data": {
      "text/plain": [
       "0       37\n",
       "1       44\n",
       "2       32\n",
       "3       31\n",
       "4       31\n",
       "        ..\n",
       "1254    26\n",
       "1255    32\n",
       "1256    34\n",
       "1257    46\n",
       "1258    25\n",
       "Name: Age, Length: 1259, dtype: int64"
      ]
     },
     "execution_count": 40,
     "metadata": {},
     "output_type": "execute_result"
    }
   ],
   "source": [
    "df.Age"
   ]
  },
  {
   "cell_type": "code",
   "execution_count": 41,
   "metadata": {},
   "outputs": [
    {
     "data": {
      "text/plain": [
       "0       False\n",
       "1        True\n",
       "2       False\n",
       "3       False\n",
       "4       False\n",
       "        ...  \n",
       "1254    False\n",
       "1255    False\n",
       "1256    False\n",
       "1257     True\n",
       "1258    False\n",
       "Name: Age, Length: 1259, dtype: bool"
      ]
     },
     "execution_count": 41,
     "metadata": {},
     "output_type": "execute_result"
    }
   ],
   "source": [
    "df['Age'] > 40"
   ]
  },
  {
   "cell_type": "code",
   "execution_count": 42,
   "metadata": {},
   "outputs": [
    {
     "data": {
      "text/html": [
       "<div>\n",
       "<style scoped>\n",
       "    .dataframe tbody tr th:only-of-type {\n",
       "        vertical-align: middle;\n",
       "    }\n",
       "\n",
       "    .dataframe tbody tr th {\n",
       "        vertical-align: top;\n",
       "    }\n",
       "\n",
       "    .dataframe thead th {\n",
       "        text-align: right;\n",
       "    }\n",
       "</style>\n",
       "<table border=\"1\" class=\"dataframe\">\n",
       "  <thead>\n",
       "    <tr style=\"text-align: right;\">\n",
       "      <th></th>\n",
       "      <th>Timestamp</th>\n",
       "      <th>Age</th>\n",
       "      <th>Gender</th>\n",
       "      <th>Country</th>\n",
       "      <th>state</th>\n",
       "      <th>self_employed</th>\n",
       "      <th>family_history</th>\n",
       "      <th>treatment</th>\n",
       "      <th>work_interfere</th>\n",
       "      <th>no_employees</th>\n",
       "      <th>...</th>\n",
       "      <th>leave</th>\n",
       "      <th>mental_health_consequence</th>\n",
       "      <th>phys_health_consequence</th>\n",
       "      <th>coworkers</th>\n",
       "      <th>supervisor</th>\n",
       "      <th>mental_health_interview</th>\n",
       "      <th>phys_health_interview</th>\n",
       "      <th>mental_vs_physical</th>\n",
       "      <th>obs_consequence</th>\n",
       "      <th>comments</th>\n",
       "    </tr>\n",
       "  </thead>\n",
       "  <tbody>\n",
       "    <tr>\n",
       "      <th>0</th>\n",
       "      <td>2014-08-27 11:29:31</td>\n",
       "      <td>37</td>\n",
       "      <td>Female</td>\n",
       "      <td>United States</td>\n",
       "      <td>IL</td>\n",
       "      <td>NaN</td>\n",
       "      <td>No</td>\n",
       "      <td>Yes</td>\n",
       "      <td>Often</td>\n",
       "      <td>6-25</td>\n",
       "      <td>...</td>\n",
       "      <td>Somewhat easy</td>\n",
       "      <td>No</td>\n",
       "      <td>No</td>\n",
       "      <td>Some of them</td>\n",
       "      <td>Yes</td>\n",
       "      <td>No</td>\n",
       "      <td>Maybe</td>\n",
       "      <td>Yes</td>\n",
       "      <td>No</td>\n",
       "      <td>NaN</td>\n",
       "    </tr>\n",
       "    <tr>\n",
       "      <th>1</th>\n",
       "      <td>2014-08-27 11:29:37</td>\n",
       "      <td>44</td>\n",
       "      <td>M</td>\n",
       "      <td>United States</td>\n",
       "      <td>IN</td>\n",
       "      <td>NaN</td>\n",
       "      <td>No</td>\n",
       "      <td>No</td>\n",
       "      <td>Rarely</td>\n",
       "      <td>More than 1000</td>\n",
       "      <td>...</td>\n",
       "      <td>Don't know</td>\n",
       "      <td>Maybe</td>\n",
       "      <td>No</td>\n",
       "      <td>No</td>\n",
       "      <td>No</td>\n",
       "      <td>No</td>\n",
       "      <td>No</td>\n",
       "      <td>Don't know</td>\n",
       "      <td>No</td>\n",
       "      <td>NaN</td>\n",
       "    </tr>\n",
       "    <tr>\n",
       "      <th>2</th>\n",
       "      <td>2014-08-27 11:29:44</td>\n",
       "      <td>32</td>\n",
       "      <td>Male</td>\n",
       "      <td>Canada</td>\n",
       "      <td>NaN</td>\n",
       "      <td>NaN</td>\n",
       "      <td>No</td>\n",
       "      <td>No</td>\n",
       "      <td>Rarely</td>\n",
       "      <td>6-25</td>\n",
       "      <td>...</td>\n",
       "      <td>Somewhat difficult</td>\n",
       "      <td>No</td>\n",
       "      <td>No</td>\n",
       "      <td>Yes</td>\n",
       "      <td>Yes</td>\n",
       "      <td>Yes</td>\n",
       "      <td>Yes</td>\n",
       "      <td>No</td>\n",
       "      <td>No</td>\n",
       "      <td>NaN</td>\n",
       "    </tr>\n",
       "    <tr>\n",
       "      <th>3</th>\n",
       "      <td>2014-08-27 11:29:46</td>\n",
       "      <td>31</td>\n",
       "      <td>Male</td>\n",
       "      <td>United Kingdom</td>\n",
       "      <td>NaN</td>\n",
       "      <td>NaN</td>\n",
       "      <td>Yes</td>\n",
       "      <td>Yes</td>\n",
       "      <td>Often</td>\n",
       "      <td>26-100</td>\n",
       "      <td>...</td>\n",
       "      <td>Somewhat difficult</td>\n",
       "      <td>Yes</td>\n",
       "      <td>Yes</td>\n",
       "      <td>Some of them</td>\n",
       "      <td>No</td>\n",
       "      <td>Maybe</td>\n",
       "      <td>Maybe</td>\n",
       "      <td>No</td>\n",
       "      <td>Yes</td>\n",
       "      <td>NaN</td>\n",
       "    </tr>\n",
       "    <tr>\n",
       "      <th>4</th>\n",
       "      <td>2014-08-27 11:30:22</td>\n",
       "      <td>31</td>\n",
       "      <td>Male</td>\n",
       "      <td>United States</td>\n",
       "      <td>TX</td>\n",
       "      <td>NaN</td>\n",
       "      <td>No</td>\n",
       "      <td>No</td>\n",
       "      <td>Never</td>\n",
       "      <td>100-500</td>\n",
       "      <td>...</td>\n",
       "      <td>Don't know</td>\n",
       "      <td>No</td>\n",
       "      <td>No</td>\n",
       "      <td>Some of them</td>\n",
       "      <td>Yes</td>\n",
       "      <td>Yes</td>\n",
       "      <td>Yes</td>\n",
       "      <td>Don't know</td>\n",
       "      <td>No</td>\n",
       "      <td>NaN</td>\n",
       "    </tr>\n",
       "    <tr>\n",
       "      <th>...</th>\n",
       "      <td>...</td>\n",
       "      <td>...</td>\n",
       "      <td>...</td>\n",
       "      <td>...</td>\n",
       "      <td>...</td>\n",
       "      <td>...</td>\n",
       "      <td>...</td>\n",
       "      <td>...</td>\n",
       "      <td>...</td>\n",
       "      <td>...</td>\n",
       "      <td>...</td>\n",
       "      <td>...</td>\n",
       "      <td>...</td>\n",
       "      <td>...</td>\n",
       "      <td>...</td>\n",
       "      <td>...</td>\n",
       "      <td>...</td>\n",
       "      <td>...</td>\n",
       "      <td>...</td>\n",
       "      <td>...</td>\n",
       "      <td>...</td>\n",
       "    </tr>\n",
       "    <tr>\n",
       "      <th>1254</th>\n",
       "      <td>2015-09-12 11:17:21</td>\n",
       "      <td>26</td>\n",
       "      <td>male</td>\n",
       "      <td>United Kingdom</td>\n",
       "      <td>NaN</td>\n",
       "      <td>No</td>\n",
       "      <td>No</td>\n",
       "      <td>Yes</td>\n",
       "      <td>NaN</td>\n",
       "      <td>26-100</td>\n",
       "      <td>...</td>\n",
       "      <td>Somewhat easy</td>\n",
       "      <td>No</td>\n",
       "      <td>No</td>\n",
       "      <td>Some of them</td>\n",
       "      <td>Some of them</td>\n",
       "      <td>No</td>\n",
       "      <td>No</td>\n",
       "      <td>Don't know</td>\n",
       "      <td>No</td>\n",
       "      <td>NaN</td>\n",
       "    </tr>\n",
       "    <tr>\n",
       "      <th>1255</th>\n",
       "      <td>2015-09-26 01:07:35</td>\n",
       "      <td>32</td>\n",
       "      <td>Male</td>\n",
       "      <td>United States</td>\n",
       "      <td>IL</td>\n",
       "      <td>No</td>\n",
       "      <td>Yes</td>\n",
       "      <td>Yes</td>\n",
       "      <td>Often</td>\n",
       "      <td>26-100</td>\n",
       "      <td>...</td>\n",
       "      <td>Somewhat difficult</td>\n",
       "      <td>No</td>\n",
       "      <td>No</td>\n",
       "      <td>Some of them</td>\n",
       "      <td>Yes</td>\n",
       "      <td>No</td>\n",
       "      <td>No</td>\n",
       "      <td>Yes</td>\n",
       "      <td>No</td>\n",
       "      <td>NaN</td>\n",
       "    </tr>\n",
       "    <tr>\n",
       "      <th>1256</th>\n",
       "      <td>2015-11-07 12:36:58</td>\n",
       "      <td>34</td>\n",
       "      <td>male</td>\n",
       "      <td>United States</td>\n",
       "      <td>CA</td>\n",
       "      <td>No</td>\n",
       "      <td>Yes</td>\n",
       "      <td>Yes</td>\n",
       "      <td>Sometimes</td>\n",
       "      <td>More than 1000</td>\n",
       "      <td>...</td>\n",
       "      <td>Somewhat difficult</td>\n",
       "      <td>Yes</td>\n",
       "      <td>Yes</td>\n",
       "      <td>No</td>\n",
       "      <td>No</td>\n",
       "      <td>No</td>\n",
       "      <td>No</td>\n",
       "      <td>No</td>\n",
       "      <td>No</td>\n",
       "      <td>NaN</td>\n",
       "    </tr>\n",
       "    <tr>\n",
       "      <th>1257</th>\n",
       "      <td>2015-11-30 21:25:06</td>\n",
       "      <td>46</td>\n",
       "      <td>f</td>\n",
       "      <td>United States</td>\n",
       "      <td>NC</td>\n",
       "      <td>No</td>\n",
       "      <td>No</td>\n",
       "      <td>No</td>\n",
       "      <td>NaN</td>\n",
       "      <td>100-500</td>\n",
       "      <td>...</td>\n",
       "      <td>Don't know</td>\n",
       "      <td>Yes</td>\n",
       "      <td>No</td>\n",
       "      <td>No</td>\n",
       "      <td>No</td>\n",
       "      <td>No</td>\n",
       "      <td>No</td>\n",
       "      <td>No</td>\n",
       "      <td>No</td>\n",
       "      <td>NaN</td>\n",
       "    </tr>\n",
       "    <tr>\n",
       "      <th>1258</th>\n",
       "      <td>2016-02-01 23:04:31</td>\n",
       "      <td>25</td>\n",
       "      <td>Male</td>\n",
       "      <td>United States</td>\n",
       "      <td>IL</td>\n",
       "      <td>No</td>\n",
       "      <td>Yes</td>\n",
       "      <td>Yes</td>\n",
       "      <td>Sometimes</td>\n",
       "      <td>26-100</td>\n",
       "      <td>...</td>\n",
       "      <td>Don't know</td>\n",
       "      <td>Maybe</td>\n",
       "      <td>No</td>\n",
       "      <td>Some of them</td>\n",
       "      <td>No</td>\n",
       "      <td>No</td>\n",
       "      <td>No</td>\n",
       "      <td>Don't know</td>\n",
       "      <td>No</td>\n",
       "      <td>NaN</td>\n",
       "    </tr>\n",
       "  </tbody>\n",
       "</table>\n",
       "<p>1256 rows × 27 columns</p>\n",
       "</div>"
      ],
      "text/plain": [
       "                Timestamp  Age  Gender         Country state self_employed  \\\n",
       "0     2014-08-27 11:29:31   37  Female   United States    IL           NaN   \n",
       "1     2014-08-27 11:29:37   44       M   United States    IN           NaN   \n",
       "2     2014-08-27 11:29:44   32    Male          Canada   NaN           NaN   \n",
       "3     2014-08-27 11:29:46   31    Male  United Kingdom   NaN           NaN   \n",
       "4     2014-08-27 11:30:22   31    Male   United States    TX           NaN   \n",
       "...                   ...  ...     ...             ...   ...           ...   \n",
       "1254  2015-09-12 11:17:21   26    male  United Kingdom   NaN            No   \n",
       "1255  2015-09-26 01:07:35   32    Male   United States    IL            No   \n",
       "1256  2015-11-07 12:36:58   34    male   United States    CA            No   \n",
       "1257  2015-11-30 21:25:06   46       f   United States    NC            No   \n",
       "1258  2016-02-01 23:04:31   25    Male   United States    IL            No   \n",
       "\n",
       "     family_history treatment work_interfere    no_employees  ...  \\\n",
       "0                No       Yes          Often            6-25  ...   \n",
       "1                No        No         Rarely  More than 1000  ...   \n",
       "2                No        No         Rarely            6-25  ...   \n",
       "3               Yes       Yes          Often          26-100  ...   \n",
       "4                No        No          Never         100-500  ...   \n",
       "...             ...       ...            ...             ...  ...   \n",
       "1254             No       Yes            NaN          26-100  ...   \n",
       "1255            Yes       Yes          Often          26-100  ...   \n",
       "1256            Yes       Yes      Sometimes  More than 1000  ...   \n",
       "1257             No        No            NaN         100-500  ...   \n",
       "1258            Yes       Yes      Sometimes          26-100  ...   \n",
       "\n",
       "                   leave mental_health_consequence phys_health_consequence  \\\n",
       "0          Somewhat easy                        No                      No   \n",
       "1             Don't know                     Maybe                      No   \n",
       "2     Somewhat difficult                        No                      No   \n",
       "3     Somewhat difficult                       Yes                     Yes   \n",
       "4             Don't know                        No                      No   \n",
       "...                  ...                       ...                     ...   \n",
       "1254       Somewhat easy                        No                      No   \n",
       "1255  Somewhat difficult                        No                      No   \n",
       "1256  Somewhat difficult                       Yes                     Yes   \n",
       "1257          Don't know                       Yes                      No   \n",
       "1258          Don't know                     Maybe                      No   \n",
       "\n",
       "         coworkers    supervisor mental_health_interview  \\\n",
       "0     Some of them           Yes                      No   \n",
       "1               No            No                      No   \n",
       "2              Yes           Yes                     Yes   \n",
       "3     Some of them            No                   Maybe   \n",
       "4     Some of them           Yes                     Yes   \n",
       "...            ...           ...                     ...   \n",
       "1254  Some of them  Some of them                      No   \n",
       "1255  Some of them           Yes                      No   \n",
       "1256            No            No                      No   \n",
       "1257            No            No                      No   \n",
       "1258  Some of them            No                      No   \n",
       "\n",
       "     phys_health_interview mental_vs_physical obs_consequence comments  \n",
       "0                    Maybe                Yes              No      NaN  \n",
       "1                       No         Don't know              No      NaN  \n",
       "2                      Yes                 No              No      NaN  \n",
       "3                    Maybe                 No             Yes      NaN  \n",
       "4                      Yes         Don't know              No      NaN  \n",
       "...                    ...                ...             ...      ...  \n",
       "1254                    No         Don't know              No      NaN  \n",
       "1255                    No                Yes              No      NaN  \n",
       "1256                    No                 No              No      NaN  \n",
       "1257                    No                 No              No      NaN  \n",
       "1258                    No         Don't know              No      NaN  \n",
       "\n",
       "[1256 rows x 27 columns]"
      ]
     },
     "execution_count": 42,
     "metadata": {},
     "output_type": "execute_result"
    }
   ],
   "source": [
    "df[df['Age'] > 0]"
   ]
  },
  {
   "cell_type": "code",
   "execution_count": 43,
   "metadata": {},
   "outputs": [
    {
     "data": {
      "text/plain": [
       "0       False\n",
       "1        True\n",
       "2       False\n",
       "3       False\n",
       "4       False\n",
       "        ...  \n",
       "1254    False\n",
       "1255    False\n",
       "1256    False\n",
       "1257     True\n",
       "1258    False\n",
       "Name: Age, Length: 1259, dtype: bool"
      ]
     },
     "execution_count": 43,
     "metadata": {},
     "output_type": "execute_result"
    }
   ],
   "source": [
    "df['Age'] > 40"
   ]
  },
  {
   "cell_type": "code",
   "execution_count": 44,
   "metadata": {},
   "outputs": [
    {
     "data": {
      "text/html": [
       "<div>\n",
       "<style scoped>\n",
       "    .dataframe tbody tr th:only-of-type {\n",
       "        vertical-align: middle;\n",
       "    }\n",
       "\n",
       "    .dataframe tbody tr th {\n",
       "        vertical-align: top;\n",
       "    }\n",
       "\n",
       "    .dataframe thead th {\n",
       "        text-align: right;\n",
       "    }\n",
       "</style>\n",
       "<table border=\"1\" class=\"dataframe\">\n",
       "  <thead>\n",
       "    <tr style=\"text-align: right;\">\n",
       "      <th></th>\n",
       "      <th>Timestamp</th>\n",
       "      <th>Age</th>\n",
       "      <th>Gender</th>\n",
       "      <th>Country</th>\n",
       "      <th>state</th>\n",
       "      <th>self_employed</th>\n",
       "      <th>family_history</th>\n",
       "      <th>treatment</th>\n",
       "      <th>work_interfere</th>\n",
       "      <th>no_employees</th>\n",
       "      <th>...</th>\n",
       "      <th>leave</th>\n",
       "      <th>mental_health_consequence</th>\n",
       "      <th>phys_health_consequence</th>\n",
       "      <th>coworkers</th>\n",
       "      <th>supervisor</th>\n",
       "      <th>mental_health_interview</th>\n",
       "      <th>phys_health_interview</th>\n",
       "      <th>mental_vs_physical</th>\n",
       "      <th>obs_consequence</th>\n",
       "      <th>comments</th>\n",
       "    </tr>\n",
       "  </thead>\n",
       "  <tbody>\n",
       "    <tr>\n",
       "      <th>1</th>\n",
       "      <td>2014-08-27 11:29:37</td>\n",
       "      <td>44</td>\n",
       "      <td>M</td>\n",
       "      <td>United States</td>\n",
       "      <td>IN</td>\n",
       "      <td>NaN</td>\n",
       "      <td>No</td>\n",
       "      <td>No</td>\n",
       "      <td>Rarely</td>\n",
       "      <td>More than 1000</td>\n",
       "      <td>...</td>\n",
       "      <td>Don't know</td>\n",
       "      <td>Maybe</td>\n",
       "      <td>No</td>\n",
       "      <td>No</td>\n",
       "      <td>No</td>\n",
       "      <td>No</td>\n",
       "      <td>No</td>\n",
       "      <td>Don't know</td>\n",
       "      <td>No</td>\n",
       "      <td>NaN</td>\n",
       "    </tr>\n",
       "    <tr>\n",
       "      <th>8</th>\n",
       "      <td>2014-08-27 11:32:39</td>\n",
       "      <td>42</td>\n",
       "      <td>Female</td>\n",
       "      <td>United States</td>\n",
       "      <td>IL</td>\n",
       "      <td>NaN</td>\n",
       "      <td>Yes</td>\n",
       "      <td>Yes</td>\n",
       "      <td>Sometimes</td>\n",
       "      <td>100-500</td>\n",
       "      <td>...</td>\n",
       "      <td>Very difficult</td>\n",
       "      <td>Maybe</td>\n",
       "      <td>No</td>\n",
       "      <td>Yes</td>\n",
       "      <td>Yes</td>\n",
       "      <td>No</td>\n",
       "      <td>Maybe</td>\n",
       "      <td>No</td>\n",
       "      <td>No</td>\n",
       "      <td>NaN</td>\n",
       "    </tr>\n",
       "    <tr>\n",
       "      <th>12</th>\n",
       "      <td>2014-08-27 11:33:23</td>\n",
       "      <td>42</td>\n",
       "      <td>female</td>\n",
       "      <td>United States</td>\n",
       "      <td>CA</td>\n",
       "      <td>NaN</td>\n",
       "      <td>Yes</td>\n",
       "      <td>Yes</td>\n",
       "      <td>Sometimes</td>\n",
       "      <td>26-100</td>\n",
       "      <td>...</td>\n",
       "      <td>Somewhat difficult</td>\n",
       "      <td>Yes</td>\n",
       "      <td>Yes</td>\n",
       "      <td>Yes</td>\n",
       "      <td>Yes</td>\n",
       "      <td>Maybe</td>\n",
       "      <td>Maybe</td>\n",
       "      <td>No</td>\n",
       "      <td>Yes</td>\n",
       "      <td>NaN</td>\n",
       "    </tr>\n",
       "    <tr>\n",
       "      <th>18</th>\n",
       "      <td>2014-08-27 11:34:53</td>\n",
       "      <td>46</td>\n",
       "      <td>male</td>\n",
       "      <td>United States</td>\n",
       "      <td>MD</td>\n",
       "      <td>Yes</td>\n",
       "      <td>Yes</td>\n",
       "      <td>No</td>\n",
       "      <td>Sometimes</td>\n",
       "      <td>1-5</td>\n",
       "      <td>...</td>\n",
       "      <td>Very easy</td>\n",
       "      <td>No</td>\n",
       "      <td>No</td>\n",
       "      <td>Yes</td>\n",
       "      <td>Yes</td>\n",
       "      <td>No</td>\n",
       "      <td>Yes</td>\n",
       "      <td>Yes</td>\n",
       "      <td>Yes</td>\n",
       "      <td>NaN</td>\n",
       "    </tr>\n",
       "    <tr>\n",
       "      <th>22</th>\n",
       "      <td>2014-08-27 11:35:48</td>\n",
       "      <td>46</td>\n",
       "      <td>Male</td>\n",
       "      <td>United States</td>\n",
       "      <td>MA</td>\n",
       "      <td>No</td>\n",
       "      <td>No</td>\n",
       "      <td>Yes</td>\n",
       "      <td>Often</td>\n",
       "      <td>26-100</td>\n",
       "      <td>...</td>\n",
       "      <td>Don't know</td>\n",
       "      <td>Maybe</td>\n",
       "      <td>No</td>\n",
       "      <td>Some of them</td>\n",
       "      <td>Yes</td>\n",
       "      <td>No</td>\n",
       "      <td>Maybe</td>\n",
       "      <td>No</td>\n",
       "      <td>No</td>\n",
       "      <td>NaN</td>\n",
       "    </tr>\n",
       "    <tr>\n",
       "      <th>...</th>\n",
       "      <td>...</td>\n",
       "      <td>...</td>\n",
       "      <td>...</td>\n",
       "      <td>...</td>\n",
       "      <td>...</td>\n",
       "      <td>...</td>\n",
       "      <td>...</td>\n",
       "      <td>...</td>\n",
       "      <td>...</td>\n",
       "      <td>...</td>\n",
       "      <td>...</td>\n",
       "      <td>...</td>\n",
       "      <td>...</td>\n",
       "      <td>...</td>\n",
       "      <td>...</td>\n",
       "      <td>...</td>\n",
       "      <td>...</td>\n",
       "      <td>...</td>\n",
       "      <td>...</td>\n",
       "      <td>...</td>\n",
       "      <td>...</td>\n",
       "    </tr>\n",
       "    <tr>\n",
       "      <th>1222</th>\n",
       "      <td>2015-02-21 11:48:52</td>\n",
       "      <td>41</td>\n",
       "      <td>female</td>\n",
       "      <td>Netherlands</td>\n",
       "      <td>NaN</td>\n",
       "      <td>Yes</td>\n",
       "      <td>No</td>\n",
       "      <td>Yes</td>\n",
       "      <td>Rarely</td>\n",
       "      <td>1-5</td>\n",
       "      <td>...</td>\n",
       "      <td>Somewhat easy</td>\n",
       "      <td>No</td>\n",
       "      <td>No</td>\n",
       "      <td>Yes</td>\n",
       "      <td>Yes</td>\n",
       "      <td>Yes</td>\n",
       "      <td>Yes</td>\n",
       "      <td>Yes</td>\n",
       "      <td>No</td>\n",
       "      <td>The data will be skewed for self-employed peop...</td>\n",
       "    </tr>\n",
       "    <tr>\n",
       "      <th>1236</th>\n",
       "      <td>2015-02-24 10:32:32</td>\n",
       "      <td>60</td>\n",
       "      <td>Male</td>\n",
       "      <td>United States</td>\n",
       "      <td>CA</td>\n",
       "      <td>No</td>\n",
       "      <td>No</td>\n",
       "      <td>Yes</td>\n",
       "      <td>Often</td>\n",
       "      <td>More than 1000</td>\n",
       "      <td>...</td>\n",
       "      <td>Somewhat easy</td>\n",
       "      <td>Maybe</td>\n",
       "      <td>Maybe</td>\n",
       "      <td>Some of them</td>\n",
       "      <td>No</td>\n",
       "      <td>No</td>\n",
       "      <td>Maybe</td>\n",
       "      <td>Don't know</td>\n",
       "      <td>No</td>\n",
       "      <td>NaN</td>\n",
       "    </tr>\n",
       "    <tr>\n",
       "      <th>1243</th>\n",
       "      <td>2015-05-05 14:22:18</td>\n",
       "      <td>43</td>\n",
       "      <td>f</td>\n",
       "      <td>United States</td>\n",
       "      <td>FL</td>\n",
       "      <td>No</td>\n",
       "      <td>Yes</td>\n",
       "      <td>Yes</td>\n",
       "      <td>Rarely</td>\n",
       "      <td>More than 1000</td>\n",
       "      <td>...</td>\n",
       "      <td>Don't know</td>\n",
       "      <td>No</td>\n",
       "      <td>No</td>\n",
       "      <td>Some of them</td>\n",
       "      <td>Yes</td>\n",
       "      <td>No</td>\n",
       "      <td>No</td>\n",
       "      <td>Don't know</td>\n",
       "      <td>No</td>\n",
       "      <td>NaN</td>\n",
       "    </tr>\n",
       "    <tr>\n",
       "      <th>1248</th>\n",
       "      <td>2015-06-25 12:24:31</td>\n",
       "      <td>41</td>\n",
       "      <td>Female</td>\n",
       "      <td>United States</td>\n",
       "      <td>WA</td>\n",
       "      <td>No</td>\n",
       "      <td>Yes</td>\n",
       "      <td>Yes</td>\n",
       "      <td>Sometimes</td>\n",
       "      <td>26-100</td>\n",
       "      <td>...</td>\n",
       "      <td>Don't know</td>\n",
       "      <td>Yes</td>\n",
       "      <td>Maybe</td>\n",
       "      <td>No</td>\n",
       "      <td>No</td>\n",
       "      <td>No</td>\n",
       "      <td>No</td>\n",
       "      <td>Don't know</td>\n",
       "      <td>No</td>\n",
       "      <td>NaN</td>\n",
       "    </tr>\n",
       "    <tr>\n",
       "      <th>1257</th>\n",
       "      <td>2015-11-30 21:25:06</td>\n",
       "      <td>46</td>\n",
       "      <td>f</td>\n",
       "      <td>United States</td>\n",
       "      <td>NC</td>\n",
       "      <td>No</td>\n",
       "      <td>No</td>\n",
       "      <td>No</td>\n",
       "      <td>NaN</td>\n",
       "      <td>100-500</td>\n",
       "      <td>...</td>\n",
       "      <td>Don't know</td>\n",
       "      <td>Yes</td>\n",
       "      <td>No</td>\n",
       "      <td>No</td>\n",
       "      <td>No</td>\n",
       "      <td>No</td>\n",
       "      <td>No</td>\n",
       "      <td>No</td>\n",
       "      <td>No</td>\n",
       "      <td>NaN</td>\n",
       "    </tr>\n",
       "  </tbody>\n",
       "</table>\n",
       "<p>150 rows × 27 columns</p>\n",
       "</div>"
      ],
      "text/plain": [
       "                Timestamp  Age  Gender        Country state self_employed  \\\n",
       "1     2014-08-27 11:29:37   44       M  United States    IN           NaN   \n",
       "8     2014-08-27 11:32:39   42  Female  United States    IL           NaN   \n",
       "12    2014-08-27 11:33:23   42  female  United States    CA           NaN   \n",
       "18    2014-08-27 11:34:53   46    male  United States    MD           Yes   \n",
       "22    2014-08-27 11:35:48   46    Male  United States    MA            No   \n",
       "...                   ...  ...     ...            ...   ...           ...   \n",
       "1222  2015-02-21 11:48:52   41  female    Netherlands   NaN           Yes   \n",
       "1236  2015-02-24 10:32:32   60    Male  United States    CA            No   \n",
       "1243  2015-05-05 14:22:18   43       f  United States    FL            No   \n",
       "1248  2015-06-25 12:24:31   41  Female  United States    WA            No   \n",
       "1257  2015-11-30 21:25:06   46       f  United States    NC            No   \n",
       "\n",
       "     family_history treatment work_interfere    no_employees  ...  \\\n",
       "1                No        No         Rarely  More than 1000  ...   \n",
       "8               Yes       Yes      Sometimes         100-500  ...   \n",
       "12              Yes       Yes      Sometimes          26-100  ...   \n",
       "18              Yes        No      Sometimes             1-5  ...   \n",
       "22               No       Yes          Often          26-100  ...   \n",
       "...             ...       ...            ...             ...  ...   \n",
       "1222             No       Yes         Rarely             1-5  ...   \n",
       "1236             No       Yes          Often  More than 1000  ...   \n",
       "1243            Yes       Yes         Rarely  More than 1000  ...   \n",
       "1248            Yes       Yes      Sometimes          26-100  ...   \n",
       "1257             No        No            NaN         100-500  ...   \n",
       "\n",
       "                   leave mental_health_consequence phys_health_consequence  \\\n",
       "1             Don't know                     Maybe                      No   \n",
       "8         Very difficult                     Maybe                      No   \n",
       "12    Somewhat difficult                       Yes                     Yes   \n",
       "18             Very easy                        No                      No   \n",
       "22            Don't know                     Maybe                      No   \n",
       "...                  ...                       ...                     ...   \n",
       "1222       Somewhat easy                        No                      No   \n",
       "1236       Somewhat easy                     Maybe                   Maybe   \n",
       "1243          Don't know                        No                      No   \n",
       "1248          Don't know                       Yes                   Maybe   \n",
       "1257          Don't know                       Yes                      No   \n",
       "\n",
       "         coworkers supervisor mental_health_interview phys_health_interview  \\\n",
       "1               No         No                      No                    No   \n",
       "8              Yes        Yes                      No                 Maybe   \n",
       "12             Yes        Yes                   Maybe                 Maybe   \n",
       "18             Yes        Yes                      No                   Yes   \n",
       "22    Some of them        Yes                      No                 Maybe   \n",
       "...            ...        ...                     ...                   ...   \n",
       "1222           Yes        Yes                     Yes                   Yes   \n",
       "1236  Some of them         No                      No                 Maybe   \n",
       "1243  Some of them        Yes                      No                    No   \n",
       "1248            No         No                      No                    No   \n",
       "1257            No         No                      No                    No   \n",
       "\n",
       "     mental_vs_physical obs_consequence  \\\n",
       "1            Don't know              No   \n",
       "8                    No              No   \n",
       "12                   No             Yes   \n",
       "18                  Yes             Yes   \n",
       "22                   No              No   \n",
       "...                 ...             ...   \n",
       "1222                Yes              No   \n",
       "1236         Don't know              No   \n",
       "1243         Don't know              No   \n",
       "1248         Don't know              No   \n",
       "1257                 No              No   \n",
       "\n",
       "                                               comments  \n",
       "1                                                   NaN  \n",
       "8                                                   NaN  \n",
       "12                                                  NaN  \n",
       "18                                                  NaN  \n",
       "22                                                  NaN  \n",
       "...                                                 ...  \n",
       "1222  The data will be skewed for self-employed peop...  \n",
       "1236                                                NaN  \n",
       "1243                                                NaN  \n",
       "1248                                                NaN  \n",
       "1257                                                NaN  \n",
       "\n",
       "[150 rows x 27 columns]"
      ]
     },
     "execution_count": 44,
     "metadata": {},
     "output_type": "execute_result"
    }
   ],
   "source": [
    "df[  df['Age'] > 40  ]"
   ]
  },
  {
   "cell_type": "markdown",
   "metadata": {
    "colab_type": "text",
    "id": "LiI5pI5HVZ-o"
   },
   "source": [
    "### Example: Find people who reported a family history of mental health conditions. </font>"
   ]
  },
  {
   "cell_type": "markdown",
   "metadata": {
    "colab_type": "text",
    "id": "Y9ny0e_TVZ-q"
   },
   "source": [
    "Solution:"
   ]
  },
  {
   "cell_type": "code",
   "execution_count": 45,
   "metadata": {
    "colab": {},
    "colab_type": "code",
    "id": "T_Op5bxLVZ-q",
    "outputId": "58dd3e60-d095-497d-e7f3-887cda3bf94b"
   },
   "outputs": [
    {
     "data": {
      "text/html": [
       "<div>\n",
       "<style scoped>\n",
       "    .dataframe tbody tr th:only-of-type {\n",
       "        vertical-align: middle;\n",
       "    }\n",
       "\n",
       "    .dataframe tbody tr th {\n",
       "        vertical-align: top;\n",
       "    }\n",
       "\n",
       "    .dataframe thead th {\n",
       "        text-align: right;\n",
       "    }\n",
       "</style>\n",
       "<table border=\"1\" class=\"dataframe\">\n",
       "  <thead>\n",
       "    <tr style=\"text-align: right;\">\n",
       "      <th></th>\n",
       "      <th>Timestamp</th>\n",
       "      <th>Age</th>\n",
       "      <th>Gender</th>\n",
       "      <th>Country</th>\n",
       "      <th>state</th>\n",
       "      <th>self_employed</th>\n",
       "      <th>family_history</th>\n",
       "      <th>treatment</th>\n",
       "      <th>work_interfere</th>\n",
       "      <th>no_employees</th>\n",
       "      <th>...</th>\n",
       "      <th>leave</th>\n",
       "      <th>mental_health_consequence</th>\n",
       "      <th>phys_health_consequence</th>\n",
       "      <th>coworkers</th>\n",
       "      <th>supervisor</th>\n",
       "      <th>mental_health_interview</th>\n",
       "      <th>phys_health_interview</th>\n",
       "      <th>mental_vs_physical</th>\n",
       "      <th>obs_consequence</th>\n",
       "      <th>comments</th>\n",
       "    </tr>\n",
       "  </thead>\n",
       "  <tbody>\n",
       "    <tr>\n",
       "      <th>1252</th>\n",
       "      <td>2015-08-20 16:52:09</td>\n",
       "      <td>29</td>\n",
       "      <td>male</td>\n",
       "      <td>United States</td>\n",
       "      <td>NC</td>\n",
       "      <td>No</td>\n",
       "      <td>Yes</td>\n",
       "      <td>Yes</td>\n",
       "      <td>Sometimes</td>\n",
       "      <td>100-500</td>\n",
       "      <td>...</td>\n",
       "      <td>Don't know</td>\n",
       "      <td>Yes</td>\n",
       "      <td>No</td>\n",
       "      <td>Some of them</td>\n",
       "      <td>No</td>\n",
       "      <td>No</td>\n",
       "      <td>Maybe</td>\n",
       "      <td>No</td>\n",
       "      <td>No</td>\n",
       "      <td>NaN</td>\n",
       "    </tr>\n",
       "    <tr>\n",
       "      <th>1253</th>\n",
       "      <td>2015-08-25 19:59:38</td>\n",
       "      <td>36</td>\n",
       "      <td>Male</td>\n",
       "      <td>United States</td>\n",
       "      <td>UT</td>\n",
       "      <td>No</td>\n",
       "      <td>Yes</td>\n",
       "      <td>No</td>\n",
       "      <td>Rarely</td>\n",
       "      <td>More than 1000</td>\n",
       "      <td>...</td>\n",
       "      <td>Somewhat easy</td>\n",
       "      <td>Maybe</td>\n",
       "      <td>Maybe</td>\n",
       "      <td>Some of them</td>\n",
       "      <td>Some of them</td>\n",
       "      <td>No</td>\n",
       "      <td>No</td>\n",
       "      <td>Don't know</td>\n",
       "      <td>No</td>\n",
       "      <td>NaN</td>\n",
       "    </tr>\n",
       "    <tr>\n",
       "      <th>1255</th>\n",
       "      <td>2015-09-26 01:07:35</td>\n",
       "      <td>32</td>\n",
       "      <td>Male</td>\n",
       "      <td>United States</td>\n",
       "      <td>IL</td>\n",
       "      <td>No</td>\n",
       "      <td>Yes</td>\n",
       "      <td>Yes</td>\n",
       "      <td>Often</td>\n",
       "      <td>26-100</td>\n",
       "      <td>...</td>\n",
       "      <td>Somewhat difficult</td>\n",
       "      <td>No</td>\n",
       "      <td>No</td>\n",
       "      <td>Some of them</td>\n",
       "      <td>Yes</td>\n",
       "      <td>No</td>\n",
       "      <td>No</td>\n",
       "      <td>Yes</td>\n",
       "      <td>No</td>\n",
       "      <td>NaN</td>\n",
       "    </tr>\n",
       "    <tr>\n",
       "      <th>1256</th>\n",
       "      <td>2015-11-07 12:36:58</td>\n",
       "      <td>34</td>\n",
       "      <td>male</td>\n",
       "      <td>United States</td>\n",
       "      <td>CA</td>\n",
       "      <td>No</td>\n",
       "      <td>Yes</td>\n",
       "      <td>Yes</td>\n",
       "      <td>Sometimes</td>\n",
       "      <td>More than 1000</td>\n",
       "      <td>...</td>\n",
       "      <td>Somewhat difficult</td>\n",
       "      <td>Yes</td>\n",
       "      <td>Yes</td>\n",
       "      <td>No</td>\n",
       "      <td>No</td>\n",
       "      <td>No</td>\n",
       "      <td>No</td>\n",
       "      <td>No</td>\n",
       "      <td>No</td>\n",
       "      <td>NaN</td>\n",
       "    </tr>\n",
       "    <tr>\n",
       "      <th>1258</th>\n",
       "      <td>2016-02-01 23:04:31</td>\n",
       "      <td>25</td>\n",
       "      <td>Male</td>\n",
       "      <td>United States</td>\n",
       "      <td>IL</td>\n",
       "      <td>No</td>\n",
       "      <td>Yes</td>\n",
       "      <td>Yes</td>\n",
       "      <td>Sometimes</td>\n",
       "      <td>26-100</td>\n",
       "      <td>...</td>\n",
       "      <td>Don't know</td>\n",
       "      <td>Maybe</td>\n",
       "      <td>No</td>\n",
       "      <td>Some of them</td>\n",
       "      <td>No</td>\n",
       "      <td>No</td>\n",
       "      <td>No</td>\n",
       "      <td>Don't know</td>\n",
       "      <td>No</td>\n",
       "      <td>NaN</td>\n",
       "    </tr>\n",
       "  </tbody>\n",
       "</table>\n",
       "<p>5 rows × 27 columns</p>\n",
       "</div>"
      ],
      "text/plain": [
       "                Timestamp  Age Gender        Country state self_employed  \\\n",
       "1252  2015-08-20 16:52:09   29   male  United States    NC            No   \n",
       "1253  2015-08-25 19:59:38   36   Male  United States    UT            No   \n",
       "1255  2015-09-26 01:07:35   32   Male  United States    IL            No   \n",
       "1256  2015-11-07 12:36:58   34   male  United States    CA            No   \n",
       "1258  2016-02-01 23:04:31   25   Male  United States    IL            No   \n",
       "\n",
       "     family_history treatment work_interfere    no_employees  ...  \\\n",
       "1252            Yes       Yes      Sometimes         100-500  ...   \n",
       "1253            Yes        No         Rarely  More than 1000  ...   \n",
       "1255            Yes       Yes          Often          26-100  ...   \n",
       "1256            Yes       Yes      Sometimes  More than 1000  ...   \n",
       "1258            Yes       Yes      Sometimes          26-100  ...   \n",
       "\n",
       "                   leave mental_health_consequence phys_health_consequence  \\\n",
       "1252          Don't know                       Yes                      No   \n",
       "1253       Somewhat easy                     Maybe                   Maybe   \n",
       "1255  Somewhat difficult                        No                      No   \n",
       "1256  Somewhat difficult                       Yes                     Yes   \n",
       "1258          Don't know                     Maybe                      No   \n",
       "\n",
       "         coworkers    supervisor mental_health_interview  \\\n",
       "1252  Some of them            No                      No   \n",
       "1253  Some of them  Some of them                      No   \n",
       "1255  Some of them           Yes                      No   \n",
       "1256            No            No                      No   \n",
       "1258  Some of them            No                      No   \n",
       "\n",
       "     phys_health_interview mental_vs_physical obs_consequence comments  \n",
       "1252                 Maybe                 No              No      NaN  \n",
       "1253                    No         Don't know              No      NaN  \n",
       "1255                    No                Yes              No      NaN  \n",
       "1256                    No                 No              No      NaN  \n",
       "1258                    No         Don't know              No      NaN  \n",
       "\n",
       "[5 rows x 27 columns]"
      ]
     },
     "execution_count": 45,
     "metadata": {},
     "output_type": "execute_result"
    }
   ],
   "source": [
    "family_history_mask = df.family_history=='Yes'\n",
    "df[family_history_mask].tail(5)"
   ]
  },
  {
   "cell_type": "markdown",
   "metadata": {
    "colab_type": "text",
    "id": "UwMZ0M4pVZ-t"
   },
   "source": [
    "You can use a simple expression like ```df[df['family_history'] == 'Yes']``` or you can make more complex boolean expressions using parentheses: \n"
   ]
  },
  {
   "cell_type": "code",
   "execution_count": 46,
   "metadata": {
    "colab": {},
    "colab_type": "code",
    "id": "Z6ma1OzsVZ-v",
    "outputId": "5f7fe8c7-4133-4d9f-cb61-bbd7779f485c"
   },
   "outputs": [
    {
     "data": {
      "text/html": [
       "<div>\n",
       "<style scoped>\n",
       "    .dataframe tbody tr th:only-of-type {\n",
       "        vertical-align: middle;\n",
       "    }\n",
       "\n",
       "    .dataframe tbody tr th {\n",
       "        vertical-align: top;\n",
       "    }\n",
       "\n",
       "    .dataframe thead th {\n",
       "        text-align: right;\n",
       "    }\n",
       "</style>\n",
       "<table border=\"1\" class=\"dataframe\">\n",
       "  <thead>\n",
       "    <tr style=\"text-align: right;\">\n",
       "      <th></th>\n",
       "      <th>Timestamp</th>\n",
       "      <th>Age</th>\n",
       "      <th>Gender</th>\n",
       "      <th>Country</th>\n",
       "      <th>state</th>\n",
       "      <th>self_employed</th>\n",
       "      <th>family_history</th>\n",
       "      <th>treatment</th>\n",
       "      <th>work_interfere</th>\n",
       "      <th>no_employees</th>\n",
       "      <th>...</th>\n",
       "      <th>leave</th>\n",
       "      <th>mental_health_consequence</th>\n",
       "      <th>phys_health_consequence</th>\n",
       "      <th>coworkers</th>\n",
       "      <th>supervisor</th>\n",
       "      <th>mental_health_interview</th>\n",
       "      <th>phys_health_interview</th>\n",
       "      <th>mental_vs_physical</th>\n",
       "      <th>obs_consequence</th>\n",
       "      <th>comments</th>\n",
       "    </tr>\n",
       "  </thead>\n",
       "  <tbody>\n",
       "    <tr>\n",
       "      <th>3</th>\n",
       "      <td>2014-08-27 11:29:46</td>\n",
       "      <td>31</td>\n",
       "      <td>Male</td>\n",
       "      <td>United Kingdom</td>\n",
       "      <td>NaN</td>\n",
       "      <td>NaN</td>\n",
       "      <td>Yes</td>\n",
       "      <td>Yes</td>\n",
       "      <td>Often</td>\n",
       "      <td>26-100</td>\n",
       "      <td>...</td>\n",
       "      <td>Somewhat difficult</td>\n",
       "      <td>Yes</td>\n",
       "      <td>Yes</td>\n",
       "      <td>Some of them</td>\n",
       "      <td>No</td>\n",
       "      <td>Maybe</td>\n",
       "      <td>Maybe</td>\n",
       "      <td>No</td>\n",
       "      <td>Yes</td>\n",
       "      <td>NaN</td>\n",
       "    </tr>\n",
       "    <tr>\n",
       "      <th>6</th>\n",
       "      <td>2014-08-27 11:31:50</td>\n",
       "      <td>35</td>\n",
       "      <td>Female</td>\n",
       "      <td>United States</td>\n",
       "      <td>MI</td>\n",
       "      <td>NaN</td>\n",
       "      <td>Yes</td>\n",
       "      <td>Yes</td>\n",
       "      <td>Sometimes</td>\n",
       "      <td>1-5</td>\n",
       "      <td>...</td>\n",
       "      <td>Somewhat difficult</td>\n",
       "      <td>Maybe</td>\n",
       "      <td>Maybe</td>\n",
       "      <td>Some of them</td>\n",
       "      <td>No</td>\n",
       "      <td>No</td>\n",
       "      <td>No</td>\n",
       "      <td>Don't know</td>\n",
       "      <td>No</td>\n",
       "      <td>NaN</td>\n",
       "    </tr>\n",
       "    <tr>\n",
       "      <th>8</th>\n",
       "      <td>2014-08-27 11:32:39</td>\n",
       "      <td>42</td>\n",
       "      <td>Female</td>\n",
       "      <td>United States</td>\n",
       "      <td>IL</td>\n",
       "      <td>NaN</td>\n",
       "      <td>Yes</td>\n",
       "      <td>Yes</td>\n",
       "      <td>Sometimes</td>\n",
       "      <td>100-500</td>\n",
       "      <td>...</td>\n",
       "      <td>Very difficult</td>\n",
       "      <td>Maybe</td>\n",
       "      <td>No</td>\n",
       "      <td>Yes</td>\n",
       "      <td>Yes</td>\n",
       "      <td>No</td>\n",
       "      <td>Maybe</td>\n",
       "      <td>No</td>\n",
       "      <td>No</td>\n",
       "      <td>NaN</td>\n",
       "    </tr>\n",
       "    <tr>\n",
       "      <th>12</th>\n",
       "      <td>2014-08-27 11:33:23</td>\n",
       "      <td>42</td>\n",
       "      <td>female</td>\n",
       "      <td>United States</td>\n",
       "      <td>CA</td>\n",
       "      <td>NaN</td>\n",
       "      <td>Yes</td>\n",
       "      <td>Yes</td>\n",
       "      <td>Sometimes</td>\n",
       "      <td>26-100</td>\n",
       "      <td>...</td>\n",
       "      <td>Somewhat difficult</td>\n",
       "      <td>Yes</td>\n",
       "      <td>Yes</td>\n",
       "      <td>Yes</td>\n",
       "      <td>Yes</td>\n",
       "      <td>Maybe</td>\n",
       "      <td>Maybe</td>\n",
       "      <td>No</td>\n",
       "      <td>Yes</td>\n",
       "      <td>NaN</td>\n",
       "    </tr>\n",
       "    <tr>\n",
       "      <th>15</th>\n",
       "      <td>2014-08-27 11:34:00</td>\n",
       "      <td>29</td>\n",
       "      <td>female</td>\n",
       "      <td>United States</td>\n",
       "      <td>IL</td>\n",
       "      <td>NaN</td>\n",
       "      <td>Yes</td>\n",
       "      <td>Yes</td>\n",
       "      <td>Rarely</td>\n",
       "      <td>26-100</td>\n",
       "      <td>...</td>\n",
       "      <td>Somewhat easy</td>\n",
       "      <td>No</td>\n",
       "      <td>No</td>\n",
       "      <td>Yes</td>\n",
       "      <td>Some of them</td>\n",
       "      <td>Maybe</td>\n",
       "      <td>Maybe</td>\n",
       "      <td>Don't know</td>\n",
       "      <td>No</td>\n",
       "      <td>I have chronic low-level neurological issues t...</td>\n",
       "    </tr>\n",
       "  </tbody>\n",
       "</table>\n",
       "<p>5 rows × 27 columns</p>\n",
       "</div>"
      ],
      "text/plain": [
       "              Timestamp  Age  Gender         Country state self_employed  \\\n",
       "3   2014-08-27 11:29:46   31    Male  United Kingdom   NaN           NaN   \n",
       "6   2014-08-27 11:31:50   35  Female   United States    MI           NaN   \n",
       "8   2014-08-27 11:32:39   42  Female   United States    IL           NaN   \n",
       "12  2014-08-27 11:33:23   42  female   United States    CA           NaN   \n",
       "15  2014-08-27 11:34:00   29  female   United States    IL           NaN   \n",
       "\n",
       "   family_history treatment work_interfere no_employees  ...  \\\n",
       "3             Yes       Yes          Often       26-100  ...   \n",
       "6             Yes       Yes      Sometimes          1-5  ...   \n",
       "8             Yes       Yes      Sometimes      100-500  ...   \n",
       "12            Yes       Yes      Sometimes       26-100  ...   \n",
       "15            Yes       Yes         Rarely       26-100  ...   \n",
       "\n",
       "                 leave mental_health_consequence phys_health_consequence  \\\n",
       "3   Somewhat difficult                       Yes                     Yes   \n",
       "6   Somewhat difficult                     Maybe                   Maybe   \n",
       "8       Very difficult                     Maybe                      No   \n",
       "12  Somewhat difficult                       Yes                     Yes   \n",
       "15       Somewhat easy                        No                      No   \n",
       "\n",
       "       coworkers    supervisor mental_health_interview phys_health_interview  \\\n",
       "3   Some of them            No                   Maybe                 Maybe   \n",
       "6   Some of them            No                      No                    No   \n",
       "8            Yes           Yes                      No                 Maybe   \n",
       "12           Yes           Yes                   Maybe                 Maybe   \n",
       "15           Yes  Some of them                   Maybe                 Maybe   \n",
       "\n",
       "   mental_vs_physical obs_consequence  \\\n",
       "3                  No             Yes   \n",
       "6          Don't know              No   \n",
       "8                  No              No   \n",
       "12                 No             Yes   \n",
       "15         Don't know              No   \n",
       "\n",
       "                                             comments  \n",
       "3                                                 NaN  \n",
       "6                                                 NaN  \n",
       "8                                                 NaN  \n",
       "12                                                NaN  \n",
       "15  I have chronic low-level neurological issues t...  \n",
       "\n",
       "[5 rows x 27 columns]"
      ]
     },
     "execution_count": 46,
     "metadata": {},
     "output_type": "execute_result"
    }
   ],
   "source": [
    "df_filtered = df[(df['family_history'] == 'Yes') & (df['treatment'] == 'Yes')]\n",
    "df_filtered.head()"
   ]
  },
  {
   "cell_type": "markdown",
   "metadata": {
    "colab_type": "text",
    "id": "3UNhgIHjVZ-y"
   },
   "source": [
    "### <font color=\"magenta\">Q5: How many people are willing to discuss a mental health issue with their supervisor or their coworkers? </font>"
   ]
  },
  {
   "cell_type": "code",
   "execution_count": 47,
   "metadata": {
    "colab": {},
    "colab_type": "code",
    "id": "2uanzG8zVZ-z",
    "outputId": "30f233de-79f0-402d-f4c4-24659b7e137b"
   },
   "outputs": [
    {
     "data": {
      "text/plain": [
       "546"
      ]
     },
     "execution_count": 47,
     "metadata": {},
     "output_type": "execute_result"
    }
   ],
   "source": [
    "df_filtered = df[(df['supervisor'] == 'Yes') | (df['coworkers'] == 'Yes')]\n",
    "len(df_filtered)"
   ]
  },
  {
   "cell_type": "markdown",
   "metadata": {
    "colab_type": "text",
    "id": "s5Wu-JcYVZ-3"
   },
   "source": [
    "### <font color=\"magenta\">Q6: Make a new DataFrame ```df_millenials``` with only millennials (born between 1976 and 1996). Make appropriate assumptions when constructing your filter. </font>"
   ]
  },
  {
   "cell_type": "markdown",
   "metadata": {},
   "source": [
    "Here I just make the assumption that the timestamps are made around 2015, and that's when the ages are recorded."
   ]
  },
  {
   "cell_type": "code",
   "execution_count": 48,
   "metadata": {
    "colab": {},
    "colab_type": "code",
    "id": "dgNzrGCnVZ-4"
   },
   "outputs": [
    {
     "data": {
      "text/html": [
       "<div>\n",
       "<style scoped>\n",
       "    .dataframe tbody tr th:only-of-type {\n",
       "        vertical-align: middle;\n",
       "    }\n",
       "\n",
       "    .dataframe tbody tr th {\n",
       "        vertical-align: top;\n",
       "    }\n",
       "\n",
       "    .dataframe thead th {\n",
       "        text-align: right;\n",
       "    }\n",
       "</style>\n",
       "<table border=\"1\" class=\"dataframe\">\n",
       "  <thead>\n",
       "    <tr style=\"text-align: right;\">\n",
       "      <th></th>\n",
       "      <th>Timestamp</th>\n",
       "      <th>Age</th>\n",
       "      <th>Gender</th>\n",
       "      <th>Country</th>\n",
       "      <th>state</th>\n",
       "      <th>self_employed</th>\n",
       "      <th>family_history</th>\n",
       "      <th>treatment</th>\n",
       "      <th>work_interfere</th>\n",
       "      <th>no_employees</th>\n",
       "      <th>...</th>\n",
       "      <th>leave</th>\n",
       "      <th>mental_health_consequence</th>\n",
       "      <th>phys_health_consequence</th>\n",
       "      <th>coworkers</th>\n",
       "      <th>supervisor</th>\n",
       "      <th>mental_health_interview</th>\n",
       "      <th>phys_health_interview</th>\n",
       "      <th>mental_vs_physical</th>\n",
       "      <th>obs_consequence</th>\n",
       "      <th>comments</th>\n",
       "    </tr>\n",
       "  </thead>\n",
       "  <tbody>\n",
       "    <tr>\n",
       "      <th>0</th>\n",
       "      <td>2014-08-27 11:29:31</td>\n",
       "      <td>37</td>\n",
       "      <td>Female</td>\n",
       "      <td>United States</td>\n",
       "      <td>IL</td>\n",
       "      <td>NaN</td>\n",
       "      <td>No</td>\n",
       "      <td>Yes</td>\n",
       "      <td>Often</td>\n",
       "      <td>6-25</td>\n",
       "      <td>...</td>\n",
       "      <td>Somewhat easy</td>\n",
       "      <td>No</td>\n",
       "      <td>No</td>\n",
       "      <td>Some of them</td>\n",
       "      <td>Yes</td>\n",
       "      <td>No</td>\n",
       "      <td>Maybe</td>\n",
       "      <td>Yes</td>\n",
       "      <td>No</td>\n",
       "      <td>NaN</td>\n",
       "    </tr>\n",
       "    <tr>\n",
       "      <th>2</th>\n",
       "      <td>2014-08-27 11:29:44</td>\n",
       "      <td>32</td>\n",
       "      <td>Male</td>\n",
       "      <td>Canada</td>\n",
       "      <td>NaN</td>\n",
       "      <td>NaN</td>\n",
       "      <td>No</td>\n",
       "      <td>No</td>\n",
       "      <td>Rarely</td>\n",
       "      <td>6-25</td>\n",
       "      <td>...</td>\n",
       "      <td>Somewhat difficult</td>\n",
       "      <td>No</td>\n",
       "      <td>No</td>\n",
       "      <td>Yes</td>\n",
       "      <td>Yes</td>\n",
       "      <td>Yes</td>\n",
       "      <td>Yes</td>\n",
       "      <td>No</td>\n",
       "      <td>No</td>\n",
       "      <td>NaN</td>\n",
       "    </tr>\n",
       "    <tr>\n",
       "      <th>3</th>\n",
       "      <td>2014-08-27 11:29:46</td>\n",
       "      <td>31</td>\n",
       "      <td>Male</td>\n",
       "      <td>United Kingdom</td>\n",
       "      <td>NaN</td>\n",
       "      <td>NaN</td>\n",
       "      <td>Yes</td>\n",
       "      <td>Yes</td>\n",
       "      <td>Often</td>\n",
       "      <td>26-100</td>\n",
       "      <td>...</td>\n",
       "      <td>Somewhat difficult</td>\n",
       "      <td>Yes</td>\n",
       "      <td>Yes</td>\n",
       "      <td>Some of them</td>\n",
       "      <td>No</td>\n",
       "      <td>Maybe</td>\n",
       "      <td>Maybe</td>\n",
       "      <td>No</td>\n",
       "      <td>Yes</td>\n",
       "      <td>NaN</td>\n",
       "    </tr>\n",
       "    <tr>\n",
       "      <th>4</th>\n",
       "      <td>2014-08-27 11:30:22</td>\n",
       "      <td>31</td>\n",
       "      <td>Male</td>\n",
       "      <td>United States</td>\n",
       "      <td>TX</td>\n",
       "      <td>NaN</td>\n",
       "      <td>No</td>\n",
       "      <td>No</td>\n",
       "      <td>Never</td>\n",
       "      <td>100-500</td>\n",
       "      <td>...</td>\n",
       "      <td>Don't know</td>\n",
       "      <td>No</td>\n",
       "      <td>No</td>\n",
       "      <td>Some of them</td>\n",
       "      <td>Yes</td>\n",
       "      <td>Yes</td>\n",
       "      <td>Yes</td>\n",
       "      <td>Don't know</td>\n",
       "      <td>No</td>\n",
       "      <td>NaN</td>\n",
       "    </tr>\n",
       "    <tr>\n",
       "      <th>5</th>\n",
       "      <td>2014-08-27 11:31:22</td>\n",
       "      <td>33</td>\n",
       "      <td>Male</td>\n",
       "      <td>United States</td>\n",
       "      <td>TN</td>\n",
       "      <td>NaN</td>\n",
       "      <td>Yes</td>\n",
       "      <td>No</td>\n",
       "      <td>Sometimes</td>\n",
       "      <td>6-25</td>\n",
       "      <td>...</td>\n",
       "      <td>Don't know</td>\n",
       "      <td>No</td>\n",
       "      <td>No</td>\n",
       "      <td>Yes</td>\n",
       "      <td>Yes</td>\n",
       "      <td>No</td>\n",
       "      <td>Maybe</td>\n",
       "      <td>Don't know</td>\n",
       "      <td>No</td>\n",
       "      <td>NaN</td>\n",
       "    </tr>\n",
       "  </tbody>\n",
       "</table>\n",
       "<p>5 rows × 27 columns</p>\n",
       "</div>"
      ],
      "text/plain": [
       "             Timestamp  Age  Gender         Country state self_employed  \\\n",
       "0  2014-08-27 11:29:31   37  Female   United States    IL           NaN   \n",
       "2  2014-08-27 11:29:44   32    Male          Canada   NaN           NaN   \n",
       "3  2014-08-27 11:29:46   31    Male  United Kingdom   NaN           NaN   \n",
       "4  2014-08-27 11:30:22   31    Male   United States    TX           NaN   \n",
       "5  2014-08-27 11:31:22   33    Male   United States    TN           NaN   \n",
       "\n",
       "  family_history treatment work_interfere no_employees  ...  \\\n",
       "0             No       Yes          Often         6-25  ...   \n",
       "2             No        No         Rarely         6-25  ...   \n",
       "3            Yes       Yes          Often       26-100  ...   \n",
       "4             No        No          Never      100-500  ...   \n",
       "5            Yes        No      Sometimes         6-25  ...   \n",
       "\n",
       "                leave mental_health_consequence phys_health_consequence  \\\n",
       "0       Somewhat easy                        No                      No   \n",
       "2  Somewhat difficult                        No                      No   \n",
       "3  Somewhat difficult                       Yes                     Yes   \n",
       "4          Don't know                        No                      No   \n",
       "5          Don't know                        No                      No   \n",
       "\n",
       "      coworkers supervisor mental_health_interview phys_health_interview  \\\n",
       "0  Some of them        Yes                      No                 Maybe   \n",
       "2           Yes        Yes                     Yes                   Yes   \n",
       "3  Some of them         No                   Maybe                 Maybe   \n",
       "4  Some of them        Yes                     Yes                   Yes   \n",
       "5           Yes        Yes                      No                 Maybe   \n",
       "\n",
       "  mental_vs_physical obs_consequence comments  \n",
       "0                Yes              No      NaN  \n",
       "2                 No              No      NaN  \n",
       "3                 No             Yes      NaN  \n",
       "4         Don't know              No      NaN  \n",
       "5         Don't know              No      NaN  \n",
       "\n",
       "[5 rows x 27 columns]"
      ]
     },
     "execution_count": 48,
     "metadata": {},
     "output_type": "execute_result"
    }
   ],
   "source": [
    "df_millenials = df[(df['Age'] > 20) & (df['Age'] < 40)]\n",
    "df_millenials.head()"
   ]
  },
  {
   "cell_type": "markdown",
   "metadata": {
    "colab_type": "text",
    "id": "n8onap2fVZ-8"
   },
   "source": [
    "**NOTE: We will still use df for the following analysis**"
   ]
  },
  {
   "cell_type": "markdown",
   "metadata": {
    "colab_type": "text",
    "id": "2NM77kaZVZ-9"
   },
   "source": [
    "## Descriptive and Summary Statistics"
   ]
  },
  {
   "cell_type": "markdown",
   "metadata": {
    "colab_type": "text",
    "id": "vGZSCd5tVZ_A"
   },
   "source": [
    "Example: What is the mean age of the survey sample?"
   ]
  },
  {
   "cell_type": "markdown",
   "metadata": {
    "colab_type": "text",
    "id": "9HI-vM2kVZ_B"
   },
   "source": [
    "Solution:"
   ]
  },
  {
   "cell_type": "code",
   "execution_count": 49,
   "metadata": {
    "colab": {},
    "colab_type": "code",
    "id": "2zrN3A_LVZ_B",
    "outputId": "92a53bd1-dc67-456c-f534-f696c81320ab"
   },
   "outputs": [
    {
     "data": {
      "text/plain": [
       "79428148.31135821"
      ]
     },
     "execution_count": 49,
     "metadata": {},
     "output_type": "execute_result"
    }
   ],
   "source": [
    "df['Age'].mean()"
   ]
  },
  {
   "cell_type": "markdown",
   "metadata": {},
   "source": [
    "### Does that look right?  What should we do?"
   ]
  },
  {
   "cell_type": "markdown",
   "metadata": {
    "colab_type": "text",
    "id": "1niH0x8fVZ_E"
   },
   "source": [
    "### <font color=\"magenta\">Q7: What is the _median_ age of the survey sample?  </font>"
   ]
  },
  {
   "cell_type": "code",
   "execution_count": 50,
   "metadata": {
    "colab": {},
    "colab_type": "code",
    "id": "kbbISqYpVZ_F",
    "outputId": "1582ffd1-5bc4-4fb1-bc28-60108a5c3b1e"
   },
   "outputs": [
    {
     "data": {
      "text/plain": [
       "31.0"
      ]
     },
     "execution_count": 50,
     "metadata": {},
     "output_type": "execute_result"
    }
   ],
   "source": [
    "df['Age'].median()"
   ]
  },
  {
   "cell_type": "markdown",
   "metadata": {
    "colab_type": "text",
    "id": "1neFC7WFVZ_H"
   },
   "source": [
    "### <font color=\"magenta\">Q8: Write one line of code to compute basic statistics (mean, standard deviation, min, 25% percentile, etc) about Age  </font>\n",
    "\n",
    "Hint: see the readings"
   ]
  },
  {
   "cell_type": "code",
   "execution_count": 51,
   "metadata": {
    "colab": {},
    "colab_type": "code",
    "id": "1iIWxtHqVZ_I",
    "outputId": "29f693a3-4dbf-4111-cbe2-f8fa61718798"
   },
   "outputs": [
    {
     "data": {
      "text/plain": [
       "count    1244.000000\n",
       "mean       32.155949\n",
       "std         7.231587\n",
       "min        19.000000\n",
       "25%        27.000000\n",
       "50%        31.000000\n",
       "75%        36.000000\n",
       "max        72.000000\n",
       "Name: Age, dtype: float64"
      ]
     },
     "execution_count": 51,
     "metadata": {},
     "output_type": "execute_result"
    }
   ],
   "source": [
    "df[(df['Age'] < 100) & (df['Age'] > 18)].Age.describe()"
   ]
  },
  {
   "cell_type": "markdown",
   "metadata": {
    "colab_type": "text",
    "id": "gW_LQGwxVZ_K"
   },
   "source": [
    "## Unique Values, Counts, Membership"
   ]
  },
  {
   "cell_type": "markdown",
   "metadata": {
    "colab_type": "text",
    "id": "3TTfX0gdVZ_K"
   },
   "source": [
    "Example: Write one line of code to check unique values of Gender</font>"
   ]
  },
  {
   "cell_type": "markdown",
   "metadata": {
    "colab_type": "text",
    "id": "KBPIDc2WVZ_L"
   },
   "source": [
    "Solution:"
   ]
  },
  {
   "cell_type": "code",
   "execution_count": 52,
   "metadata": {},
   "outputs": [
    {
     "data": {
      "text/plain": [
       "array(['Some of them', 'No', 'Yes'], dtype=object)"
      ]
     },
     "execution_count": 52,
     "metadata": {},
     "output_type": "execute_result"
    }
   ],
   "source": [
    "df.coworkers.unique()"
   ]
  },
  {
   "cell_type": "code",
   "execution_count": 53,
   "metadata": {
    "colab": {},
    "colab_type": "code",
    "id": "y2DMcfrsVZ_L",
    "outputId": "3ede4799-6d99-4223-b9b9-8da7e4be8bdb"
   },
   "outputs": [
    {
     "data": {
      "text/plain": [
       "array(['Female', 'M', 'Male', 'male', 'female', 'm', 'Male-ish', 'maile',\n",
       "       'Trans-female', 'Cis Female', 'F', 'something kinda male?',\n",
       "       'Cis Male', 'Woman', 'f', 'Mal', 'Male (CIS)', 'queer/she/they',\n",
       "       'non-binary', 'Femake', 'woman', 'Make', 'Nah', 'All', 'Enby',\n",
       "       'fluid', 'Genderqueer', 'Female ', 'Androgyne', 'Agender',\n",
       "       'cis-female/femme', 'Guy (-ish) ^_^', 'male leaning androgynous',\n",
       "       'Male ', 'Man', 'Trans woman', 'msle', 'Neuter', 'Female (trans)',\n",
       "       'queer', 'Female (cis)', 'Mail', 'cis male', 'A little about you',\n",
       "       'Malr', 'p', 'femail', 'Cis Man',\n",
       "       'ostensibly male, unsure what that really means'], dtype=object)"
      ]
     },
     "execution_count": 53,
     "metadata": {},
     "output_type": "execute_result"
    }
   ],
   "source": [
    "df.Gender.unique()"
   ]
  },
  {
   "cell_type": "markdown",
   "metadata": {
    "colab_type": "text",
    "id": "9MszMiO-VZ_O"
   },
   "source": [
    "Example: Write one line of code to count the occurrences of the countries and show the top 5 countries.  </font>"
   ]
  },
  {
   "cell_type": "markdown",
   "metadata": {
    "colab_type": "text",
    "id": "7vNBUsIMVZ_P"
   },
   "source": [
    "Solution:"
   ]
  },
  {
   "cell_type": "code",
   "execution_count": 54,
   "metadata": {
    "colab": {},
    "colab_type": "code",
    "id": "D9SvONy5VZ_R",
    "outputId": "907cfc2e-a455-4f62-dd8f-2a2ba28aa944"
   },
   "outputs": [
    {
     "data": {
      "text/plain": [
       "United States     751\n",
       "United Kingdom    185\n",
       "Canada             72\n",
       "Germany            45\n",
       "Netherlands        27\n",
       "Ireland            27\n",
       "Name: Country, dtype: int64"
      ]
     },
     "execution_count": 54,
     "metadata": {},
     "output_type": "execute_result"
    }
   ],
   "source": [
    "df.Country.value_counts().head(6)"
   ]
  },
  {
   "cell_type": "markdown",
   "metadata": {},
   "source": [
    "Are you sure that's correct?\n",
    "Not quite correct at first, as Netherlands and Ireland are tier 5."
   ]
  },
  {
   "cell_type": "markdown",
   "metadata": {
    "colab_type": "text",
    "id": "s4X2vNrgVZ_Y"
   },
   "source": [
    "### <font color=\"magenta\">Q9: Find the unique categories of no_employees. What is the frequency of each category? </font>"
   ]
  },
  {
   "cell_type": "code",
   "execution_count": 55,
   "metadata": {
    "colab": {},
    "colab_type": "code",
    "id": "4e4yFxHaVZ_Z",
    "outputId": "5e397ead-7a42-4a61-87fa-20df4b0e5045"
   },
   "outputs": [
    {
     "data": {
      "text/plain": [
       "6-25              290\n",
       "26-100            289\n",
       "More than 1000    282\n",
       "100-500           176\n",
       "1-5               162\n",
       "500-1000           60\n",
       "Name: no_employees, dtype: int64"
      ]
     },
     "execution_count": 55,
     "metadata": {},
     "output_type": "execute_result"
    }
   ],
   "source": [
    "df.no_employees.value_counts()"
   ]
  },
  {
   "cell_type": "markdown",
   "metadata": {
    "colab_type": "text",
    "id": "BDXeB5sdVZ_j"
   },
   "source": [
    "Most companies have between 6-25 employees, and only a few companies have between 500-1000 employees. In principle, the number of companies is inversely proportional to the number of employees."
   ]
  },
  {
   "cell_type": "markdown",
   "metadata": {
    "colab_type": "text",
    "id": "UK51a2wpVZ_k"
   },
   "source": [
    "### <font color=\"magenta\">Q10: Among the people from United States, how many repondents were there from each state?  </font>"
   ]
  },
  {
   "cell_type": "code",
   "execution_count": 56,
   "metadata": {
    "colab": {},
    "colab_type": "code",
    "id": "ewBvXnp2VZ_l",
    "outputId": "acba1da4-1310-4317-a401-b7f725c69c12"
   },
   "outputs": [
    {
     "data": {
      "text/plain": [
       "CA    138\n",
       "WA     70\n",
       "NY     56\n",
       "TN     45\n",
       "TX     44\n",
       "OH     30\n",
       "OR     29\n",
       "PA     29\n",
       "IL     28\n",
       "IN     27\n",
       "MI     22\n",
       "MN     21\n",
       "MA     20\n",
       "FL     15\n",
       "NC     14\n",
       "VA     14\n",
       "MO     12\n",
       "WI     12\n",
       "GA     12\n",
       "UT     10\n",
       "CO      9\n",
       "AL      8\n",
       "MD      7\n",
       "AZ      7\n",
       "NJ      6\n",
       "OK      6\n",
       "SC      5\n",
       "KY      5\n",
       "CT      4\n",
       "IA      4\n",
       "DC      4\n",
       "KS      3\n",
       "SD      3\n",
       "NH      3\n",
       "VT      3\n",
       "NV      3\n",
       "WY      2\n",
       "NE      2\n",
       "NM      2\n",
       "MS      1\n",
       "LA      1\n",
       "ME      1\n",
       "ID      1\n",
       "RI      1\n",
       "WV      1\n",
       "Name: state, dtype: int64"
      ]
     },
     "execution_count": 56,
     "metadata": {},
     "output_type": "execute_result"
    }
   ],
   "source": [
    "df[df.Country == 'United States'].state.value_counts()"
   ]
  },
  {
   "cell_type": "markdown",
   "metadata": {
    "colab_type": "text",
    "id": "Chh5GIJlVZ_n"
   },
   "source": [
    "## Basic Plots"
   ]
  },
  {
   "cell_type": "markdown",
   "metadata": {
    "colab_type": "text",
    "id": "7QwUQ7xdVZ_n"
   },
   "source": [
    "Example: Investigate the proportion (%) of people receiving health benefits from their employers."
   ]
  },
  {
   "cell_type": "markdown",
   "metadata": {
    "colab_type": "text",
    "id": "gXHPzifTVZ_o"
   },
   "source": [
    "Solution:"
   ]
  },
  {
   "cell_type": "code",
   "execution_count": 57,
   "metadata": {
    "colab": {},
    "colab_type": "code",
    "id": "K5dDt8VTVZ_r",
    "outputId": "59d6a47b-e6d2-4125-d648-80db845840fe"
   },
   "outputs": [
    {
     "data": {
      "text/plain": [
       "<AxesSubplot:>"
      ]
     },
     "execution_count": 57,
     "metadata": {},
     "output_type": "execute_result"
    },
    {
     "data": {
      "image/png": "[encoded data removed]",
      "text/plain": [
       "<Figure size 432x288 with 1 Axes>"
      ]
     },
     "metadata": {
      "needs_background": "light"
     },
     "output_type": "display_data"
    }
   ],
   "source": [
    "df.benefits.value_counts(normalize=True).plot.bar()"
   ]
  },
  {
   "cell_type": "markdown",
   "metadata": {},
   "source": [
    "Example: Create a histogram of the distribution of Age values:"
   ]
  },
  {
   "cell_type": "code",
   "execution_count": 58,
   "metadata": {
    "colab": {},
    "colab_type": "code",
    "id": "3aYfJAfpVZ_w",
    "outputId": "5f6e7a2c-2353-4f98-b4ae-b13d184a9cc5"
   },
   "outputs": [
    {
     "data": {
      "text/plain": [
       "<AxesSubplot:ylabel='Frequency'>"
      ]
     },
     "execution_count": 58,
     "metadata": {},
     "output_type": "execute_result"
    },
    {
     "data": {
      "image/png": "[encoded data removed]",
      "text/plain": [
       "<Figure size 432x288 with 1 Axes>"
      ]
     },
     "metadata": {
      "needs_background": "light"
     },
     "output_type": "display_data"
    }
   ],
   "source": [
    "df[(df.Age < 100) & (df.Age > 15)].Age.plot.hist()"
   ]
  },
  {
   "cell_type": "markdown",
   "metadata": {},
   "source": [
    "### <font color=\"magenta\">Q11: Experiment with the number of bins in the histogram of the Age distribution.  Is there a \"best\" value?</font>"
   ]
  },
  {
   "cell_type": "markdown",
   "metadata": {
    "colab_type": "text",
    "id": "fM3RDXkeVZ_v"
   },
   "source": [
    "Hint: use the bins= option to plot()"
   ]
  },
  {
   "cell_type": "code",
   "execution_count": 59,
   "metadata": {},
   "outputs": [
    {
     "data": {
      "text/plain": [
       "<AxesSubplot:ylabel='Frequency'>"
      ]
     },
     "execution_count": 59,
     "metadata": {},
     "output_type": "execute_result"
    },
    {
     "data": {
      "image/png": "[encoded data removed]",
      "text/plain": [
       "<Figure size 432x288 with 1 Axes>"
      ]
     },
     "metadata": {
      "needs_background": "light"
     },
     "output_type": "display_data"
    }
   ],
   "source": [
    "df[(df.Age < 100) & (df.Age > 15)].Age.plot.hist(bins=8)"
   ]
  },
  {
   "cell_type": "markdown",
   "metadata": {
    "colab_type": "text",
    "id": "GDbfYtuEVZ_8"
   },
   "source": [
    "## Aggregation"
   ]
  },
  {
   "cell_type": "markdown",
   "metadata": {
    "colab_type": "text",
    "id": "90l0AuGfVZ_9"
   },
   "source": [
    "Example: Find the number of participants from each state."
   ]
  },
  {
   "cell_type": "markdown",
   "metadata": {
    "colab_type": "text",
    "id": "LurKzxlWVZ_-"
   },
   "source": [
    "Solution:"
   ]
  },
  {
   "cell_type": "code",
   "execution_count": 60,
   "metadata": {
    "colab": {},
    "colab_type": "code",
    "id": "5GQRlKaeVZ_-",
    "outputId": "f04c450c-e9af-4989-af28-3a0df2639a6a"
   },
   "outputs": [
    {
     "data": {
      "text/plain": [
       "state\n",
       "AL      8\n",
       "AZ      7\n",
       "CA    138\n",
       "CO      9\n",
       "CT      4\n",
       "DC      4\n",
       "FL     15\n",
       "GA     12\n",
       "IA      4\n",
       "ID      1\n",
       "IL     29\n",
       "IN     27\n",
       "KS      3\n",
       "KY      5\n",
       "LA      1\n",
       "MA     20\n",
       "MD      8\n",
       "ME      1\n",
       "MI     22\n",
       "MN     21\n",
       "MO     12\n",
       "MS      1\n",
       "NC     14\n",
       "NE      2\n",
       "NH      3\n",
       "NJ      6\n",
       "NM      2\n",
       "NV      3\n",
       "NY     57\n",
       "OH     30\n",
       "OK      6\n",
       "OR     29\n",
       "PA     29\n",
       "RI      1\n",
       "SC      5\n",
       "SD      3\n",
       "TN     45\n",
       "TX     44\n",
       "UT     11\n",
       "VA     14\n",
       "VT      3\n",
       "WA     70\n",
       "WI     12\n",
       "WV      1\n",
       "WY      2\n",
       "dtype: int64"
      ]
     },
     "execution_count": 60,
     "metadata": {},
     "output_type": "execute_result"
    }
   ],
   "source": [
    "df.groupby('state').size()"
   ]
  },
  {
   "cell_type": "markdown",
   "metadata": {
    "colab_type": "text",
    "id": "9Jh8LMd5VaAA"
   },
   "source": [
    "### <font color=\"magenta\">Q12: Find the median age of people for each state. </font>"
   ]
  },
  {
   "cell_type": "code",
   "execution_count": 61,
   "metadata": {
    "colab": {},
    "colab_type": "code",
    "id": "Bk-Oeau1VaAB",
    "outputId": "84888e1e-42f5-4f45-e76c-d5defbcab20c"
   },
   "outputs": [
    {
     "data": {
      "text/html": [
       "<div>\n",
       "<style scoped>\n",
       "    .dataframe tbody tr th:only-of-type {\n",
       "        vertical-align: middle;\n",
       "    }\n",
       "\n",
       "    .dataframe tbody tr th {\n",
       "        vertical-align: top;\n",
       "    }\n",
       "\n",
       "    .dataframe thead th {\n",
       "        text-align: right;\n",
       "    }\n",
       "</style>\n",
       "<table border=\"1\" class=\"dataframe\">\n",
       "  <thead>\n",
       "    <tr style=\"text-align: right;\">\n",
       "      <th></th>\n",
       "      <th>Age</th>\n",
       "    </tr>\n",
       "    <tr>\n",
       "      <th>state</th>\n",
       "      <th></th>\n",
       "    </tr>\n",
       "  </thead>\n",
       "  <tbody>\n",
       "    <tr>\n",
       "      <th>AL</th>\n",
       "      <td>34.0</td>\n",
       "    </tr>\n",
       "    <tr>\n",
       "      <th>AZ</th>\n",
       "      <td>33.0</td>\n",
       "    </tr>\n",
       "    <tr>\n",
       "      <th>CA</th>\n",
       "      <td>31.0</td>\n",
       "    </tr>\n",
       "    <tr>\n",
       "      <th>CO</th>\n",
       "      <td>31.0</td>\n",
       "    </tr>\n",
       "    <tr>\n",
       "      <th>CT</th>\n",
       "      <td>37.5</td>\n",
       "    </tr>\n",
       "    <tr>\n",
       "      <th>DC</th>\n",
       "      <td>37.5</td>\n",
       "    </tr>\n",
       "    <tr>\n",
       "      <th>FL</th>\n",
       "      <td>34.0</td>\n",
       "    </tr>\n",
       "    <tr>\n",
       "      <th>GA</th>\n",
       "      <td>30.0</td>\n",
       "    </tr>\n",
       "    <tr>\n",
       "      <th>IA</th>\n",
       "      <td>40.0</td>\n",
       "    </tr>\n",
       "    <tr>\n",
       "      <th>ID</th>\n",
       "      <td>55.0</td>\n",
       "    </tr>\n",
       "    <tr>\n",
       "      <th>IL</th>\n",
       "      <td>30.0</td>\n",
       "    </tr>\n",
       "    <tr>\n",
       "      <th>IN</th>\n",
       "      <td>34.0</td>\n",
       "    </tr>\n",
       "    <tr>\n",
       "      <th>KS</th>\n",
       "      <td>39.0</td>\n",
       "    </tr>\n",
       "    <tr>\n",
       "      <th>KY</th>\n",
       "      <td>24.0</td>\n",
       "    </tr>\n",
       "    <tr>\n",
       "      <th>LA</th>\n",
       "      <td>35.0</td>\n",
       "    </tr>\n",
       "    <tr>\n",
       "      <th>MA</th>\n",
       "      <td>32.0</td>\n",
       "    </tr>\n",
       "    <tr>\n",
       "      <th>MD</th>\n",
       "      <td>29.0</td>\n",
       "    </tr>\n",
       "    <tr>\n",
       "      <th>ME</th>\n",
       "      <td>40.0</td>\n",
       "    </tr>\n",
       "    <tr>\n",
       "      <th>MI</th>\n",
       "      <td>34.0</td>\n",
       "    </tr>\n",
       "    <tr>\n",
       "      <th>MN</th>\n",
       "      <td>30.0</td>\n",
       "    </tr>\n",
       "    <tr>\n",
       "      <th>MO</th>\n",
       "      <td>33.5</td>\n",
       "    </tr>\n",
       "    <tr>\n",
       "      <th>MS</th>\n",
       "      <td>33.0</td>\n",
       "    </tr>\n",
       "    <tr>\n",
       "      <th>NC</th>\n",
       "      <td>32.0</td>\n",
       "    </tr>\n",
       "    <tr>\n",
       "      <th>NE</th>\n",
       "      <td>26.0</td>\n",
       "    </tr>\n",
       "    <tr>\n",
       "      <th>NH</th>\n",
       "      <td>34.0</td>\n",
       "    </tr>\n",
       "    <tr>\n",
       "      <th>NJ</th>\n",
       "      <td>32.0</td>\n",
       "    </tr>\n",
       "    <tr>\n",
       "      <th>NM</th>\n",
       "      <td>29.5</td>\n",
       "    </tr>\n",
       "    <tr>\n",
       "      <th>NV</th>\n",
       "      <td>28.0</td>\n",
       "    </tr>\n",
       "    <tr>\n",
       "      <th>NY</th>\n",
       "      <td>29.0</td>\n",
       "    </tr>\n",
       "    <tr>\n",
       "      <th>OH</th>\n",
       "      <td>31.0</td>\n",
       "    </tr>\n",
       "    <tr>\n",
       "      <th>OK</th>\n",
       "      <td>26.5</td>\n",
       "    </tr>\n",
       "    <tr>\n",
       "      <th>OR</th>\n",
       "      <td>32.0</td>\n",
       "    </tr>\n",
       "    <tr>\n",
       "      <th>PA</th>\n",
       "      <td>31.0</td>\n",
       "    </tr>\n",
       "    <tr>\n",
       "      <th>RI</th>\n",
       "      <td>23.0</td>\n",
       "    </tr>\n",
       "    <tr>\n",
       "      <th>SC</th>\n",
       "      <td>30.0</td>\n",
       "    </tr>\n",
       "    <tr>\n",
       "      <th>SD</th>\n",
       "      <td>34.0</td>\n",
       "    </tr>\n",
       "    <tr>\n",
       "      <th>TN</th>\n",
       "      <td>33.0</td>\n",
       "    </tr>\n",
       "    <tr>\n",
       "      <th>TX</th>\n",
       "      <td>31.5</td>\n",
       "    </tr>\n",
       "    <tr>\n",
       "      <th>UT</th>\n",
       "      <td>28.0</td>\n",
       "    </tr>\n",
       "    <tr>\n",
       "      <th>VA</th>\n",
       "      <td>40.5</td>\n",
       "    </tr>\n",
       "    <tr>\n",
       "      <th>VT</th>\n",
       "      <td>34.0</td>\n",
       "    </tr>\n",
       "    <tr>\n",
       "      <th>WA</th>\n",
       "      <td>32.5</td>\n",
       "    </tr>\n",
       "    <tr>\n",
       "      <th>WI</th>\n",
       "      <td>33.0</td>\n",
       "    </tr>\n",
       "    <tr>\n",
       "      <th>WV</th>\n",
       "      <td>23.0</td>\n",
       "    </tr>\n",
       "    <tr>\n",
       "      <th>WY</th>\n",
       "      <td>41.5</td>\n",
       "    </tr>\n",
       "  </tbody>\n",
       "</table>\n",
       "</div>"
      ],
      "text/plain": [
       "        Age\n",
       "state      \n",
       "AL     34.0\n",
       "AZ     33.0\n",
       "CA     31.0\n",
       "CO     31.0\n",
       "CT     37.5\n",
       "DC     37.5\n",
       "FL     34.0\n",
       "GA     30.0\n",
       "IA     40.0\n",
       "ID     55.0\n",
       "IL     30.0\n",
       "IN     34.0\n",
       "KS     39.0\n",
       "KY     24.0\n",
       "LA     35.0\n",
       "MA     32.0\n",
       "MD     29.0\n",
       "ME     40.0\n",
       "MI     34.0\n",
       "MN     30.0\n",
       "MO     33.5\n",
       "MS     33.0\n",
       "NC     32.0\n",
       "NE     26.0\n",
       "NH     34.0\n",
       "NJ     32.0\n",
       "NM     29.5\n",
       "NV     28.0\n",
       "NY     29.0\n",
       "OH     31.0\n",
       "OK     26.5\n",
       "OR     32.0\n",
       "PA     31.0\n",
       "RI     23.0\n",
       "SC     30.0\n",
       "SD     34.0\n",
       "TN     33.0\n",
       "TX     31.5\n",
       "UT     28.0\n",
       "VA     40.5\n",
       "VT     34.0\n",
       "WA     32.5\n",
       "WI     33.0\n",
       "WV     23.0\n",
       "WY     41.5"
      ]
     },
     "execution_count": 61,
     "metadata": {},
     "output_type": "execute_result"
    }
   ],
   "source": [
    "df.groupby('state').median()"
   ]
  },
  {
   "cell_type": "markdown",
   "metadata": {
    "colab_type": "text",
    "id": "Ala4108AVaAE"
   },
   "source": [
    "# Part 2 (on your own): Exploration of Movie Titles and Movie Cast"
   ]
  },
  {
   "cell_type": "markdown",
   "metadata": {
    "colab_type": "text",
    "id": "3cJ_P6-OVaAI"
   },
   "source": [
    "## Time to load some data:"
   ]
  },
  {
   "cell_type": "code",
   "execution_count": 62,
   "metadata": {
    "colab": {},
    "colab_type": "code",
    "id": "8h74mSPfVaAL"
   },
   "outputs": [],
   "source": [
    "titles = pd.read_csv('https://github.com/umsi-data-science/data/raw/main/titles.csv', index_col=None)"
   ]
  },
  {
   "cell_type": "markdown",
   "metadata": {
    "colab_type": "text",
    "id": "iltVCIzzVaAP"
   },
   "source": [
    "The titles DataFrame contains a list of movie titles and release year"
   ]
  },
  {
   "cell_type": "code",
   "execution_count": 63,
   "metadata": {
    "colab": {},
    "colab_type": "code",
    "id": "sDtWZcdDVaAP"
   },
   "outputs": [],
   "source": [
    "# cast = pd.read_csv('data/cast.zip', index_col=None)\n",
    "cast = pd.read_csv('https://github.com/umsi-data-science/data/raw/main/cast.zip', index_col=None)"
   ]
  },
  {
   "cell_type": "markdown",
   "metadata": {
    "colab_type": "text",
    "id": "QmRKuZ2lVaAQ"
   },
   "source": [
    "The ```cast``` DataFrame contains the following columns \n",
    "\n",
    "**title** = name of movie\n",
    "\n",
    "**year** = year of movie\n",
    "\n",
    "**name** = name of actor/actress\n",
    "\n",
    "**type** = actor or actress\n",
    "\n",
    "**character** = character name\n",
    "\n",
    "**n** = number in the credits (NaN when not available)"
   ]
  },
  {
   "cell_type": "code",
   "execution_count": 64,
   "metadata": {
    "colab": {},
    "colab_type": "code",
    "id": "vUJbzigkVaAR",
    "outputId": "581af96c-82f1-461c-a08d-5a74b4875a6e"
   },
   "outputs": [
    {
     "data": {
      "text/html": [
       "<div>\n",
       "<style scoped>\n",
       "    .dataframe tbody tr th:only-of-type {\n",
       "        vertical-align: middle;\n",
       "    }\n",
       "\n",
       "    .dataframe tbody tr th {\n",
       "        vertical-align: top;\n",
       "    }\n",
       "\n",
       "    .dataframe thead th {\n",
       "        text-align: right;\n",
       "    }\n",
       "</style>\n",
       "<table border=\"1\" class=\"dataframe\">\n",
       "  <thead>\n",
       "    <tr style=\"text-align: right;\">\n",
       "      <th></th>\n",
       "      <th>title</th>\n",
       "      <th>year</th>\n",
       "    </tr>\n",
       "  </thead>\n",
       "  <tbody>\n",
       "    <tr>\n",
       "      <th>0</th>\n",
       "      <td>The Rising Son</td>\n",
       "      <td>1990</td>\n",
       "    </tr>\n",
       "    <tr>\n",
       "      <th>1</th>\n",
       "      <td>The Thousand Plane Raid</td>\n",
       "      <td>1969</td>\n",
       "    </tr>\n",
       "    <tr>\n",
       "      <th>2</th>\n",
       "      <td>Crucea de piatra</td>\n",
       "      <td>1993</td>\n",
       "    </tr>\n",
       "    <tr>\n",
       "      <th>3</th>\n",
       "      <td>Country</td>\n",
       "      <td>2000</td>\n",
       "    </tr>\n",
       "    <tr>\n",
       "      <th>4</th>\n",
       "      <td>Gaiking II</td>\n",
       "      <td>2011</td>\n",
       "    </tr>\n",
       "  </tbody>\n",
       "</table>\n",
       "</div>"
      ],
      "text/plain": [
       "                     title  year\n",
       "0           The Rising Son  1990\n",
       "1  The Thousand Plane Raid  1969\n",
       "2         Crucea de piatra  1993\n",
       "3                  Country  2000\n",
       "4               Gaiking II  2011"
      ]
     },
     "execution_count": 64,
     "metadata": {},
     "output_type": "execute_result"
    }
   ],
   "source": [
    "titles.head()"
   ]
  },
  {
   "cell_type": "code",
   "execution_count": 65,
   "metadata": {
    "colab": {},
    "colab_type": "code",
    "id": "cTwkedBiVaAU",
    "outputId": "a3597a7a-f598-4fdd-f6b6-39be1c2d0953"
   },
   "outputs": [
    {
     "data": {
      "text/html": [
       "<div>\n",
       "<style scoped>\n",
       "    .dataframe tbody tr th:only-of-type {\n",
       "        vertical-align: middle;\n",
       "    }\n",
       "\n",
       "    .dataframe tbody tr th {\n",
       "        vertical-align: top;\n",
       "    }\n",
       "\n",
       "    .dataframe thead th {\n",
       "        text-align: right;\n",
       "    }\n",
       "</style>\n",
       "<table border=\"1\" class=\"dataframe\">\n",
       "  <thead>\n",
       "    <tr style=\"text-align: right;\">\n",
       "      <th></th>\n",
       "      <th>title</th>\n",
       "      <th>year</th>\n",
       "      <th>name</th>\n",
       "      <th>type</th>\n",
       "      <th>character</th>\n",
       "      <th>n</th>\n",
       "    </tr>\n",
       "  </thead>\n",
       "  <tbody>\n",
       "    <tr>\n",
       "      <th>122394</th>\n",
       "      <td>The Spirithunter</td>\n",
       "      <td>2004</td>\n",
       "      <td>Rique Baloyra</td>\n",
       "      <td>actor</td>\n",
       "      <td>Francois</td>\n",
       "      <td>13.0</td>\n",
       "    </tr>\n",
       "    <tr>\n",
       "      <th>3282806</th>\n",
       "      <td>The Antwerp Dolls</td>\n",
       "      <td>2015</td>\n",
       "      <td>Clova Perez-Corral</td>\n",
       "      <td>actress</td>\n",
       "      <td>Mikaela</td>\n",
       "      <td>NaN</td>\n",
       "    </tr>\n",
       "    <tr>\n",
       "      <th>2888855</th>\n",
       "      <td>Forces of Nature</td>\n",
       "      <td>1999</td>\n",
       "      <td>Anne Haney</td>\n",
       "      <td>actress</td>\n",
       "      <td>Emma</td>\n",
       "      <td>18.0</td>\n",
       "    </tr>\n",
       "    <tr>\n",
       "      <th>1552065</th>\n",
       "      <td>Hunting Elephants</td>\n",
       "      <td>2013</td>\n",
       "      <td>Moni Moshonov</td>\n",
       "      <td>actor</td>\n",
       "      <td>Nick</td>\n",
       "      <td>2.0</td>\n",
       "    </tr>\n",
       "    <tr>\n",
       "      <th>1348228</th>\n",
       "      <td>Jing wu feng yun: Chen Zhen</td>\n",
       "      <td>2010</td>\n",
       "      <td>Yue Ma</td>\n",
       "      <td>actor</td>\n",
       "      <td>General Zhou</td>\n",
       "      <td>11.0</td>\n",
       "    </tr>\n",
       "  </tbody>\n",
       "</table>\n",
       "</div>"
      ],
      "text/plain": [
       "                               title  year                name     type  \\\n",
       "122394              The Spirithunter  2004       Rique Baloyra    actor   \n",
       "3282806            The Antwerp Dolls  2015  Clova Perez-Corral  actress   \n",
       "2888855             Forces of Nature  1999          Anne Haney  actress   \n",
       "1552065            Hunting Elephants  2013       Moni Moshonov    actor   \n",
       "1348228  Jing wu feng yun: Chen Zhen  2010              Yue Ma    actor   \n",
       "\n",
       "            character     n  \n",
       "122394       Francois  13.0  \n",
       "3282806       Mikaela   NaN  \n",
       "2888855          Emma  18.0  \n",
       "1552065          Nick   2.0  \n",
       "1348228  General Zhou  11.0  "
      ]
     },
     "execution_count": 65,
     "metadata": {},
     "output_type": "execute_result"
    }
   ],
   "source": [
    "cast.sample(5)"
   ]
  },
  {
   "cell_type": "markdown",
   "metadata": {
    "colab_type": "text",
    "id": "20egAUt2VaAW"
   },
   "source": [
    "### <font color=\"magenta\">Q13: How many entries are there in the cast table?</font>"
   ]
  },
  {
   "cell_type": "code",
   "execution_count": 66,
   "metadata": {},
   "outputs": [
    {
     "data": {
      "text/plain": [
       "3634467"
      ]
     },
     "execution_count": 66,
     "metadata": {},
     "output_type": "execute_result"
    }
   ],
   "source": [
    "len(cast)"
   ]
  },
  {
   "cell_type": "markdown",
   "metadata": {
    "colab_type": "text",
    "id": "fDBtA5EPVaAa"
   },
   "source": [
    "### <font color=\"magenta\">Q14: How many entries are there in the titles table?</font>"
   ]
  },
  {
   "cell_type": "code",
   "execution_count": 67,
   "metadata": {
    "colab": {},
    "colab_type": "code",
    "id": "JfdCBERDVaAb",
    "outputId": "a4e81b19-3449-48f9-8108-2e2cbecb954c"
   },
   "outputs": [
    {
     "data": {
      "text/plain": [
       "232330"
      ]
     },
     "execution_count": 67,
     "metadata": {},
     "output_type": "execute_result"
    }
   ],
   "source": [
    "len(titles)"
   ]
  },
  {
   "cell_type": "markdown",
   "metadata": {
    "colab_type": "text",
    "id": "cGC68wHGVaAg"
   },
   "source": [
    "### <font color=\"magenta\">Q15: What are the two earliest movies?</font>"
   ]
  },
  {
   "cell_type": "code",
   "execution_count": 68,
   "metadata": {
    "colab": {},
    "colab_type": "code",
    "id": "nZf39Ow4VaAg",
    "outputId": "a1a6285e-93af-46a3-eaf2-e0c61361b524"
   },
   "outputs": [
    {
     "data": {
      "text/html": [
       "<div>\n",
       "<style scoped>\n",
       "    .dataframe tbody tr th:only-of-type {\n",
       "        vertical-align: middle;\n",
       "    }\n",
       "\n",
       "    .dataframe tbody tr th {\n",
       "        vertical-align: top;\n",
       "    }\n",
       "\n",
       "    .dataframe thead th {\n",
       "        text-align: right;\n",
       "    }\n",
       "</style>\n",
       "<table border=\"1\" class=\"dataframe\">\n",
       "  <thead>\n",
       "    <tr style=\"text-align: right;\">\n",
       "      <th></th>\n",
       "      <th>title</th>\n",
       "      <th>year</th>\n",
       "    </tr>\n",
       "  </thead>\n",
       "  <tbody>\n",
       "    <tr>\n",
       "      <th>177757</th>\n",
       "      <td>Miss Jerry</td>\n",
       "      <td>1894</td>\n",
       "    </tr>\n",
       "    <tr>\n",
       "      <th>215272</th>\n",
       "      <td>The Startled Lover</td>\n",
       "      <td>1898</td>\n",
       "    </tr>\n",
       "    <tr>\n",
       "      <th>124505</th>\n",
       "      <td>Reproduction of the Corbett and Jeffries Fight</td>\n",
       "      <td>1899</td>\n",
       "    </tr>\n",
       "  </tbody>\n",
       "</table>\n",
       "</div>"
      ],
      "text/plain": [
       "                                                 title  year\n",
       "177757                                      Miss Jerry  1894\n",
       "215272                              The Startled Lover  1898\n",
       "124505  Reproduction of the Corbett and Jeffries Fight  1899"
      ]
     },
     "execution_count": 68,
     "metadata": {},
     "output_type": "execute_result"
    }
   ],
   "source": [
    "titles.sort_values('year').head(3)"
   ]
  },
  {
   "cell_type": "markdown",
   "metadata": {},
   "source": [
    "'Miss Jerry' and 'The Startled Lover'"
   ]
  },
  {
   "cell_type": "markdown",
   "metadata": {
    "colab_type": "text",
    "id": "vdacpNIqVaAj"
   },
   "source": [
    "### <font color=\"magenta\">Q16: How many movies have the title \"Hamlet\"?</font>"
   ]
  },
  {
   "cell_type": "code",
   "execution_count": 69,
   "metadata": {
    "colab": {},
    "colab_type": "code",
    "id": "KRs9FLM9VaAj",
    "outputId": "7ce5b3b6-4848-402c-cca5-6b2d0861431e"
   },
   "outputs": [
    {
     "data": {
      "text/plain": [
       "18"
      ]
     },
     "execution_count": 69,
     "metadata": {},
     "output_type": "execute_result"
    }
   ],
   "source": [
    "len(titles[titles['title'] == 'Hamlet'])"
   ]
  },
  {
   "cell_type": "markdown",
   "metadata": {
    "colab_type": "text",
    "id": "4hNG1A9CVaAp"
   },
   "source": [
    "### <font color=\"magenta\">Q17: List all of the \"Treasure Island\" movies from earliest to most recent.</font>"
   ]
  },
  {
   "cell_type": "code",
   "execution_count": 70,
   "metadata": {
    "colab": {},
    "colab_type": "code",
    "id": "Rhf67jPPVaAp",
    "outputId": "ff83ba46-a80b-43ee-dbe1-4b2226f61f5f"
   },
   "outputs": [
    {
     "data": {
      "text/html": [
       "<div>\n",
       "<style scoped>\n",
       "    .dataframe tbody tr th:only-of-type {\n",
       "        vertical-align: middle;\n",
       "    }\n",
       "\n",
       "    .dataframe tbody tr th {\n",
       "        vertical-align: top;\n",
       "    }\n",
       "\n",
       "    .dataframe thead th {\n",
       "        text-align: right;\n",
       "    }\n",
       "</style>\n",
       "<table border=\"1\" class=\"dataframe\">\n",
       "  <thead>\n",
       "    <tr style=\"text-align: right;\">\n",
       "      <th></th>\n",
       "      <th>title</th>\n",
       "      <th>year</th>\n",
       "    </tr>\n",
       "  </thead>\n",
       "  <tbody>\n",
       "    <tr>\n",
       "      <th>206027</th>\n",
       "      <td>Treasure Island</td>\n",
       "      <td>1918</td>\n",
       "    </tr>\n",
       "    <tr>\n",
       "      <th>51287</th>\n",
       "      <td>Treasure Island</td>\n",
       "      <td>1920</td>\n",
       "    </tr>\n",
       "    <tr>\n",
       "      <th>191050</th>\n",
       "      <td>Treasure Island</td>\n",
       "      <td>1934</td>\n",
       "    </tr>\n",
       "    <tr>\n",
       "      <th>96934</th>\n",
       "      <td>Treasure Island</td>\n",
       "      <td>1950</td>\n",
       "    </tr>\n",
       "    <tr>\n",
       "      <th>89534</th>\n",
       "      <td>Treasure Island</td>\n",
       "      <td>1972</td>\n",
       "    </tr>\n",
       "    <tr>\n",
       "      <th>111343</th>\n",
       "      <td>Treasure Island</td>\n",
       "      <td>1973</td>\n",
       "    </tr>\n",
       "    <tr>\n",
       "      <th>205397</th>\n",
       "      <td>Treasure Island</td>\n",
       "      <td>1985</td>\n",
       "    </tr>\n",
       "    <tr>\n",
       "      <th>179354</th>\n",
       "      <td>Treasure Island</td>\n",
       "      <td>1999</td>\n",
       "    </tr>\n",
       "  </tbody>\n",
       "</table>\n",
       "</div>"
      ],
      "text/plain": [
       "                  title  year\n",
       "206027  Treasure Island  1918\n",
       "51287   Treasure Island  1920\n",
       "191050  Treasure Island  1934\n",
       "96934   Treasure Island  1950\n",
       "89534   Treasure Island  1972\n",
       "111343  Treasure Island  1973\n",
       "205397  Treasure Island  1985\n",
       "179354  Treasure Island  1999"
      ]
     },
     "execution_count": 70,
     "metadata": {},
     "output_type": "execute_result"
    }
   ],
   "source": [
    "titles[titles['title'] == 'Treasure Island'].sort_values('year')"
   ]
  },
  {
   "cell_type": "markdown",
   "metadata": {
    "colab_type": "text",
    "id": "n6ekJFVmVaAu"
   },
   "source": [
    "### <font color=\"magenta\">Q18: List the supporting roles (having n=2) played by Cary Grant in the 1940s, in order by year.</font>"
   ]
  },
  {
   "cell_type": "code",
   "execution_count": 71,
   "metadata": {
    "colab": {},
    "colab_type": "code",
    "id": "6MgR83iQVaAu",
    "outputId": "b2c79b39-d14d-4d37-fd5e-7d1514885d15"
   },
   "outputs": [
    {
     "data": {
      "text/html": [
       "<div>\n",
       "<style scoped>\n",
       "    .dataframe tbody tr th:only-of-type {\n",
       "        vertical-align: middle;\n",
       "    }\n",
       "\n",
       "    .dataframe tbody tr th {\n",
       "        vertical-align: top;\n",
       "    }\n",
       "\n",
       "    .dataframe thead th {\n",
       "        text-align: right;\n",
       "    }\n",
       "</style>\n",
       "<table border=\"1\" class=\"dataframe\">\n",
       "  <thead>\n",
       "    <tr style=\"text-align: right;\">\n",
       "      <th></th>\n",
       "      <th>title</th>\n",
       "      <th>year</th>\n",
       "      <th>name</th>\n",
       "      <th>type</th>\n",
       "      <th>character</th>\n",
       "      <th>n</th>\n",
       "    </tr>\n",
       "  </thead>\n",
       "  <tbody>\n",
       "    <tr>\n",
       "      <th>845513</th>\n",
       "      <td>My Favorite Wife</td>\n",
       "      <td>1940</td>\n",
       "      <td>Cary Grant</td>\n",
       "      <td>actor</td>\n",
       "      <td>Nick Arden</td>\n",
       "      <td>2.0</td>\n",
       "    </tr>\n",
       "    <tr>\n",
       "      <th>845523</th>\n",
       "      <td>Penny Serenade</td>\n",
       "      <td>1941</td>\n",
       "      <td>Cary Grant</td>\n",
       "      <td>actor</td>\n",
       "      <td>Roger Adams</td>\n",
       "      <td>2.0</td>\n",
       "    </tr>\n",
       "  </tbody>\n",
       "</table>\n",
       "</div>"
      ],
      "text/plain": [
       "                   title  year        name   type    character    n\n",
       "845513  My Favorite Wife  1940  Cary Grant  actor   Nick Arden  2.0\n",
       "845523    Penny Serenade  1941  Cary Grant  actor  Roger Adams  2.0"
      ]
     },
     "execution_count": 71,
     "metadata": {},
     "output_type": "execute_result"
    }
   ],
   "source": [
    "cast[(cast['name'] == 'Cary Grant') & (cast['n'] == 2) & (cast['year'] > 1939) & (cast['year'] < 1950)].sort_values('year')"
   ]
  },
  {
   "cell_type": "markdown",
   "metadata": {
    "colab_type": "text",
    "id": "0nigWnfaVaAw"
   },
   "source": [
    "### <font color=\"magenta\">Q19: What are the ten most common movie names of all time?</font>"
   ]
  },
  {
   "cell_type": "code",
   "execution_count": 72,
   "metadata": {
    "colab": {},
    "colab_type": "code",
    "id": "7vo-EPlZVaAw",
    "outputId": "30cd67a7-1f47-4a1f-ff9a-3060ed5ca7a4"
   },
   "outputs": [
    {
     "data": {
      "text/plain": [
       "Hamlet                  18\n",
       "Carmen                  16\n",
       "Macbeth                 15\n",
       "The Outsider            12\n",
       "Maya                    12\n",
       "Kismet                  11\n",
       "Freedom                 11\n",
       "Temptation              11\n",
       "Othello                 11\n",
       "The Three Musketeers    11\n",
       "Anna Karenina           10\n",
       "Name: title, dtype: int64"
      ]
     },
     "execution_count": 72,
     "metadata": {},
     "output_type": "execute_result"
    }
   ],
   "source": [
    "titles['title'].value_counts().head(11)"
   ]
  },
  {
   "cell_type": "markdown",
   "metadata": {
    "colab_type": "text",
    "id": "puDsuQMgVaAy"
   },
   "source": [
    "### <font color=\"magenta\">Q20: Plot the number of \"Hamlet\" films made each decade</font>\n",
    "\n",
    "Make sure your decades are in chronological order on the x-axis"
   ]
  },
  {
   "cell_type": "code",
   "execution_count": 74,
   "metadata": {
    "colab": {},
    "colab_type": "code",
    "id": "VW5tJBjCVaAz",
    "outputId": "bb560e2d-c531-4805-8563-a17af893f2ea"
   },
   "outputs": [
    {
     "data": {
      "text/plain": [
       "<AxesSubplot:>"
      ]
     },
     "execution_count": 74,
     "metadata": {},
     "output_type": "execute_result"
    },
    {
     "data": {
      "image/png": "[encoded data removed]",
      "text/plain": [
       "<Figure size 432x288 with 1 Axes>"
      ]
     },
     "metadata": {
      "needs_background": "light"
     },
     "output_type": "display_data"
    }
   ],
   "source": [
    "hamlet = titles[titles['title'] == 'Hamlet'].copy()\n",
    "hamlet['decade'] = hamlet['year'] // 10 * 10    # // means floor divide\n",
    "hamlet.decade.value_counts().sort_index().plot.bar()"
   ]
  },
  {
   "cell_type": "markdown",
   "metadata": {},
   "source": [
    "### Stretch goals\n",
    "The following questions are extra material and need not be completed as part of this\n",
    "notebook.  We will, however, start next class by considering this material, so it's \n",
    "worth attempting if you have time."
   ]
  },
  {
   "cell_type": "markdown",
   "metadata": {
    "colab_type": "text",
    "id": "0e8ojF-uVaA0"
   },
   "source": [
    "### EXTRA (no points): <font color=\"magenta\">Q21: Who are the 10 people most often credited as \"Herself\" in film history?</font>"
   ]
  },
  {
   "cell_type": "code",
   "execution_count": null,
   "metadata": {
    "colab": {},
    "colab_type": "code",
    "id": "xZ3Ar2hPVaA1",
    "outputId": "2441de5e-b683-405d-9c7e-cd79ee07c138"
   },
   "outputs": [],
   "source": [
    "# insert code here"
   ]
  },
  {
   "cell_type": "markdown",
   "metadata": {
    "colab_type": "text",
    "id": "nTo4QMqZVaA3"
   },
   "source": [
    "### EXTRA (no points): <font color=\"magenta\">Q22: What are the 10 most frequent roles that start with the word \"Science\"?</font>\n",
    "Hint: read docs on str.startswith()"
   ]
  },
  {
   "cell_type": "code",
   "execution_count": null,
   "metadata": {
    "colab": {},
    "colab_type": "code",
    "id": "WP5VMIAqVaA4",
    "outputId": "aa267acd-6e2e-47de-c0c4-4e60084a5ca1"
   },
   "outputs": [],
   "source": [
    "# insert code here"
   ]
  },
  {
   "cell_type": "markdown",
   "metadata": {
    "colab_type": "text",
    "id": "eKpdayrYVaA7"
   },
   "source": [
    "### EXTRA (no points): <font color=\"magenta\">Q23: How many leading (n=1) roles were available to actors, and how many to actresses, in the 1950s?  How many supporting (n=2) roles were available to actors,and how many to actresses, in the 1950s?</font>"
   ]
  },
  {
   "cell_type": "code",
   "execution_count": null,
   "metadata": {
    "colab": {},
    "colab_type": "code",
    "id": "1mYaTynCVaA8",
    "outputId": "7bf60f15-94e1-4a12-bcea-6f6e1e19e8b7"
   },
   "outputs": [],
   "source": [
    "# insert code here"
   ]
  },
  {
   "cell_type": "markdown",
   "metadata": {
    "colab": {},
    "colab_type": "code",
    "id": "wHN-cI-dVaBE"
   },
   "source": [
    "### EXTRA (no points): <font color=\"magenta\">Q24: Comment on the differences in gender ratios for leading vs. supporting roles in the 1950s.  Does there appear to be a bias?</font>"
   ]
  },
  {
   "cell_type": "markdown",
   "metadata": {},
   "source": [
    "Insert your response here."
   ]
  }
 ],
 "metadata": {
  "colab": {
   "collapsed_sections": [
    "N1djnH6yVZ9m",
    "PhOC6r2AVZ9n",
    "sCdBNks5VZ-K",
    "zBjjcPHZVZ-i",
    "1Kx8cgRcVZ-n",
    "3UNhgIHjVZ-y",
    "s5Wu-JcYVZ-3",
    "2NM77kaZVZ-9",
    "1niH0x8fVZ_E",
    "1neFC7WFVZ_H",
    "gW_LQGwxVZ_K",
    "s4X2vNrgVZ_Y",
    "SRRfpLm4VZ_c",
    "UK51a2wpVZ_k",
    "Chh5GIJlVZ_n",
    "9mJUVrJLVZ_v",
    "G4W5ERXPVZ_y",
    "GDbfYtuEVZ_8",
    "9Jh8LMd5VaAA",
    "3cJ_P6-OVaAI",
    "20egAUt2VaAW",
    "fDBtA5EPVaAa",
    "ZV5eEDrtVaAf",
    "cGC68wHGVaAg",
    "vdacpNIqVaAj",
    "4hNG1A9CVaAp",
    "n6ekJFVmVaAu",
    "0nigWnfaVaAw",
    "puDsuQMgVaAy",
    "0e8ojF-uVaA0",
    "nTo4QMqZVaA3",
    "eKpdayrYVaA7",
    "bfTRaAmFVaBB"
   ],
   "name": "618_02_Pandas_I.ipynb",
   "provenance": [],
   "version": "0.3.2"
  },
  "kernelspec": {
   "display_name": "Python 3",
   "language": "python",
   "name": "python3"
  },
  "language_info": {
   "codemirror_mode": {
    "name": "ipython",
    "version": 3
   },
   "file_extension": ".py",
   "mimetype": "text/x-python",
   "name": "python",
   "nbconvert_exporter": "python",
   "pygments_lexer": "ipython3",
   "version": "3.8.1"
  }
 },
 "nbformat": 4,
 "nbformat_minor": 2
}
