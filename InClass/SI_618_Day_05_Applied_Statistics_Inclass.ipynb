{
 "cells": [
  {
   "cell_type": "markdown",
   "metadata": {
    "slideshow": {
     "slide_type": "slide"
    }
   },
   "source": [
    "# SI 618: Applied Statistics"
   ]
  },
  {
   "cell_type": "markdown",
   "metadata": {
    "slideshow": {
     "slide_type": "slide"
    }
   },
   "source": [
    "## Correlation and Regression\n",
    "### Wine quality\n",
    "\n",
    "https://www.kaggle.com/uciml/red-wine-quality-cortez-et-al-2009/home"
   ]
  },
  {
   "cell_type": "markdown",
   "metadata": {
    "slideshow": {
     "slide_type": "subslide"
    }
   },
   "source": [
    "Warnings usually just cause us unnessary stress. The next code block silences warnings. \n",
    " "
   ]
  },
  {
   "cell_type": "code",
   "execution_count": 1,
   "metadata": {},
   "outputs": [],
   "source": [
    "import warnings\n",
    "warnings.filterwarnings('ignore')"
   ]
  },
  {
   "cell_type": "code",
   "execution_count": 2,
   "metadata": {
    "slideshow": {
     "slide_type": "subslide"
    }
   },
   "outputs": [],
   "source": [
    "import pandas as pd\n",
    "import seaborn as sns\n",
    "import numpy as np\n",
    "import matplotlib.pyplot as plt"
   ]
  },
  {
   "cell_type": "code",
   "execution_count": 3,
   "metadata": {
    "slideshow": {
     "slide_type": "subslide"
    }
   },
   "outputs": [
    {
     "data": {
      "text/html": [
       "<div>\n",
       "<style scoped>\n",
       "    .dataframe tbody tr th:only-of-type {\n",
       "        vertical-align: middle;\n",
       "    }\n",
       "\n",
       "    .dataframe tbody tr th {\n",
       "        vertical-align: top;\n",
       "    }\n",
       "\n",
       "    .dataframe thead th {\n",
       "        text-align: right;\n",
       "    }\n",
       "</style>\n",
       "<table border=\"1\" class=\"dataframe\">\n",
       "  <thead>\n",
       "    <tr style=\"text-align: right;\">\n",
       "      <th></th>\n",
       "      <th>fixed acidity</th>\n",
       "      <th>volatile acidity</th>\n",
       "      <th>citric acid</th>\n",
       "      <th>residual sugar</th>\n",
       "      <th>chlorides</th>\n",
       "      <th>free sulfur dioxide</th>\n",
       "      <th>total sulfur dioxide</th>\n",
       "      <th>density</th>\n",
       "      <th>pH</th>\n",
       "      <th>sulphates</th>\n",
       "      <th>alcohol</th>\n",
       "      <th>quality</th>\n",
       "    </tr>\n",
       "  </thead>\n",
       "  <tbody>\n",
       "    <tr>\n",
       "      <th>0</th>\n",
       "      <td>7.4</td>\n",
       "      <td>0.70</td>\n",
       "      <td>0.00</td>\n",
       "      <td>1.9</td>\n",
       "      <td>0.076</td>\n",
       "      <td>11.0</td>\n",
       "      <td>34.0</td>\n",
       "      <td>0.9978</td>\n",
       "      <td>3.51</td>\n",
       "      <td>0.56</td>\n",
       "      <td>9.4</td>\n",
       "      <td>5</td>\n",
       "    </tr>\n",
       "    <tr>\n",
       "      <th>1</th>\n",
       "      <td>7.8</td>\n",
       "      <td>0.88</td>\n",
       "      <td>0.00</td>\n",
       "      <td>2.6</td>\n",
       "      <td>0.098</td>\n",
       "      <td>25.0</td>\n",
       "      <td>67.0</td>\n",
       "      <td>0.9968</td>\n",
       "      <td>3.20</td>\n",
       "      <td>0.68</td>\n",
       "      <td>9.8</td>\n",
       "      <td>5</td>\n",
       "    </tr>\n",
       "    <tr>\n",
       "      <th>2</th>\n",
       "      <td>7.8</td>\n",
       "      <td>0.76</td>\n",
       "      <td>0.04</td>\n",
       "      <td>2.3</td>\n",
       "      <td>0.092</td>\n",
       "      <td>15.0</td>\n",
       "      <td>54.0</td>\n",
       "      <td>0.9970</td>\n",
       "      <td>3.26</td>\n",
       "      <td>0.65</td>\n",
       "      <td>9.8</td>\n",
       "      <td>5</td>\n",
       "    </tr>\n",
       "    <tr>\n",
       "      <th>3</th>\n",
       "      <td>11.2</td>\n",
       "      <td>0.28</td>\n",
       "      <td>0.56</td>\n",
       "      <td>1.9</td>\n",
       "      <td>0.075</td>\n",
       "      <td>17.0</td>\n",
       "      <td>60.0</td>\n",
       "      <td>0.9980</td>\n",
       "      <td>3.16</td>\n",
       "      <td>0.58</td>\n",
       "      <td>9.8</td>\n",
       "      <td>6</td>\n",
       "    </tr>\n",
       "    <tr>\n",
       "      <th>4</th>\n",
       "      <td>7.4</td>\n",
       "      <td>0.70</td>\n",
       "      <td>0.00</td>\n",
       "      <td>1.9</td>\n",
       "      <td>0.076</td>\n",
       "      <td>11.0</td>\n",
       "      <td>34.0</td>\n",
       "      <td>0.9978</td>\n",
       "      <td>3.51</td>\n",
       "      <td>0.56</td>\n",
       "      <td>9.4</td>\n",
       "      <td>5</td>\n",
       "    </tr>\n",
       "  </tbody>\n",
       "</table>\n",
       "</div>"
      ],
      "text/plain": [
       "   fixed acidity  volatile acidity  citric acid  residual sugar  chlorides  \\\n",
       "0            7.4              0.70         0.00             1.9      0.076   \n",
       "1            7.8              0.88         0.00             2.6      0.098   \n",
       "2            7.8              0.76         0.04             2.3      0.092   \n",
       "3           11.2              0.28         0.56             1.9      0.075   \n",
       "4            7.4              0.70         0.00             1.9      0.076   \n",
       "\n",
       "   free sulfur dioxide  total sulfur dioxide  density    pH  sulphates  \\\n",
       "0                 11.0                  34.0   0.9978  3.51       0.56   \n",
       "1                 25.0                  67.0   0.9968  3.20       0.68   \n",
       "2                 15.0                  54.0   0.9970  3.26       0.65   \n",
       "3                 17.0                  60.0   0.9980  3.16       0.58   \n",
       "4                 11.0                  34.0   0.9978  3.51       0.56   \n",
       "\n",
       "   alcohol  quality  \n",
       "0      9.4        5  \n",
       "1      9.8        5  \n",
       "2      9.8        5  \n",
       "3      9.8        6  \n",
       "4      9.4        5  "
      ]
     },
     "execution_count": 3,
     "metadata": {},
     "output_type": "execute_result"
    }
   ],
   "source": [
    "wine = pd.read_csv('https://raw.githubusercontent.com/umsi-data-science/data/main/winequality-red.csv')\n",
    "wine.head()"
   ]
  },
  {
   "cell_type": "markdown",
   "metadata": {
    "slideshow": {
     "slide_type": "-"
    }
   },
   "source": [
    "### Q1: List the 5 largest correlations in the wine quality dataset\n",
    "\n",
    "Feeling ambitious?  Try to get the following output:"
   ]
  },
  {
   "cell_type": "markdown",
   "metadata": {},
   "source": [
    "<table border=\"1\" class=\"dataframe\">\n",
    "  <thead>\n",
    "    <tr style=\"text-align: right;\">\n",
    "      <th></th>\n",
    "      <th>var1</th>\n",
    "      <th>var2</th>\n",
    "      <th>corr</th>\n",
    "    </tr>\n",
    "  </thead>\n",
    "  <tbody>\n",
    "    <tr>\n",
    "      <th>12</th>\n",
    "      <td>fixed acidity</td>\n",
    "      <td>pH</td>\n",
    "      <td>-0.682978</td>\n",
    "    </tr>\n",
    "    <tr>\n",
    "      <th>14</th>\n",
    "      <td>citric acid</td>\n",
    "      <td>fixed acidity</td>\n",
    "      <td>0.671703</td>\n",
    "    </tr>\n",
    "    <tr>\n",
    "      <th>16</th>\n",
    "      <td>density</td>\n",
    "      <td>fixed acidity</td>\n",
    "      <td>0.668047</td>\n",
    "    </tr>\n",
    "    <tr>\n",
    "      <th>18</th>\n",
    "      <td>free sulfur dioxide</td>\n",
    "      <td>total sulfur dioxide</td>\n",
    "      <td>0.667666</td>\n",
    "    </tr>\n",
    "    <tr>\n",
    "      <th>20</th>\n",
    "      <td>citric acid</td>\n",
    "      <td>volatile acidity</td>\n",
    "      <td>-0.552496</td>\n",
    "    </tr>\n",
    "  </tbody>\n",
    "</table>"
   ]
  },
  {
   "cell_type": "code",
   "execution_count": 4,
   "metadata": {
    "slideshow": {
     "slide_type": "skip"
    }
   },
   "outputs": [],
   "source": [
    "so = wine.corr().abs().unstack().sort_values(ascending=False).reset_index()\n",
    "so_nosame = so[so['level_0'] != so['level_1']]"
   ]
  },
  {
   "cell_type": "code",
   "execution_count": 5,
   "metadata": {},
   "outputs": [],
   "source": [
    "def swap(x):\n",
    "    if (x['level_0'] > x['level_1']):\n",
    "        temp = x['level_0']\n",
    "        x['level_0'] = x['level_1']\n",
    "        x['level_1'] = temp\n",
    "    return x"
   ]
  },
  {
   "cell_type": "code",
   "execution_count": 6,
   "metadata": {},
   "outputs": [
    {
     "data": {
      "text/html": [
       "<div>\n",
       "<style scoped>\n",
       "    .dataframe tbody tr th:only-of-type {\n",
       "        vertical-align: middle;\n",
       "    }\n",
       "\n",
       "    .dataframe tbody tr th {\n",
       "        vertical-align: top;\n",
       "    }\n",
       "\n",
       "    .dataframe thead th {\n",
       "        text-align: right;\n",
       "    }\n",
       "</style>\n",
       "<table border=\"1\" class=\"dataframe\">\n",
       "  <thead>\n",
       "    <tr style=\"text-align: right;\">\n",
       "      <th></th>\n",
       "      <th>level_0</th>\n",
       "      <th>level_1</th>\n",
       "      <th>0</th>\n",
       "    </tr>\n",
       "  </thead>\n",
       "  <tbody>\n",
       "    <tr>\n",
       "      <th>12</th>\n",
       "      <td>fixed acidity</td>\n",
       "      <td>pH</td>\n",
       "      <td>0.682978</td>\n",
       "    </tr>\n",
       "    <tr>\n",
       "      <th>14</th>\n",
       "      <td>citric acid</td>\n",
       "      <td>fixed acidity</td>\n",
       "      <td>0.671703</td>\n",
       "    </tr>\n",
       "    <tr>\n",
       "      <th>16</th>\n",
       "      <td>density</td>\n",
       "      <td>fixed acidity</td>\n",
       "      <td>0.668047</td>\n",
       "    </tr>\n",
       "    <tr>\n",
       "      <th>18</th>\n",
       "      <td>free sulfur dioxide</td>\n",
       "      <td>total sulfur dioxide</td>\n",
       "      <td>0.667666</td>\n",
       "    </tr>\n",
       "    <tr>\n",
       "      <th>20</th>\n",
       "      <td>citric acid</td>\n",
       "      <td>volatile acidity</td>\n",
       "      <td>0.552496</td>\n",
       "    </tr>\n",
       "    <tr>\n",
       "      <th>...</th>\n",
       "      <td>...</td>\n",
       "      <td>...</td>\n",
       "      <td>...</td>\n",
       "    </tr>\n",
       "    <tr>\n",
       "      <th>134</th>\n",
       "      <td>quality</td>\n",
       "      <td>residual sugar</td>\n",
       "      <td>0.013732</td>\n",
       "    </tr>\n",
       "    <tr>\n",
       "      <th>136</th>\n",
       "      <td>free sulfur dioxide</td>\n",
       "      <td>volatile acidity</td>\n",
       "      <td>0.010504</td>\n",
       "    </tr>\n",
       "    <tr>\n",
       "      <th>138</th>\n",
       "      <td>chlorides</td>\n",
       "      <td>free sulfur dioxide</td>\n",
       "      <td>0.005562</td>\n",
       "    </tr>\n",
       "    <tr>\n",
       "      <th>140</th>\n",
       "      <td>residual sugar</td>\n",
       "      <td>sulphates</td>\n",
       "      <td>0.005527</td>\n",
       "    </tr>\n",
       "    <tr>\n",
       "      <th>142</th>\n",
       "      <td>residual sugar</td>\n",
       "      <td>volatile acidity</td>\n",
       "      <td>0.001918</td>\n",
       "    </tr>\n",
       "  </tbody>\n",
       "</table>\n",
       "<p>66 rows × 3 columns</p>\n",
       "</div>"
      ],
      "text/plain": [
       "                 level_0               level_1         0\n",
       "12         fixed acidity                    pH  0.682978\n",
       "14           citric acid         fixed acidity  0.671703\n",
       "16               density         fixed acidity  0.668047\n",
       "18   free sulfur dioxide  total sulfur dioxide  0.667666\n",
       "20           citric acid      volatile acidity  0.552496\n",
       "..                   ...                   ...       ...\n",
       "134              quality        residual sugar  0.013732\n",
       "136  free sulfur dioxide      volatile acidity  0.010504\n",
       "138            chlorides   free sulfur dioxide  0.005562\n",
       "140       residual sugar             sulphates  0.005527\n",
       "142       residual sugar      volatile acidity  0.001918\n",
       "\n",
       "[66 rows x 3 columns]"
      ]
     },
     "execution_count": 6,
     "metadata": {},
     "output_type": "execute_result"
    }
   ],
   "source": [
    "so_alpha = so_nosame.apply(swap, axis=1).drop_duplicates()\n",
    "so_alpha"
   ]
  },
  {
   "cell_type": "code",
   "execution_count": 7,
   "metadata": {},
   "outputs": [
    {
     "data": {
      "text/html": [
       "<div>\n",
       "<style scoped>\n",
       "    .dataframe tbody tr th:only-of-type {\n",
       "        vertical-align: middle;\n",
       "    }\n",
       "\n",
       "    .dataframe tbody tr th {\n",
       "        vertical-align: top;\n",
       "    }\n",
       "\n",
       "    .dataframe thead th {\n",
       "        text-align: right;\n",
       "    }\n",
       "</style>\n",
       "<table border=\"1\" class=\"dataframe\">\n",
       "  <thead>\n",
       "    <tr style=\"text-align: right;\">\n",
       "      <th></th>\n",
       "      <th>var1</th>\n",
       "      <th>var2</th>\n",
       "      <th>corr</th>\n",
       "    </tr>\n",
       "  </thead>\n",
       "  <tbody>\n",
       "    <tr>\n",
       "      <th>12</th>\n",
       "      <td>fixed acidity</td>\n",
       "      <td>pH</td>\n",
       "      <td>-0.682978</td>\n",
       "    </tr>\n",
       "    <tr>\n",
       "      <th>14</th>\n",
       "      <td>citric acid</td>\n",
       "      <td>fixed acidity</td>\n",
       "      <td>0.671703</td>\n",
       "    </tr>\n",
       "    <tr>\n",
       "      <th>16</th>\n",
       "      <td>density</td>\n",
       "      <td>fixed acidity</td>\n",
       "      <td>0.668047</td>\n",
       "    </tr>\n",
       "    <tr>\n",
       "      <th>18</th>\n",
       "      <td>free sulfur dioxide</td>\n",
       "      <td>total sulfur dioxide</td>\n",
       "      <td>0.667666</td>\n",
       "    </tr>\n",
       "    <tr>\n",
       "      <th>20</th>\n",
       "      <td>citric acid</td>\n",
       "      <td>volatile acidity</td>\n",
       "      <td>-0.552496</td>\n",
       "    </tr>\n",
       "  </tbody>\n",
       "</table>\n",
       "</div>"
      ],
      "text/plain": [
       "                   var1                  var2      corr\n",
       "12        fixed acidity                    pH -0.682978\n",
       "14          citric acid         fixed acidity  0.671703\n",
       "16              density         fixed acidity  0.668047\n",
       "18  free sulfur dioxide  total sulfur dioxide  0.667666\n",
       "20          citric acid      volatile acidity -0.552496"
      ]
     },
     "execution_count": 7,
     "metadata": {},
     "output_type": "execute_result"
    }
   ],
   "source": [
    "so_signed = so_alpha.apply(lambda x: wine.corr().loc[x.level_0][x.level_1], axis=1)\n",
    "result = pd.concat([so_alpha.drop(0, axis=1), so_signed], axis=1)\n",
    "result.columns = ['var1', 'var2', 'corr']\n",
    "result.head()"
   ]
  },
  {
   "cell_type": "markdown",
   "metadata": {
    "slideshow": {
     "slide_type": "skip"
    }
   },
   "source": [
    "The 5 largest correlations in the wine quality dataset are:\n",
    "1. fixed acidity and pH\n",
    "2. citric acid and fixed acidity\n",
    "3. density and fixed acidity\n",
    "4. free sulfur dioxide and total sulfur dioxide\n",
    "5. citric acid and volatile acidity"
   ]
  },
  {
   "cell_type": "markdown",
   "metadata": {
    "slideshow": {
     "slide_type": "skip"
    }
   },
   "source": [
    "### Q2: Create a JointGrid-based plot that contains a regplot and a histplot for \"free sulphur dioxide\" vs. \"total sulphur dioxide\"."
   ]
  },
  {
   "cell_type": "code",
   "execution_count": 8,
   "metadata": {
    "slideshow": {
     "slide_type": "skip"
    }
   },
   "outputs": [
    {
     "data": {
      "image/png": "[encoded data removed]",
      "text/plain": [
       "<Figure size 432x432 with 3 Axes>"
      ]
     },
     "metadata": {
      "needs_background": "light"
     },
     "output_type": "display_data"
    }
   ],
   "source": [
    "g = sns.JointGrid(data=wine, x='total sulfur dioxide', y='free sulfur dioxide')\n",
    "g = g.plot(sns.regplot, sns.histplot)"
   ]
  },
  {
   "cell_type": "markdown",
   "metadata": {
    "colab_type": "text",
    "id": "6FyOXTsgU2ui",
    "slideshow": {
     "slide_type": "slide"
    }
   },
   "source": [
    "## Ordinary Least Squares (OLS) Regression"
   ]
  },
  {
   "cell_type": "code",
   "execution_count": 9,
   "metadata": {
    "colab": {},
    "colab_type": "code",
    "id": "1JuuPtlTU2ui",
    "slideshow": {
     "slide_type": "subslide"
    }
   },
   "outputs": [],
   "source": [
    "import statsmodels.api as sm\n",
    "import statsmodels.formula.api as smf"
   ]
  },
  {
   "cell_type": "markdown",
   "metadata": {
    "colab_type": "text",
    "id": "ATYDr80MU2uk",
    "slideshow": {
     "slide_type": "subslide"
    }
   },
   "source": [
    "Remember that statsmodels uses R-Style formulas: y ~ x1 + x2 + x3 + ...\n",
    "\n",
    "1. y represents the outcome/dependent variable\n",
    "2. x1, x2, x3, etc represent explanatory/independent variables "
   ]
  },
  {
   "cell_type": "markdown",
   "metadata": {
    "slideshow": {
     "slide_type": "skip"
    }
   },
   "source": [
    "### Q3: Create a regression model with \"total sulfur dioxide\" as the dependent variable and \"free sulfur dioxide\" as the predictor variable.\n",
    "Report the following:\n",
    "1. Coefficient of determination (i.e. $r^2$)\n",
    "2. Whether the regression is statistically significant\n",
    "3. An estimate for the value of \"total sulfur dioxide\" when the value of \"free sulfur dioxide\" is 60."
   ]
  },
  {
   "cell_type": "code",
   "execution_count": 10,
   "metadata": {
    "slideshow": {
     "slide_type": "skip"
    }
   },
   "outputs": [
    {
     "name": "stdout",
     "output_type": "stream",
     "text": [
      "                                OLS Regression Results                               \n",
      "=====================================================================================\n",
      "Dep. Variable:     Q('total sulfur dioxide')   R-squared:                       0.446\n",
      "Model:                                   OLS   Adj. R-squared:                  0.445\n",
      "Method:                        Least Squares   F-statistic:                     1285.\n",
      "Date:                       Tue, 23 Feb 2021   Prob (F-statistic):          6.40e-207\n",
      "Time:                               20:10:11   Log-Likelihood:                -7382.4\n",
      "No. Observations:                       1599   AIC:                         1.477e+04\n",
      "Df Residuals:                           1597   BIC:                         1.478e+04\n",
      "Df Model:                                  1                                         \n",
      "Covariance Type:                   nonrobust                                         \n",
      "============================================================================================\n",
      "                               coef    std err          t      P>|t|      [0.025      0.975]\n",
      "--------------------------------------------------------------------------------------------\n",
      "Intercept                   13.1354      1.114     11.795      0.000      10.951      15.320\n",
      "Q('free sulfur dioxide')     2.0997      0.059     35.840      0.000       1.985       2.215\n",
      "==============================================================================\n",
      "Omnibus:                      621.223   Durbin-Watson:                   1.553\n",
      "Prob(Omnibus):                  0.000   Jarque-Bera (JB):             3163.294\n",
      "Skew:                           1.767   Prob(JB):                         0.00\n",
      "Kurtosis:                       8.915   Cond. No.                         34.6\n",
      "==============================================================================\n",
      "\n",
      "Notes:\n",
      "[1] Standard Errors assume that the covariance matrix of the errors is correctly specified.\n"
     ]
    }
   ],
   "source": [
    "model = smf.ols(\"Q('total sulfur dioxide') ~ Q('free sulfur dioxide')\", data=wine)\n",
    "res = model.fit()\n",
    "print(res.summary())"
   ]
  },
  {
   "cell_type": "markdown",
   "metadata": {
    "slideshow": {
     "slide_type": "skip"
    }
   },
   "source": [
    "1. $r^2 = 0.446$\n",
    "2. The p-value is 6.40e-207, which is quite small, so the regression is statistically significant.\n",
    "3. An estimate for the value of \"total sulfur dioxide\" when the value of \"free sulfur dioxide\" is 60 is: $60\\cdot2.0997 + 13.1354 = 139.1174$"
   ]
  },
  {
   "cell_type": "markdown",
   "metadata": {
    "slideshow": {
     "slide_type": "skip"
    }
   },
   "source": [
    "### Q4: Create an influence plot for the regression of \"total sulfur dioxide\" vs. \"free sulfur dioxide\".  \n",
    "\n",
    "Visually identify outliers."
   ]
  },
  {
   "cell_type": "code",
   "execution_count": 11,
   "metadata": {},
   "outputs": [
    {
     "data": {
      "image/png": "[encoded data removed]",
      "text/plain": [
       "<Figure size 432x288 with 1 Axes>"
      ]
     },
     "execution_count": 11,
     "metadata": {},
     "output_type": "execute_result"
    },
    {
     "data": {
      "image/png": "[encoded data removed]",
      "text/plain": [
       "<Figure size 432x288 with 1 Axes>"
      ]
     },
     "metadata": {
      "needs_background": "light"
     },
     "output_type": "display_data"
    }
   ],
   "source": [
    "sm.graphics.influence_plot(res, criterion='Cooks')"
   ]
  },
  {
   "cell_type": "markdown",
   "metadata": {},
   "source": [
    "There are outliers like 1081 and 1079 according to the influence plot."
   ]
  },
  {
   "cell_type": "code",
   "execution_count": 12,
   "metadata": {},
   "outputs": [
    {
     "data": {
      "text/plain": [
       "fixed acidity             7.90000\n",
       "volatile acidity          0.30000\n",
       "citric acid               0.68000\n",
       "residual sugar            8.30000\n",
       "chlorides                 0.05000\n",
       "free sulfur dioxide      37.50000\n",
       "total sulfur dioxide    289.00000\n",
       "density                   0.99316\n",
       "pH                        3.01000\n",
       "sulphates                 0.51000\n",
       "alcohol                  12.30000\n",
       "quality                   7.00000\n",
       "Name: 1081, dtype: float64"
      ]
     },
     "execution_count": 12,
     "metadata": {},
     "output_type": "execute_result"
    }
   ],
   "source": [
    "wine.iloc[1081]"
   ]
  },
  {
   "cell_type": "markdown",
   "metadata": {
    "slideshow": {
     "slide_type": "skip"
    }
   },
   "source": [
    "### Q5: How many influence points are there, according to statistically significant Cook's distances?\n"
   ]
  },
  {
   "cell_type": "code",
   "execution_count": 13,
   "metadata": {},
   "outputs": [
    {
     "data": {
      "text/html": [
       "<div>\n",
       "<style scoped>\n",
       "    .dataframe tbody tr th:only-of-type {\n",
       "        vertical-align: middle;\n",
       "    }\n",
       "\n",
       "    .dataframe tbody tr th {\n",
       "        vertical-align: top;\n",
       "    }\n",
       "\n",
       "    .dataframe thead th {\n",
       "        text-align: right;\n",
       "    }\n",
       "</style>\n",
       "<table border=\"1\" class=\"dataframe\">\n",
       "  <thead>\n",
       "    <tr style=\"text-align: right;\">\n",
       "      <th></th>\n",
       "      <th>cooks_distance</th>\n",
       "      <th>pvalues</th>\n",
       "    </tr>\n",
       "  </thead>\n",
       "  <tbody>\n",
       "    <tr>\n",
       "      <th>1081</th>\n",
       "      <td>1.075528e-01</td>\n",
       "      <td>0.898036</td>\n",
       "    </tr>\n",
       "    <tr>\n",
       "      <th>1079</th>\n",
       "      <td>9.588442e-02</td>\n",
       "      <td>0.908574</td>\n",
       "    </tr>\n",
       "    <tr>\n",
       "      <th>1154</th>\n",
       "      <td>1.871485e-02</td>\n",
       "      <td>0.981459</td>\n",
       "    </tr>\n",
       "    <tr>\n",
       "      <th>1558</th>\n",
       "      <td>1.735861e-02</td>\n",
       "      <td>0.982791</td>\n",
       "    </tr>\n",
       "    <tr>\n",
       "      <th>926</th>\n",
       "      <td>1.666267e-02</td>\n",
       "      <td>0.983476</td>\n",
       "    </tr>\n",
       "    <tr>\n",
       "      <th>...</th>\n",
       "      <td>...</td>\n",
       "      <td>...</td>\n",
       "    </tr>\n",
       "    <tr>\n",
       "      <th>194</th>\n",
       "      <td>2.499602e-08</td>\n",
       "      <td>1.000000</td>\n",
       "    </tr>\n",
       "    <tr>\n",
       "      <th>193</th>\n",
       "      <td>2.499602e-08</td>\n",
       "      <td>1.000000</td>\n",
       "    </tr>\n",
       "    <tr>\n",
       "      <th>117</th>\n",
       "      <td>2.499602e-08</td>\n",
       "      <td>1.000000</td>\n",
       "    </tr>\n",
       "    <tr>\n",
       "      <th>816</th>\n",
       "      <td>3.685543e-09</td>\n",
       "      <td>1.000000</td>\n",
       "    </tr>\n",
       "    <tr>\n",
       "      <th>622</th>\n",
       "      <td>7.934061e-10</td>\n",
       "      <td>1.000000</td>\n",
       "    </tr>\n",
       "  </tbody>\n",
       "</table>\n",
       "<p>1599 rows × 2 columns</p>\n",
       "</div>"
      ],
      "text/plain": [
       "      cooks_distance   pvalues\n",
       "1081    1.075528e-01  0.898036\n",
       "1079    9.588442e-02  0.908574\n",
       "1154    1.871485e-02  0.981459\n",
       "1558    1.735861e-02  0.982791\n",
       "926     1.666267e-02  0.983476\n",
       "...              ...       ...\n",
       "194     2.499602e-08  1.000000\n",
       "193     2.499602e-08  1.000000\n",
       "117     2.499602e-08  1.000000\n",
       "816     3.685543e-09  1.000000\n",
       "622     7.934061e-10  1.000000\n",
       "\n",
       "[1599 rows x 2 columns]"
      ]
     },
     "execution_count": 13,
     "metadata": {},
     "output_type": "execute_result"
    }
   ],
   "source": [
    "infl = res.get_influence()\n",
    "infl.summary_frame()\n",
    "c, p = infl.cooks_distance\n",
    "df = pd.DataFrame({'cooks_distance':c, 'pvalues': p})\n",
    "df.sort_values('pvalues')"
   ]
  },
  {
   "cell_type": "markdown",
   "metadata": {
    "slideshow": {
     "slide_type": "skip"
    }
   },
   "source": [
    "Set $\\alpha = 0.05$. As the p-values are large (they are all larger than 0.05), there are no influence points according to statistically significant Cook's distance."
   ]
  },
  {
   "cell_type": "markdown",
   "metadata": {
    "slideshow": {
     "slide_type": "slide"
    }
   },
   "source": [
    "## Hypothesis testing (t-test and ANOVA)"
   ]
  },
  {
   "cell_type": "markdown",
   "metadata": {
    "slideshow": {
     "slide_type": "slide"
    }
   },
   "source": [
    "For this section, we draw our inspiration from the FiveThirtyEight article \"‘Straight Outta Compton’ Is The Rare Biopic Not About White Dudes\" (https://fivethirtyeight.com/features/straight-outta-compton-is-the-rare-biopic-not-about-white-dudes/).  FiveThiryEight has a great habit of publishing the data\n",
    "that underpin their stories and those data are available via GitHub so it's easy to \n",
    "load them into a DataFrame:"
   ]
  },
  {
   "cell_type": "code",
   "execution_count": 14,
   "metadata": {},
   "outputs": [],
   "source": [
    "biopics = pd.read_csv(\"https://raw.githubusercontent.com/fivethirtyeight/data/master/biopics/biopics.csv\", encoding=\"latin1\")"
   ]
  },
  {
   "cell_type": "code",
   "execution_count": 15,
   "metadata": {},
   "outputs": [
    {
     "data": {
      "text/html": [
       "<div>\n",
       "<style scoped>\n",
       "    .dataframe tbody tr th:only-of-type {\n",
       "        vertical-align: middle;\n",
       "    }\n",
       "\n",
       "    .dataframe tbody tr th {\n",
       "        vertical-align: top;\n",
       "    }\n",
       "\n",
       "    .dataframe thead th {\n",
       "        text-align: right;\n",
       "    }\n",
       "</style>\n",
       "<table border=\"1\" class=\"dataframe\">\n",
       "  <thead>\n",
       "    <tr style=\"text-align: right;\">\n",
       "      <th></th>\n",
       "      <th>title</th>\n",
       "      <th>site</th>\n",
       "      <th>country</th>\n",
       "      <th>year_release</th>\n",
       "      <th>box_office</th>\n",
       "      <th>director</th>\n",
       "      <th>number_of_subjects</th>\n",
       "      <th>subject</th>\n",
       "      <th>type_of_subject</th>\n",
       "      <th>race_known</th>\n",
       "      <th>subject_race</th>\n",
       "      <th>person_of_color</th>\n",
       "      <th>subject_sex</th>\n",
       "      <th>lead_actor_actress</th>\n",
       "    </tr>\n",
       "  </thead>\n",
       "  <tbody>\n",
       "    <tr>\n",
       "      <th>0</th>\n",
       "      <td>10 Rillington Place</td>\n",
       "      <td>http://www.imdb.com/title/tt0066730/</td>\n",
       "      <td>UK</td>\n",
       "      <td>1971</td>\n",
       "      <td>-</td>\n",
       "      <td>Richard Fleischer</td>\n",
       "      <td>1</td>\n",
       "      <td>John Christie</td>\n",
       "      <td>Criminal</td>\n",
       "      <td>Unknown</td>\n",
       "      <td>NaN</td>\n",
       "      <td>0</td>\n",
       "      <td>Male</td>\n",
       "      <td>Richard Attenborough</td>\n",
       "    </tr>\n",
       "    <tr>\n",
       "      <th>1</th>\n",
       "      <td>12 Years a Slave</td>\n",
       "      <td>http://www.imdb.com/title/tt2024544/</td>\n",
       "      <td>US/UK</td>\n",
       "      <td>2013</td>\n",
       "      <td>$56.7M</td>\n",
       "      <td>Steve McQueen</td>\n",
       "      <td>1</td>\n",
       "      <td>Solomon Northup</td>\n",
       "      <td>Other</td>\n",
       "      <td>Known</td>\n",
       "      <td>African American</td>\n",
       "      <td>1</td>\n",
       "      <td>Male</td>\n",
       "      <td>Chiwetel Ejiofor</td>\n",
       "    </tr>\n",
       "    <tr>\n",
       "      <th>2</th>\n",
       "      <td>127 Hours</td>\n",
       "      <td>http://www.imdb.com/title/tt1542344/</td>\n",
       "      <td>US/UK</td>\n",
       "      <td>2010</td>\n",
       "      <td>$18.3M</td>\n",
       "      <td>Danny Boyle</td>\n",
       "      <td>1</td>\n",
       "      <td>Aron Ralston</td>\n",
       "      <td>Athlete</td>\n",
       "      <td>Unknown</td>\n",
       "      <td>NaN</td>\n",
       "      <td>0</td>\n",
       "      <td>Male</td>\n",
       "      <td>James Franco</td>\n",
       "    </tr>\n",
       "    <tr>\n",
       "      <th>3</th>\n",
       "      <td>1987</td>\n",
       "      <td>http://www.imdb.com/title/tt2833074/</td>\n",
       "      <td>Canada</td>\n",
       "      <td>2014</td>\n",
       "      <td>-</td>\n",
       "      <td>Ricardo Trogi</td>\n",
       "      <td>1</td>\n",
       "      <td>Ricardo Trogi</td>\n",
       "      <td>Other</td>\n",
       "      <td>Known</td>\n",
       "      <td>White</td>\n",
       "      <td>0</td>\n",
       "      <td>Male</td>\n",
       "      <td>Jean-Carl Boucher</td>\n",
       "    </tr>\n",
       "    <tr>\n",
       "      <th>4</th>\n",
       "      <td>20 Dates</td>\n",
       "      <td>http://www.imdb.com/title/tt0138987/</td>\n",
       "      <td>US</td>\n",
       "      <td>1998</td>\n",
       "      <td>$537K</td>\n",
       "      <td>Myles Berkowitz</td>\n",
       "      <td>1</td>\n",
       "      <td>Myles Berkowitz</td>\n",
       "      <td>Other</td>\n",
       "      <td>Unknown</td>\n",
       "      <td>NaN</td>\n",
       "      <td>0</td>\n",
       "      <td>Male</td>\n",
       "      <td>Myles Berkowitz</td>\n",
       "    </tr>\n",
       "  </tbody>\n",
       "</table>\n",
       "</div>"
      ],
      "text/plain": [
       "                 title                                  site country  \\\n",
       "0  10 Rillington Place  http://www.imdb.com/title/tt0066730/      UK   \n",
       "1     12 Years a Slave  http://www.imdb.com/title/tt2024544/   US/UK   \n",
       "2            127 Hours  http://www.imdb.com/title/tt1542344/   US/UK   \n",
       "3                 1987  http://www.imdb.com/title/tt2833074/  Canada   \n",
       "4             20 Dates  http://www.imdb.com/title/tt0138987/      US   \n",
       "\n",
       "   year_release box_office           director  number_of_subjects  \\\n",
       "0          1971          -  Richard Fleischer                   1   \n",
       "1          2013     $56.7M      Steve McQueen                   1   \n",
       "2          2010     $18.3M        Danny Boyle                   1   \n",
       "3          2014          -      Ricardo Trogi                   1   \n",
       "4          1998      $537K    Myles Berkowitz                   1   \n",
       "\n",
       "            subject type_of_subject race_known      subject_race  \\\n",
       "0     John Christie        Criminal    Unknown               NaN   \n",
       "1   Solomon Northup           Other      Known  African American   \n",
       "2      Aron Ralston         Athlete    Unknown               NaN   \n",
       "3     Ricardo Trogi           Other      Known             White   \n",
       "4   Myles Berkowitz           Other    Unknown               NaN   \n",
       "\n",
       "   person_of_color subject_sex    lead_actor_actress  \n",
       "0                0        Male  Richard Attenborough  \n",
       "1                1        Male      Chiwetel Ejiofor  \n",
       "2                0        Male          James Franco  \n",
       "3                0        Male     Jean-Carl Boucher  \n",
       "4                0        Male       Myles Berkowitz  "
      ]
     },
     "execution_count": 15,
     "metadata": {},
     "output_type": "execute_result"
    }
   ],
   "source": [
    "biopics.head()"
   ]
  },
  {
   "cell_type": "markdown",
   "metadata": {},
   "source": [
    "We're interested in the 'box_office' variable, which is an oddly-formatted representation of the box-office earnings for each movie.  We're going to create a function that \n",
    "converts representations like '$56.7M' to '56700000'.  How?"
   ]
  },
  {
   "cell_type": "markdown",
   "metadata": {},
   "source": [
    "Time for some regular expressions (yay!):"
   ]
  },
  {
   "cell_type": "markdown",
   "metadata": {},
   "source": [
    "## Q6: Fill in the regular expression\n"
   ]
  },
  {
   "cell_type": "code",
   "execution_count": 16,
   "metadata": {},
   "outputs": [
    {
     "data": {
      "text/plain": [
       "537000.0"
      ]
     },
     "execution_count": 16,
     "metadata": {},
     "output_type": "execute_result"
    }
   ],
   "source": [
    "import re\n",
    "import numpy as np\n",
    "\n",
    "def box_office_dollars(earnings):\n",
    "    m = re.match(r'\\$(\\d+\\.?\\d*)([MmKk]*)',earnings)\n",
    "    if not m:\n",
    "        return np.NaN\n",
    "    ret = m.group(1)\n",
    "    if not ret:\n",
    "        return np.NaN\n",
    "    try:\n",
    "        ret = float(ret)\n",
    "    except:\n",
    "        return np.NaN\n",
    "    if m.group(2) == 'M':\n",
    "        return ret * 1000000\n",
    "    if m.group(2) == 'K':\n",
    "        return ret * 1000\n",
    "    return ret\n",
    "\n",
    "# Test out our function, which should print 537000.0 given $537K\n",
    "box_office_dollars(\"$537K\")\n"
   ]
  },
  {
   "cell_type": "markdown",
   "metadata": {},
   "source": [
    "And apply it to our DataFrame, creating a new column called 'box_office_dollars'"
   ]
  },
  {
   "cell_type": "code",
   "execution_count": 17,
   "metadata": {},
   "outputs": [],
   "source": [
    "biopics['box_office_dollars'] = biopics['box_office'].apply(box_office_dollars)"
   ]
  },
  {
   "cell_type": "code",
   "execution_count": 18,
   "metadata": {},
   "outputs": [
    {
     "data": {
      "text/html": [
       "<div>\n",
       "<style scoped>\n",
       "    .dataframe tbody tr th:only-of-type {\n",
       "        vertical-align: middle;\n",
       "    }\n",
       "\n",
       "    .dataframe tbody tr th {\n",
       "        vertical-align: top;\n",
       "    }\n",
       "\n",
       "    .dataframe thead th {\n",
       "        text-align: right;\n",
       "    }\n",
       "</style>\n",
       "<table border=\"1\" class=\"dataframe\">\n",
       "  <thead>\n",
       "    <tr style=\"text-align: right;\">\n",
       "      <th></th>\n",
       "      <th>title</th>\n",
       "      <th>site</th>\n",
       "      <th>country</th>\n",
       "      <th>year_release</th>\n",
       "      <th>box_office</th>\n",
       "      <th>director</th>\n",
       "      <th>number_of_subjects</th>\n",
       "      <th>subject</th>\n",
       "      <th>type_of_subject</th>\n",
       "      <th>race_known</th>\n",
       "      <th>subject_race</th>\n",
       "      <th>person_of_color</th>\n",
       "      <th>subject_sex</th>\n",
       "      <th>lead_actor_actress</th>\n",
       "      <th>box_office_dollars</th>\n",
       "    </tr>\n",
       "  </thead>\n",
       "  <tbody>\n",
       "    <tr>\n",
       "      <th>0</th>\n",
       "      <td>10 Rillington Place</td>\n",
       "      <td>http://www.imdb.com/title/tt0066730/</td>\n",
       "      <td>UK</td>\n",
       "      <td>1971</td>\n",
       "      <td>-</td>\n",
       "      <td>Richard Fleischer</td>\n",
       "      <td>1</td>\n",
       "      <td>John Christie</td>\n",
       "      <td>Criminal</td>\n",
       "      <td>Unknown</td>\n",
       "      <td>NaN</td>\n",
       "      <td>0</td>\n",
       "      <td>Male</td>\n",
       "      <td>Richard Attenborough</td>\n",
       "      <td>NaN</td>\n",
       "    </tr>\n",
       "    <tr>\n",
       "      <th>1</th>\n",
       "      <td>12 Years a Slave</td>\n",
       "      <td>http://www.imdb.com/title/tt2024544/</td>\n",
       "      <td>US/UK</td>\n",
       "      <td>2013</td>\n",
       "      <td>$56.7M</td>\n",
       "      <td>Steve McQueen</td>\n",
       "      <td>1</td>\n",
       "      <td>Solomon Northup</td>\n",
       "      <td>Other</td>\n",
       "      <td>Known</td>\n",
       "      <td>African American</td>\n",
       "      <td>1</td>\n",
       "      <td>Male</td>\n",
       "      <td>Chiwetel Ejiofor</td>\n",
       "      <td>56700000.0</td>\n",
       "    </tr>\n",
       "    <tr>\n",
       "      <th>2</th>\n",
       "      <td>127 Hours</td>\n",
       "      <td>http://www.imdb.com/title/tt1542344/</td>\n",
       "      <td>US/UK</td>\n",
       "      <td>2010</td>\n",
       "      <td>$18.3M</td>\n",
       "      <td>Danny Boyle</td>\n",
       "      <td>1</td>\n",
       "      <td>Aron Ralston</td>\n",
       "      <td>Athlete</td>\n",
       "      <td>Unknown</td>\n",
       "      <td>NaN</td>\n",
       "      <td>0</td>\n",
       "      <td>Male</td>\n",
       "      <td>James Franco</td>\n",
       "      <td>18300000.0</td>\n",
       "    </tr>\n",
       "    <tr>\n",
       "      <th>3</th>\n",
       "      <td>1987</td>\n",
       "      <td>http://www.imdb.com/title/tt2833074/</td>\n",
       "      <td>Canada</td>\n",
       "      <td>2014</td>\n",
       "      <td>-</td>\n",
       "      <td>Ricardo Trogi</td>\n",
       "      <td>1</td>\n",
       "      <td>Ricardo Trogi</td>\n",
       "      <td>Other</td>\n",
       "      <td>Known</td>\n",
       "      <td>White</td>\n",
       "      <td>0</td>\n",
       "      <td>Male</td>\n",
       "      <td>Jean-Carl Boucher</td>\n",
       "      <td>NaN</td>\n",
       "    </tr>\n",
       "    <tr>\n",
       "      <th>4</th>\n",
       "      <td>20 Dates</td>\n",
       "      <td>http://www.imdb.com/title/tt0138987/</td>\n",
       "      <td>US</td>\n",
       "      <td>1998</td>\n",
       "      <td>$537K</td>\n",
       "      <td>Myles Berkowitz</td>\n",
       "      <td>1</td>\n",
       "      <td>Myles Berkowitz</td>\n",
       "      <td>Other</td>\n",
       "      <td>Unknown</td>\n",
       "      <td>NaN</td>\n",
       "      <td>0</td>\n",
       "      <td>Male</td>\n",
       "      <td>Myles Berkowitz</td>\n",
       "      <td>537000.0</td>\n",
       "    </tr>\n",
       "  </tbody>\n",
       "</table>\n",
       "</div>"
      ],
      "text/plain": [
       "                 title                                  site country  \\\n",
       "0  10 Rillington Place  http://www.imdb.com/title/tt0066730/      UK   \n",
       "1     12 Years a Slave  http://www.imdb.com/title/tt2024544/   US/UK   \n",
       "2            127 Hours  http://www.imdb.com/title/tt1542344/   US/UK   \n",
       "3                 1987  http://www.imdb.com/title/tt2833074/  Canada   \n",
       "4             20 Dates  http://www.imdb.com/title/tt0138987/      US   \n",
       "\n",
       "   year_release box_office           director  number_of_subjects  \\\n",
       "0          1971          -  Richard Fleischer                   1   \n",
       "1          2013     $56.7M      Steve McQueen                   1   \n",
       "2          2010     $18.3M        Danny Boyle                   1   \n",
       "3          2014          -      Ricardo Trogi                   1   \n",
       "4          1998      $537K    Myles Berkowitz                   1   \n",
       "\n",
       "            subject type_of_subject race_known      subject_race  \\\n",
       "0     John Christie        Criminal    Unknown               NaN   \n",
       "1   Solomon Northup           Other      Known  African American   \n",
       "2      Aron Ralston         Athlete    Unknown               NaN   \n",
       "3     Ricardo Trogi           Other      Known             White   \n",
       "4   Myles Berkowitz           Other    Unknown               NaN   \n",
       "\n",
       "   person_of_color subject_sex    lead_actor_actress  box_office_dollars  \n",
       "0                0        Male  Richard Attenborough                 NaN  \n",
       "1                1        Male      Chiwetel Ejiofor          56700000.0  \n",
       "2                0        Male          James Franco          18300000.0  \n",
       "3                0        Male     Jean-Carl Boucher                 NaN  \n",
       "4                0        Male       Myles Berkowitz            537000.0  "
      ]
     },
     "execution_count": 18,
     "metadata": {},
     "output_type": "execute_result"
    }
   ],
   "source": [
    "biopics.head()"
   ]
  },
  {
   "cell_type": "markdown",
   "metadata": {},
   "source": [
    "## Q7: What should we do with our missing values:"
   ]
  },
  {
   "cell_type": "code",
   "execution_count": 19,
   "metadata": {},
   "outputs": [],
   "source": [
    "biopics.dropna(subset=['box_office_dollars'], inplace=True)"
   ]
  },
  {
   "cell_type": "code",
   "execution_count": 20,
   "metadata": {},
   "outputs": [
    {
     "data": {
      "text/html": [
       "<div>\n",
       "<style scoped>\n",
       "    .dataframe tbody tr th:only-of-type {\n",
       "        vertical-align: middle;\n",
       "    }\n",
       "\n",
       "    .dataframe tbody tr th {\n",
       "        vertical-align: top;\n",
       "    }\n",
       "\n",
       "    .dataframe thead th {\n",
       "        text-align: right;\n",
       "    }\n",
       "</style>\n",
       "<table border=\"1\" class=\"dataframe\">\n",
       "  <thead>\n",
       "    <tr style=\"text-align: right;\">\n",
       "      <th></th>\n",
       "      <th>title</th>\n",
       "      <th>site</th>\n",
       "      <th>country</th>\n",
       "      <th>year_release</th>\n",
       "      <th>box_office</th>\n",
       "      <th>director</th>\n",
       "      <th>number_of_subjects</th>\n",
       "      <th>subject</th>\n",
       "      <th>type_of_subject</th>\n",
       "      <th>race_known</th>\n",
       "      <th>subject_race</th>\n",
       "      <th>person_of_color</th>\n",
       "      <th>subject_sex</th>\n",
       "      <th>lead_actor_actress</th>\n",
       "      <th>box_office_dollars</th>\n",
       "    </tr>\n",
       "  </thead>\n",
       "  <tbody>\n",
       "    <tr>\n",
       "      <th>1</th>\n",
       "      <td>12 Years a Slave</td>\n",
       "      <td>http://www.imdb.com/title/tt2024544/</td>\n",
       "      <td>US/UK</td>\n",
       "      <td>2013</td>\n",
       "      <td>$56.7M</td>\n",
       "      <td>Steve McQueen</td>\n",
       "      <td>1</td>\n",
       "      <td>Solomon Northup</td>\n",
       "      <td>Other</td>\n",
       "      <td>Known</td>\n",
       "      <td>African American</td>\n",
       "      <td>1</td>\n",
       "      <td>Male</td>\n",
       "      <td>Chiwetel Ejiofor</td>\n",
       "      <td>56700000.0</td>\n",
       "    </tr>\n",
       "    <tr>\n",
       "      <th>2</th>\n",
       "      <td>127 Hours</td>\n",
       "      <td>http://www.imdb.com/title/tt1542344/</td>\n",
       "      <td>US/UK</td>\n",
       "      <td>2010</td>\n",
       "      <td>$18.3M</td>\n",
       "      <td>Danny Boyle</td>\n",
       "      <td>1</td>\n",
       "      <td>Aron Ralston</td>\n",
       "      <td>Athlete</td>\n",
       "      <td>Unknown</td>\n",
       "      <td>NaN</td>\n",
       "      <td>0</td>\n",
       "      <td>Male</td>\n",
       "      <td>James Franco</td>\n",
       "      <td>18300000.0</td>\n",
       "    </tr>\n",
       "    <tr>\n",
       "      <th>4</th>\n",
       "      <td>20 Dates</td>\n",
       "      <td>http://www.imdb.com/title/tt0138987/</td>\n",
       "      <td>US</td>\n",
       "      <td>1998</td>\n",
       "      <td>$537K</td>\n",
       "      <td>Myles Berkowitz</td>\n",
       "      <td>1</td>\n",
       "      <td>Myles Berkowitz</td>\n",
       "      <td>Other</td>\n",
       "      <td>Unknown</td>\n",
       "      <td>NaN</td>\n",
       "      <td>0</td>\n",
       "      <td>Male</td>\n",
       "      <td>Myles Berkowitz</td>\n",
       "      <td>537000.0</td>\n",
       "    </tr>\n",
       "    <tr>\n",
       "      <th>5</th>\n",
       "      <td>21</td>\n",
       "      <td>http://www.imdb.com/title/tt0478087/</td>\n",
       "      <td>US</td>\n",
       "      <td>2008</td>\n",
       "      <td>$81.2M</td>\n",
       "      <td>Robert Luketic</td>\n",
       "      <td>1</td>\n",
       "      <td>Jeff Ma</td>\n",
       "      <td>Other</td>\n",
       "      <td>Known</td>\n",
       "      <td>Asian American</td>\n",
       "      <td>1</td>\n",
       "      <td>Male</td>\n",
       "      <td>Jim Sturgess</td>\n",
       "      <td>81200000.0</td>\n",
       "    </tr>\n",
       "    <tr>\n",
       "      <th>6</th>\n",
       "      <td>24 Hour Party People</td>\n",
       "      <td>http://www.imdb.com/title/tt0274309/</td>\n",
       "      <td>UK</td>\n",
       "      <td>2002</td>\n",
       "      <td>$1.13M</td>\n",
       "      <td>Michael Winterbottom</td>\n",
       "      <td>1</td>\n",
       "      <td>Tony Wilson</td>\n",
       "      <td>Musician</td>\n",
       "      <td>Known</td>\n",
       "      <td>White</td>\n",
       "      <td>0</td>\n",
       "      <td>Male</td>\n",
       "      <td>Steve Coogan</td>\n",
       "      <td>1130000.0</td>\n",
       "    </tr>\n",
       "  </tbody>\n",
       "</table>\n",
       "</div>"
      ],
      "text/plain": [
       "                  title                                  site country  \\\n",
       "1      12 Years a Slave  http://www.imdb.com/title/tt2024544/   US/UK   \n",
       "2             127 Hours  http://www.imdb.com/title/tt1542344/   US/UK   \n",
       "4              20 Dates  http://www.imdb.com/title/tt0138987/      US   \n",
       "5                    21  http://www.imdb.com/title/tt0478087/      US   \n",
       "6  24 Hour Party People  http://www.imdb.com/title/tt0274309/      UK   \n",
       "\n",
       "   year_release box_office              director  number_of_subjects  \\\n",
       "1          2013     $56.7M         Steve McQueen                   1   \n",
       "2          2010     $18.3M           Danny Boyle                   1   \n",
       "4          1998      $537K       Myles Berkowitz                   1   \n",
       "5          2008     $81.2M        Robert Luketic                   1   \n",
       "6          2002     $1.13M  Michael Winterbottom                   1   \n",
       "\n",
       "            subject type_of_subject race_known      subject_race  \\\n",
       "1   Solomon Northup           Other      Known  African American   \n",
       "2      Aron Ralston         Athlete    Unknown               NaN   \n",
       "4   Myles Berkowitz           Other    Unknown               NaN   \n",
       "5           Jeff Ma           Other      Known    Asian American   \n",
       "6       Tony Wilson        Musician      Known             White   \n",
       "\n",
       "   person_of_color subject_sex lead_actor_actress  box_office_dollars  \n",
       "1                1        Male   Chiwetel Ejiofor          56700000.0  \n",
       "2                0        Male       James Franco          18300000.0  \n",
       "4                0        Male    Myles Berkowitz            537000.0  \n",
       "5                1        Male       Jim Sturgess          81200000.0  \n",
       "6                0        Male       Steve Coogan           1130000.0  "
      ]
     },
     "execution_count": 20,
     "metadata": {},
     "output_type": "execute_result"
    }
   ],
   "source": [
    "biopics.head()"
   ]
  },
  {
   "cell_type": "markdown",
   "metadata": {},
   "source": [
    "As always, let's take a look at the distribution of our variable:\n"
   ]
  },
  {
   "cell_type": "code",
   "execution_count": 21,
   "metadata": {},
   "outputs": [
    {
     "data": {
      "text/plain": [
       "<seaborn.axisgrid.FacetGrid at 0x15d1e7d17c0>"
      ]
     },
     "execution_count": 21,
     "metadata": {},
     "output_type": "execute_result"
    },
    {
     "data": {
      "image/png": "[encoded data removed]",
      "text/plain": [
       "<Figure size 360x360 with 1 Axes>"
      ]
     },
     "metadata": {
      "needs_background": "light"
     },
     "output_type": "display_data"
    }
   ],
   "source": [
    "sns.displot(biopics['box_office_dollars'])"
   ]
  },
  {
   "cell_type": "markdown",
   "metadata": {},
   "source": [
    "Hmmmm.  That doesn't look good (why?) . \n",
    "\n",
    "Let's see if we can make that look a bit more like a normal distribution.  Let's \n",
    "apply a log transform:"
   ]
  },
  {
   "cell_type": "code",
   "execution_count": 22,
   "metadata": {},
   "outputs": [],
   "source": [
    "biopics['log_box_office_dollars'] = np.log(biopics['box_office_dollars'])"
   ]
  },
  {
   "cell_type": "code",
   "execution_count": 23,
   "metadata": {},
   "outputs": [
    {
     "data": {
      "text/html": [
       "<div>\n",
       "<style scoped>\n",
       "    .dataframe tbody tr th:only-of-type {\n",
       "        vertical-align: middle;\n",
       "    }\n",
       "\n",
       "    .dataframe tbody tr th {\n",
       "        vertical-align: top;\n",
       "    }\n",
       "\n",
       "    .dataframe thead th {\n",
       "        text-align: right;\n",
       "    }\n",
       "</style>\n",
       "<table border=\"1\" class=\"dataframe\">\n",
       "  <thead>\n",
       "    <tr style=\"text-align: right;\">\n",
       "      <th></th>\n",
       "      <th>title</th>\n",
       "      <th>site</th>\n",
       "      <th>country</th>\n",
       "      <th>year_release</th>\n",
       "      <th>box_office</th>\n",
       "      <th>director</th>\n",
       "      <th>number_of_subjects</th>\n",
       "      <th>subject</th>\n",
       "      <th>type_of_subject</th>\n",
       "      <th>race_known</th>\n",
       "      <th>subject_race</th>\n",
       "      <th>person_of_color</th>\n",
       "      <th>subject_sex</th>\n",
       "      <th>lead_actor_actress</th>\n",
       "      <th>box_office_dollars</th>\n",
       "      <th>log_box_office_dollars</th>\n",
       "    </tr>\n",
       "  </thead>\n",
       "  <tbody>\n",
       "    <tr>\n",
       "      <th>1</th>\n",
       "      <td>12 Years a Slave</td>\n",
       "      <td>http://www.imdb.com/title/tt2024544/</td>\n",
       "      <td>US/UK</td>\n",
       "      <td>2013</td>\n",
       "      <td>$56.7M</td>\n",
       "      <td>Steve McQueen</td>\n",
       "      <td>1</td>\n",
       "      <td>Solomon Northup</td>\n",
       "      <td>Other</td>\n",
       "      <td>Known</td>\n",
       "      <td>African American</td>\n",
       "      <td>1</td>\n",
       "      <td>Male</td>\n",
       "      <td>Chiwetel Ejiofor</td>\n",
       "      <td>56700000.0</td>\n",
       "      <td>17.853285</td>\n",
       "    </tr>\n",
       "    <tr>\n",
       "      <th>2</th>\n",
       "      <td>127 Hours</td>\n",
       "      <td>http://www.imdb.com/title/tt1542344/</td>\n",
       "      <td>US/UK</td>\n",
       "      <td>2010</td>\n",
       "      <td>$18.3M</td>\n",
       "      <td>Danny Boyle</td>\n",
       "      <td>1</td>\n",
       "      <td>Aron Ralston</td>\n",
       "      <td>Athlete</td>\n",
       "      <td>Unknown</td>\n",
       "      <td>NaN</td>\n",
       "      <td>0</td>\n",
       "      <td>Male</td>\n",
       "      <td>James Franco</td>\n",
       "      <td>18300000.0</td>\n",
       "      <td>16.722412</td>\n",
       "    </tr>\n",
       "    <tr>\n",
       "      <th>4</th>\n",
       "      <td>20 Dates</td>\n",
       "      <td>http://www.imdb.com/title/tt0138987/</td>\n",
       "      <td>US</td>\n",
       "      <td>1998</td>\n",
       "      <td>$537K</td>\n",
       "      <td>Myles Berkowitz</td>\n",
       "      <td>1</td>\n",
       "      <td>Myles Berkowitz</td>\n",
       "      <td>Other</td>\n",
       "      <td>Unknown</td>\n",
       "      <td>NaN</td>\n",
       "      <td>0</td>\n",
       "      <td>Male</td>\n",
       "      <td>Myles Berkowitz</td>\n",
       "      <td>537000.0</td>\n",
       "      <td>13.193753</td>\n",
       "    </tr>\n",
       "    <tr>\n",
       "      <th>5</th>\n",
       "      <td>21</td>\n",
       "      <td>http://www.imdb.com/title/tt0478087/</td>\n",
       "      <td>US</td>\n",
       "      <td>2008</td>\n",
       "      <td>$81.2M</td>\n",
       "      <td>Robert Luketic</td>\n",
       "      <td>1</td>\n",
       "      <td>Jeff Ma</td>\n",
       "      <td>Other</td>\n",
       "      <td>Known</td>\n",
       "      <td>Asian American</td>\n",
       "      <td>1</td>\n",
       "      <td>Male</td>\n",
       "      <td>Jim Sturgess</td>\n",
       "      <td>81200000.0</td>\n",
       "      <td>18.212426</td>\n",
       "    </tr>\n",
       "    <tr>\n",
       "      <th>6</th>\n",
       "      <td>24 Hour Party People</td>\n",
       "      <td>http://www.imdb.com/title/tt0274309/</td>\n",
       "      <td>UK</td>\n",
       "      <td>2002</td>\n",
       "      <td>$1.13M</td>\n",
       "      <td>Michael Winterbottom</td>\n",
       "      <td>1</td>\n",
       "      <td>Tony Wilson</td>\n",
       "      <td>Musician</td>\n",
       "      <td>Known</td>\n",
       "      <td>White</td>\n",
       "      <td>0</td>\n",
       "      <td>Male</td>\n",
       "      <td>Steve Coogan</td>\n",
       "      <td>1130000.0</td>\n",
       "      <td>13.937728</td>\n",
       "    </tr>\n",
       "  </tbody>\n",
       "</table>\n",
       "</div>"
      ],
      "text/plain": [
       "                  title                                  site country  \\\n",
       "1      12 Years a Slave  http://www.imdb.com/title/tt2024544/   US/UK   \n",
       "2             127 Hours  http://www.imdb.com/title/tt1542344/   US/UK   \n",
       "4              20 Dates  http://www.imdb.com/title/tt0138987/      US   \n",
       "5                    21  http://www.imdb.com/title/tt0478087/      US   \n",
       "6  24 Hour Party People  http://www.imdb.com/title/tt0274309/      UK   \n",
       "\n",
       "   year_release box_office              director  number_of_subjects  \\\n",
       "1          2013     $56.7M         Steve McQueen                   1   \n",
       "2          2010     $18.3M           Danny Boyle                   1   \n",
       "4          1998      $537K       Myles Berkowitz                   1   \n",
       "5          2008     $81.2M        Robert Luketic                   1   \n",
       "6          2002     $1.13M  Michael Winterbottom                   1   \n",
       "\n",
       "            subject type_of_subject race_known      subject_race  \\\n",
       "1   Solomon Northup           Other      Known  African American   \n",
       "2      Aron Ralston         Athlete    Unknown               NaN   \n",
       "4   Myles Berkowitz           Other    Unknown               NaN   \n",
       "5           Jeff Ma           Other      Known    Asian American   \n",
       "6       Tony Wilson        Musician      Known             White   \n",
       "\n",
       "   person_of_color subject_sex lead_actor_actress  box_office_dollars  \\\n",
       "1                1        Male   Chiwetel Ejiofor          56700000.0   \n",
       "2                0        Male       James Franco          18300000.0   \n",
       "4                0        Male    Myles Berkowitz            537000.0   \n",
       "5                1        Male       Jim Sturgess          81200000.0   \n",
       "6                0        Male       Steve Coogan           1130000.0   \n",
       "\n",
       "   log_box_office_dollars  \n",
       "1               17.853285  \n",
       "2               16.722412  \n",
       "4               13.193753  \n",
       "5               18.212426  \n",
       "6               13.937728  "
      ]
     },
     "execution_count": 23,
     "metadata": {},
     "output_type": "execute_result"
    }
   ],
   "source": [
    "biopics.head()"
   ]
  },
  {
   "cell_type": "code",
   "execution_count": 24,
   "metadata": {},
   "outputs": [
    {
     "data": {
      "text/plain": [
       "<seaborn.axisgrid.FacetGrid at 0x15d1e7d1220>"
      ]
     },
     "execution_count": 24,
     "metadata": {},
     "output_type": "execute_result"
    },
    {
     "data": {
      "image/png": "[encoded data removed]",
      "text/plain": [
       "<Figure size 360x360 with 1 Axes>"
      ]
     },
     "metadata": {
      "needs_background": "light"
     },
     "output_type": "display_data"
    }
   ],
   "source": [
    "sns.displot(biopics['log_box_office_dollars'])"
   ]
  },
  {
   "cell_type": "markdown",
   "metadata": {},
   "source": [
    "## Q8a: Use a boxplot to look at the relationship of log(box_office_dollars) and whether the subject of the biopic was a person of color or not"
   ]
  },
  {
   "cell_type": "code",
   "execution_count": 25,
   "metadata": {},
   "outputs": [
    {
     "data": {
      "text/plain": [
       "<AxesSubplot:xlabel='person_of_color', ylabel='log_box_office_dollars'>"
      ]
     },
     "execution_count": 25,
     "metadata": {},
     "output_type": "execute_result"
    },
    {
     "data": {
      "image/png": "[encoded data removed]",
      "text/plain": [
       "<Figure size 432x288 with 1 Axes>"
      ]
     },
     "metadata": {
      "needs_background": "light"
     },
     "output_type": "display_data"
    }
   ],
   "source": [
    "sns.boxplot(data=biopics, x='person_of_color', y = 'log_box_office_dollars')"
   ]
  },
  {
   "cell_type": "markdown",
   "metadata": {},
   "source": [
    "## Q8b: Does it look like there's a difference between the two groups?"
   ]
  },
  {
   "cell_type": "markdown",
   "metadata": {},
   "source": [
    "It doesn't look like there's a difference between the two groups, as the medians of the two groups are close to each other. In addition, although the ranges of the two groups are slightly different, they are almost overlapped."
   ]
  },
  {
   "cell_type": "markdown",
   "metadata": {},
   "source": [
    "## Q9: Conduct an ANOVA to determine if there are statistically significant differences between the two groups."
   ]
  },
  {
   "cell_type": "code",
   "execution_count": 26,
   "metadata": {},
   "outputs": [
    {
     "name": "stdout",
     "output_type": "stream",
     "text": [
      "                              OLS Regression Results                              \n",
      "==================================================================================\n",
      "Dep. Variable:     log_box_office_dollars   R-squared:                       0.009\n",
      "Model:                                OLS   Adj. R-squared:                  0.007\n",
      "Method:                     Least Squares   F-statistic:                     4.127\n",
      "Date:                    Tue, 23 Feb 2021   Prob (F-statistic):             0.0428\n",
      "Time:                            20:10:18   Log-Likelihood:                -984.42\n",
      "No. Observations:                     437   AIC:                             1973.\n",
      "Df Residuals:                         435   BIC:                             1981.\n",
      "Df Model:                               1                                         \n",
      "Covariance Type:                nonrobust                                         \n",
      "===================================================================================\n",
      "                      coef    std err          t      P>|t|      [0.025      0.975]\n",
      "-----------------------------------------------------------------------------------\n",
      "Intercept          15.2572      0.121    125.644      0.000      15.018      15.496\n",
      "person_of_color     0.5915      0.291      2.031      0.043       0.019       1.164\n",
      "==============================================================================\n",
      "Omnibus:                       34.714   Durbin-Watson:                   1.793\n",
      "Prob(Omnibus):                  0.000   Jarque-Bera (JB):               41.072\n",
      "Skew:                          -0.745   Prob(JB):                     1.21e-09\n",
      "Kurtosis:                       3.182   Cond. No.                         2.73\n",
      "==============================================================================\n",
      "\n",
      "Notes:\n",
      "[1] Standard Errors assume that the covariance matrix of the errors is correctly specified.\n"
     ]
    }
   ],
   "source": [
    "model = smf.ols('log_box_office_dollars ~ person_of_color', data=biopics)\n",
    "res = model.fit()\n",
    "print(res.summary())"
   ]
  },
  {
   "cell_type": "markdown",
   "metadata": {},
   "source": [
    "Set the critical value $\\alpha = 0.05$.\n",
    "As the p-value is 0.0428 < $\\alpha$, there are statistically significant differences between the two groups."
   ]
  },
  {
   "cell_type": "markdown",
   "metadata": {},
   "source": [
    "## The t-test"
   ]
  },
  {
   "cell_type": "markdown",
   "metadata": {},
   "source": [
    "To test of there's a statistically significant difference between two means, we\n",
    "can use the independent sample t-test.  First, load up the right package:"
   ]
  },
  {
   "cell_type": "code",
   "execution_count": 27,
   "metadata": {},
   "outputs": [],
   "source": [
    "from scipy.stats import ttest_ind"
   ]
  },
  {
   "cell_type": "markdown",
   "metadata": {},
   "source": [
    "It's more readable if we split the data into two samples:"
   ]
  },
  {
   "cell_type": "code",
   "execution_count": 28,
   "metadata": {},
   "outputs": [],
   "source": [
    "poc = biopics[biopics[\"person_of_color\"] == 1]\n",
    "not_poc = biopics[biopics[\"person_of_color\" ] == 0]"
   ]
  },
  {
   "cell_type": "code",
   "execution_count": 29,
   "metadata": {},
   "outputs": [
    {
     "data": {
      "text/plain": [
       "Ttest_indResult(statistic=2.0314176362558167, pvalue=0.042820052741479)"
      ]
     },
     "execution_count": 29,
     "metadata": {},
     "output_type": "execute_result"
    }
   ],
   "source": [
    "ttest_ind(poc[\"log_box_office_dollars\"],not_poc[\"log_box_office_dollars\"])"
   ]
  },
  {
   "cell_type": "markdown",
   "metadata": {},
   "source": [
    "\n",
    "## Q10: What does that mean?"
   ]
  },
  {
   "cell_type": "markdown",
   "metadata": {},
   "source": [
    "Set the critical value $\\alpha = 0.05$.\n",
    "As the p-value is 0.0428 < $\\alpha$, there are statistically significant differences between the two groups."
   ]
  },
  {
   "cell_type": "markdown",
   "metadata": {},
   "source": [
    "## ANOVA\n",
    "Ok, that's pretty straight-forward.  Let's look at a more complex problem:"
   ]
  },
  {
   "cell_type": "code",
   "execution_count": 30,
   "metadata": {},
   "outputs": [
    {
     "data": {
      "text/plain": [
       "<AxesSubplot:xlabel='subject_race', ylabel='log_box_office_dollars'>"
      ]
     },
     "execution_count": 30,
     "metadata": {},
     "output_type": "execute_result"
    },
    {
     "data": {
      "image/png": "[encoded data removed]",
      "text/plain": [
       "<Figure size 432x288 with 1 Axes>"
      ]
     },
     "metadata": {
      "needs_background": "light"
     },
     "output_type": "display_data"
    }
   ],
   "source": [
    "sns.boxplot(x=\"subject_race\",y=\"log_box_office_dollars\",data=biopics)"
   ]
  },
  {
   "cell_type": "markdown",
   "metadata": {},
   "source": [
    "Without getting too worred about the fact that the axes are unreadable, it looks like\n",
    "there are some differences between the different groups.  But are they real?\n",
    "\n",
    "Let's start with an ANOVA:"
   ]
  },
  {
   "cell_type": "code",
   "execution_count": 31,
   "metadata": {},
   "outputs": [
    {
     "data": {
      "text/html": [
       "<div>\n",
       "<style scoped>\n",
       "    .dataframe tbody tr th:only-of-type {\n",
       "        vertical-align: middle;\n",
       "    }\n",
       "\n",
       "    .dataframe tbody tr th {\n",
       "        vertical-align: top;\n",
       "    }\n",
       "\n",
       "    .dataframe thead th {\n",
       "        text-align: right;\n",
       "    }\n",
       "</style>\n",
       "<table border=\"1\" class=\"dataframe\">\n",
       "  <thead>\n",
       "    <tr style=\"text-align: right;\">\n",
       "      <th></th>\n",
       "      <th>sum_sq</th>\n",
       "      <th>df</th>\n",
       "      <th>F</th>\n",
       "      <th>PR(&gt;F)</th>\n",
       "    </tr>\n",
       "  </thead>\n",
       "  <tbody>\n",
       "    <tr>\n",
       "      <th>subject_race</th>\n",
       "      <td>182.728250</td>\n",
       "      <td>15.0</td>\n",
       "      <td>2.566995</td>\n",
       "      <td>0.001263</td>\n",
       "    </tr>\n",
       "    <tr>\n",
       "      <th>Residual</th>\n",
       "      <td>1428.419809</td>\n",
       "      <td>301.0</td>\n",
       "      <td>NaN</td>\n",
       "      <td>NaN</td>\n",
       "    </tr>\n",
       "  </tbody>\n",
       "</table>\n",
       "</div>"
      ],
      "text/plain": [
       "                   sum_sq     df         F    PR(>F)\n",
       "subject_race   182.728250   15.0  2.566995  0.001263\n",
       "Residual      1428.419809  301.0       NaN       NaN"
      ]
     },
     "execution_count": 31,
     "metadata": {},
     "output_type": "execute_result"
    }
   ],
   "source": [
    "box_office_dollars_lm = smf.ols('log_box_office_dollars ~ subject_race', data=biopics).fit()\n",
    "table = sm.stats.anova_lm(box_office_dollars_lm, typ=2) # Type 2 ANOVA DataFrame: no interaction effect\n",
    "table"
   ]
  },
  {
   "cell_type": "code",
   "execution_count": 32,
   "metadata": {},
   "outputs": [
    {
     "name": "stdout",
     "output_type": "stream",
     "text": [
      "                              OLS Regression Results                              \n",
      "==================================================================================\n",
      "Dep. Variable:     log_box_office_dollars   R-squared:                       0.113\n",
      "Model:                                OLS   Adj. R-squared:                  0.069\n",
      "Method:                     Least Squares   F-statistic:                     2.567\n",
      "Date:                    Tue, 23 Feb 2021   Prob (F-statistic):            0.00126\n",
      "Time:                            20:10:19   Log-Likelihood:                -688.41\n",
      "No. Observations:                     317   AIC:                             1409.\n",
      "Df Residuals:                         301   BIC:                             1469.\n",
      "Df Model:                              15                                         \n",
      "Covariance Type:                nonrobust                                         \n",
      "=============================================================================================================\n",
      "                                                coef    std err          t      P>|t|      [0.025      0.975]\n",
      "-------------------------------------------------------------------------------------------------------------\n",
      "Intercept                                    14.9040      0.823     18.101      0.000      13.284      16.524\n",
      "subject_race[T.African American]              1.9884      0.912      2.181      0.030       0.194       3.782\n",
      "subject_race[T.Asian]                        -1.0387      1.365     -0.761      0.447      -3.726       1.648\n",
      "subject_race[T.Asian American]                2.1526      1.503      1.432      0.153      -0.806       5.111\n",
      "subject_race[T.Caribbean]                     2.5170      2.329      1.081      0.281      -2.066       7.100\n",
      "subject_race[T.Hispanic (Latin American)]     0.4535      1.074      0.422      0.673      -1.659       2.566\n",
      "subject_race[T.Hispanic (Latina)]             2.4782      2.329      1.064      0.288      -2.105       7.061\n",
      "subject_race[T.Hispanic (Latino)]             1.5807      1.365      1.158      0.248      -1.106       4.268\n",
      "subject_race[T.Hispanic (White)]             -0.4918      1.365     -0.360      0.719      -3.179       2.195\n",
      "subject_race[T.Indian]                       -2.0048      2.329     -0.861      0.390      -6.588       2.578\n",
      "subject_race[T.Mediterranean]                -1.8960      2.329     -0.814      0.416      -6.479       2.687\n",
      "subject_race[T.Middle Eastern]               -0.5770      1.276     -0.452      0.651      -3.087       1.933\n",
      "subject_race[T.Middle Eastern (White)]        2.4058      1.127      2.134      0.034       0.187       4.624\n",
      "subject_race[T.Multi racial]                 -0.6743      0.978     -0.689      0.491      -2.600       1.251\n",
      "subject_race[T.Native American]               0.7853      1.747      0.450      0.653      -2.652       4.222\n",
      "subject_race[T.White]                         0.3095      0.836      0.370      0.712      -1.337       1.956\n",
      "==============================================================================\n",
      "Omnibus:                       34.832   Durbin-Watson:                   1.861\n",
      "Prob(Omnibus):                  0.000   Jarque-Bera (JB):               43.396\n",
      "Skew:                          -0.829   Prob(JB):                     3.77e-10\n",
      "Kurtosis:                       3.734   Cond. No.                         36.7\n",
      "==============================================================================\n",
      "\n",
      "Notes:\n",
      "[1] Standard Errors assume that the covariance matrix of the errors is correctly specified.\n"
     ]
    }
   ],
   "source": [
    "res = smf.ols('log_box_office_dollars ~ subject_race',biopics).fit()\n",
    "print(res.summary())"
   ]
  },
  {
   "cell_type": "markdown",
   "metadata": {},
   "source": [
    "### Q11: Is there a statistically significant difference?"
   ]
  },
  {
   "cell_type": "markdown",
   "metadata": {},
   "source": [
    "Set the critical value $\\alpha = 0.05$.\n",
    "As the p-value is 0.00126 < $\\alpha$, there is a statistically significant difference."
   ]
  },
  {
   "cell_type": "markdown",
   "metadata": {},
   "source": [
    "Let's apply Tukey's HSD using the same model and see what we get."
   ]
  },
  {
   "cell_type": "markdown",
   "metadata": {},
   "source": [
    "### Q12: Write code to use Tukey's HSD test on the subject_race variable and interpret the results."
   ]
  },
  {
   "cell_type": "code",
   "execution_count": 33,
   "metadata": {},
   "outputs": [],
   "source": [
    "from statsmodels.stats.multicomp import pairwise_tukeyhsd"
   ]
  },
  {
   "cell_type": "code",
   "execution_count": 34,
   "metadata": {},
   "outputs": [],
   "source": [
    "biopics = biopics.dropna(subset=['subject_race'])"
   ]
  },
  {
   "cell_type": "code",
   "execution_count": 35,
   "metadata": {},
   "outputs": [
    {
     "data": {
      "text/html": [
       "<table class=\"simpletable\">\n",
       "<caption>Multiple Comparison of Means - Tukey HSD, FWER=0.05</caption>\n",
       "<tr>\n",
       "           <th>group1</th>                    <th>group2</th>           <th>meandiff</th>  <th>p-adj</th>   <th>lower</th>   <th>upper</th>  <th>reject</th>\n",
       "</tr>\n",
       "<tr>\n",
       "           <td>African</td>              <td>African American</td>       <td>1.9884</td>  <td>0.6818</td>  <td>-1.1618</td> <td>5.1385</td>   <td>False</td>\n",
       "</tr>\n",
       "<tr>\n",
       "           <td>African</td>                    <td>Asian</td>            <td>-1.0387</td>   <td>0.9</td>   <td>-5.757</td>  <td>3.6796</td>   <td>False</td>\n",
       "</tr>\n",
       "<tr>\n",
       "           <td>African</td>               <td>Asian American</td>        <td>2.1526</td>    <td>0.9</td>   <td>-3.0421</td> <td>7.3472</td>   <td>False</td>\n",
       "</tr>\n",
       "<tr>\n",
       "           <td>African</td>                  <td>Caribbean</td>           <td>2.517</td>    <td>0.9</td>   <td>-5.5306</td> <td>10.5645</td>  <td>False</td>\n",
       "</tr>\n",
       "<tr>\n",
       "           <td>African</td>          <td>Hispanic (Latin American)</td>  <td>0.4535</td>    <td>0.9</td>   <td>-3.2562</td> <td>4.1632</td>   <td>False</td>\n",
       "</tr>\n",
       "<tr>\n",
       "           <td>African</td>              <td>Hispanic (Latina)</td>      <td>2.4782</td>    <td>0.9</td>   <td>-5.5694</td> <td>10.5257</td>  <td>False</td>\n",
       "</tr>\n",
       "<tr>\n",
       "           <td>African</td>              <td>Hispanic (Latino)</td>      <td>1.5807</td>    <td>0.9</td>   <td>-3.1376</td>  <td>6.299</td>   <td>False</td>\n",
       "</tr>\n",
       "<tr>\n",
       "           <td>African</td>              <td>Hispanic (White)</td>       <td>-0.4918</td>   <td>0.9</td>   <td>-5.2101</td> <td>4.2265</td>   <td>False</td>\n",
       "</tr>\n",
       "<tr>\n",
       "           <td>African</td>                   <td>Indian</td>            <td>-2.0048</td>   <td>0.9</td>  <td>-10.0524</td> <td>6.0427</td>   <td>False</td>\n",
       "</tr>\n",
       "<tr>\n",
       "           <td>African</td>                <td>Mediterranean</td>        <td>-1.896</td>    <td>0.9</td>   <td>-9.9435</td> <td>6.1516</td>   <td>False</td>\n",
       "</tr>\n",
       "<tr>\n",
       "           <td>African</td>               <td>Middle Eastern</td>        <td>-0.577</td>    <td>0.9</td>   <td>-4.9848</td> <td>3.8308</td>   <td>False</td>\n",
       "</tr>\n",
       "<tr>\n",
       "           <td>African</td>           <td>Middle Eastern (White)</td>    <td>2.4058</td>  <td>0.7121</td>  <td>-1.4902</td> <td>6.3018</td>   <td>False</td>\n",
       "</tr>\n",
       "<tr>\n",
       "           <td>African</td>                <td>Multi racial</td>         <td>-0.6743</td>   <td>0.9</td>   <td>-4.0549</td> <td>2.7063</td>   <td>False</td>\n",
       "</tr>\n",
       "<tr>\n",
       "           <td>African</td>               <td>Native American</td>       <td>0.7853</td>    <td>0.9</td>   <td>-5.2504</td> <td>6.8209</td>   <td>False</td>\n",
       "</tr>\n",
       "<tr>\n",
       "           <td>African</td>                    <td>White</td>            <td>0.3095</td>    <td>0.9</td>   <td>-2.5811</td>   <td>3.2</td>    <td>False</td>\n",
       "</tr>\n",
       "<tr>\n",
       "      <td>African American</td>                <td>Asian</td>            <td>-3.0271</td> <td>0.3957</td>  <td>-7.0264</td> <td>0.9723</td>   <td>False</td>\n",
       "</tr>\n",
       "<tr>\n",
       "      <td>African American</td>           <td>Asian American</td>        <td>0.1642</td>    <td>0.9</td>   <td>-4.3874</td> <td>4.7158</td>   <td>False</td>\n",
       "</tr>\n",
       "<tr>\n",
       "      <td>African American</td>              <td>Caribbean</td>          <td>0.5286</td>    <td>0.9</td>   <td>-7.1196</td> <td>8.1768</td>   <td>False</td>\n",
       "</tr>\n",
       "<tr>\n",
       "      <td>African American</td>      <td>Hispanic (Latin American)</td>  <td>-1.5349</td> <td>0.8375</td>  <td>-4.2725</td> <td>1.2028</td>   <td>False</td>\n",
       "</tr>\n",
       "<tr>\n",
       "      <td>African American</td>          <td>Hispanic (Latina)</td>      <td>0.4898</td>    <td>0.9</td>   <td>-7.1584</td>  <td>8.138</td>   <td>False</td>\n",
       "</tr>\n",
       "<tr>\n",
       "      <td>African American</td>          <td>Hispanic (Latino)</td>      <td>-0.4077</td>   <td>0.9</td>   <td>-4.407</td>  <td>3.5917</td>   <td>False</td>\n",
       "</tr>\n",
       "<tr>\n",
       "      <td>African American</td>          <td>Hispanic (White)</td>       <td>-2.4801</td> <td>0.7063</td>  <td>-6.4795</td> <td>1.5192</td>   <td>False</td>\n",
       "</tr>\n",
       "<tr>\n",
       "      <td>African American</td>               <td>Indian</td>            <td>-3.9932</td>   <td>0.9</td>  <td>-11.6414</td>  <td>3.655</td>   <td>False</td>\n",
       "</tr>\n",
       "<tr>\n",
       "      <td>African American</td>            <td>Mediterranean</td>        <td>-3.8843</td>   <td>0.9</td>  <td>-11.5326</td> <td>3.7639</td>   <td>False</td>\n",
       "</tr>\n",
       "<tr>\n",
       "      <td>African American</td>           <td>Middle Eastern</td>        <td>-2.5654</td> <td>0.5143</td>  <td>-6.1933</td> <td>1.0625</td>   <td>False</td>\n",
       "</tr>\n",
       "<tr>\n",
       "      <td>African American</td>       <td>Middle Eastern (White)</td>    <td>0.4174</td>    <td>0.9</td>   <td>-2.5678</td> <td>3.4026</td>   <td>False</td>\n",
       "</tr>\n",
       "<tr>\n",
       "      <td>African American</td>            <td>Multi racial</td>         <td>-2.6627</td> <td>0.0064</td>  <td>-4.9345</td> <td>-0.3908</td>  <td>True</td> \n",
       "</tr>\n",
       "<tr>\n",
       "      <td>African American</td>           <td>Native American</td>       <td>-1.2031</td>   <td>0.9</td>   <td>-6.6951</td> <td>4.2889</td>   <td>False</td>\n",
       "</tr>\n",
       "<tr>\n",
       "      <td>African American</td>                <td>White</td>            <td>-1.6789</td> <td>0.0073</td>  <td>-3.1239</td> <td>-0.2339</td>  <td>True</td> \n",
       "</tr>\n",
       "<tr>\n",
       "            <td>Asian</td>                <td>Asian American</td>        <td>3.1913</td>  <td>0.8499</td>  <td>-2.5582</td> <td>8.9407</td>   <td>False</td>\n",
       "</tr>\n",
       "<tr>\n",
       "            <td>Asian</td>                   <td>Caribbean</td>          <td>3.5557</td>    <td>0.9</td>   <td>-4.8606</td> <td>11.972</td>   <td>False</td>\n",
       "</tr>\n",
       "<tr>\n",
       "            <td>Asian</td>           <td>Hispanic (Latin American)</td>  <td>1.4922</td>    <td>0.9</td>   <td>-2.9613</td> <td>5.9457</td>   <td>False</td>\n",
       "</tr>\n",
       "<tr>\n",
       "            <td>Asian</td>               <td>Hispanic (Latina)</td>      <td>3.5169</td>    <td>0.9</td>   <td>-4.8994</td> <td>11.9332</td>  <td>False</td>\n",
       "</tr>\n",
       "<tr>\n",
       "            <td>Asian</td>               <td>Hispanic (Latino)</td>      <td>2.6194</td>    <td>0.9</td>   <td>-2.7035</td> <td>7.9423</td>   <td>False</td>\n",
       "</tr>\n",
       "<tr>\n",
       "            <td>Asian</td>               <td>Hispanic (White)</td>       <td>0.5469</td>    <td>0.9</td>   <td>-4.776</td>  <td>5.8699</td>   <td>False</td>\n",
       "</tr>\n",
       "<tr>\n",
       "            <td>Asian</td>                    <td>Indian</td>            <td>-0.9661</td>   <td>0.9</td>   <td>-9.3824</td> <td>7.4502</td>   <td>False</td>\n",
       "</tr>\n",
       "<tr>\n",
       "            <td>Asian</td>                 <td>Mediterranean</td>        <td>-0.8573</td>   <td>0.9</td>   <td>-9.2736</td>  <td>7.559</td>   <td>False</td>\n",
       "</tr>\n",
       "<tr>\n",
       "            <td>Asian</td>                <td>Middle Eastern</td>        <td>0.4617</td>    <td>0.9</td>   <td>-4.5881</td> <td>5.5114</td>   <td>False</td>\n",
       "</tr>\n",
       "<tr>\n",
       "            <td>Asian</td>            <td>Middle Eastern (White)</td>    <td>3.4445</td>  <td>0.4199</td>  <td>-1.1653</td> <td>8.0543</td>   <td>False</td>\n",
       "</tr>\n",
       "<tr>\n",
       "            <td>Asian</td>                 <td>Multi racial</td>         <td>0.3644</td>    <td>0.9</td>   <td>-3.8189</td> <td>4.5477</td>   <td>False</td>\n",
       "</tr>\n",
       "<tr>\n",
       "            <td>Asian</td>                <td>Native American</td>       <td>1.8239</td>    <td>0.9</td>   <td>-4.6953</td> <td>8.3432</td>   <td>False</td>\n",
       "</tr>\n",
       "<tr>\n",
       "            <td>Asian</td>                     <td>White</td>            <td>1.3481</td>    <td>0.9</td>   <td>-2.4501</td> <td>5.1464</td>   <td>False</td>\n",
       "</tr>\n",
       "<tr>\n",
       "       <td>Asian American</td>               <td>Caribbean</td>          <td>0.3644</td>    <td>0.9</td>   <td>-8.3279</td> <td>9.0567</td>   <td>False</td>\n",
       "</tr>\n",
       "<tr>\n",
       "       <td>Asian American</td>       <td>Hispanic (Latin American)</td>  <td>-1.699</td>    <td>0.9</td>   <td>-6.6544</td> <td>3.2563</td>   <td>False</td>\n",
       "</tr>\n",
       "<tr>\n",
       "       <td>Asian American</td>           <td>Hispanic (Latina)</td>      <td>0.3256</td>    <td>0.9</td>   <td>-8.3667</td> <td>9.0179</td>   <td>False</td>\n",
       "</tr>\n",
       "<tr>\n",
       "       <td>Asian American</td>           <td>Hispanic (Latino)</td>      <td>-0.5718</td>   <td>0.9</td>   <td>-6.3213</td> <td>5.1776</td>   <td>False</td>\n",
       "</tr>\n",
       "<tr>\n",
       "       <td>Asian American</td>           <td>Hispanic (White)</td>       <td>-2.6443</td>   <td>0.9</td>   <td>-8.3938</td> <td>3.1051</td>   <td>False</td>\n",
       "</tr>\n",
       "<tr>\n",
       "       <td>Asian American</td>                <td>Indian</td>            <td>-4.1574</td>   <td>0.9</td>  <td>-12.8497</td> <td>4.5349</td>   <td>False</td>\n",
       "</tr>\n",
       "<tr>\n",
       "       <td>Asian American</td>             <td>Mediterranean</td>        <td>-4.0485</td>   <td>0.9</td>  <td>-12.7408</td> <td>4.6438</td>   <td>False</td>\n",
       "</tr>\n",
       "<tr>\n",
       "       <td>Asian American</td>            <td>Middle Eastern</td>        <td>-2.7296</td>   <td>0.9</td>   <td>-8.2271</td> <td>2.7679</td>   <td>False</td>\n",
       "</tr>\n",
       "<tr>\n",
       "       <td>Asian American</td>        <td>Middle Eastern (White)</td>    <td>0.2532</td>    <td>0.9</td>   <td>-4.8431</td> <td>5.3495</td>   <td>False</td>\n",
       "</tr>\n",
       "<tr>\n",
       "       <td>Asian American</td>             <td>Multi racial</td>         <td>-2.8269</td> <td>0.7514</td>  <td>-7.5409</td> <td>1.8872</td>   <td>False</td>\n",
       "</tr>\n",
       "<tr>\n",
       "       <td>Asian American</td>            <td>Native American</td>       <td>-1.3673</td>   <td>0.9</td>   <td>-8.2392</td> <td>5.5046</td>   <td>False</td>\n",
       "</tr>\n",
       "<tr>\n",
       "       <td>Asian American</td>                 <td>White</td>            <td>-1.8431</td>   <td>0.9</td>   <td>-6.2191</td> <td>2.5329</td>   <td>False</td>\n",
       "</tr>\n",
       "<tr>\n",
       "          <td>Caribbean</td>         <td>Hispanic (Latin American)</td>  <td>-2.0635</td>   <td>0.9</td>   <td>-9.9587</td> <td>5.8317</td>   <td>False</td>\n",
       "</tr>\n",
       "<tr>\n",
       "          <td>Caribbean</td>             <td>Hispanic (Latina)</td>      <td>-0.0388</td>   <td>0.9</td>  <td>-10.6847</td> <td>10.6071</td>  <td>False</td>\n",
       "</tr>\n",
       "<tr>\n",
       "          <td>Caribbean</td>             <td>Hispanic (Latino)</td>      <td>-0.9363</td>   <td>0.9</td>   <td>-9.3526</td> <td>7.4801</td>   <td>False</td>\n",
       "</tr>\n",
       "<tr>\n",
       "          <td>Caribbean</td>             <td>Hispanic (White)</td>       <td>-3.0087</td>   <td>0.9</td>  <td>-11.4251</td> <td>5.4076</td>   <td>False</td>\n",
       "</tr>\n",
       "<tr>\n",
       "          <td>Caribbean</td>                  <td>Indian</td>            <td>-4.5218</td>   <td>0.9</td>  <td>-15.1677</td> <td>6.1241</td>   <td>False</td>\n",
       "</tr>\n",
       "<tr>\n",
       "          <td>Caribbean</td>               <td>Mediterranean</td>        <td>-4.4129</td>   <td>0.9</td>  <td>-15.0588</td> <td>6.2329</td>   <td>False</td>\n",
       "</tr>\n",
       "<tr>\n",
       "          <td>Caribbean</td>              <td>Middle Eastern</td>        <td>-3.094</td>    <td>0.9</td>  <td>-11.3403</td> <td>5.1523</td>   <td>False</td>\n",
       "</tr>\n",
       "<tr>\n",
       "          <td>Caribbean</td>          <td>Middle Eastern (White)</td>    <td>-0.1112</td>   <td>0.9</td>   <td>-8.0956</td> <td>7.8732</td>   <td>False</td>\n",
       "</tr>\n",
       "<tr>\n",
       "          <td>Caribbean</td>               <td>Multi racial</td>         <td>-3.1913</td>   <td>0.9</td>  <td>-10.9373</td> <td>4.5547</td>   <td>False</td>\n",
       "</tr>\n",
       "<tr>\n",
       "          <td>Caribbean</td>              <td>Native American</td>       <td>-1.7317</td>   <td>0.9</td>  <td>-10.9513</td> <td>7.4879</td>   <td>False</td>\n",
       "</tr>\n",
       "<tr>\n",
       "          <td>Caribbean</td>                   <td>White</td>            <td>-2.2075</td>   <td>0.9</td>   <td>-9.7525</td> <td>5.3375</td>   <td>False</td>\n",
       "</tr>\n",
       "<tr>\n",
       "  <td>Hispanic (Latin American)</td>     <td>Hispanic (Latina)</td>      <td>2.0247</td>    <td>0.9</td>   <td>-5.8705</td> <td>9.9199</td>   <td>False</td>\n",
       "</tr>\n",
       "<tr>\n",
       "  <td>Hispanic (Latin American)</td>     <td>Hispanic (Latino)</td>      <td>1.1272</td>    <td>0.9</td>   <td>-3.3263</td> <td>5.5807</td>   <td>False</td>\n",
       "</tr>\n",
       "<tr>\n",
       "  <td>Hispanic (Latin American)</td>     <td>Hispanic (White)</td>       <td>-0.9453</td>   <td>0.9</td>   <td>-5.3988</td> <td>3.5082</td>   <td>False</td>\n",
       "</tr>\n",
       "<tr>\n",
       "  <td>Hispanic (Latin American)</td>          <td>Indian</td>            <td>-2.4583</td>   <td>0.9</td>  <td>-10.3535</td> <td>5.4369</td>   <td>False</td>\n",
       "</tr>\n",
       "<tr>\n",
       "  <td>Hispanic (Latin American)</td>       <td>Mediterranean</td>        <td>-2.3495</td>   <td>0.9</td>  <td>-10.2447</td> <td>5.5457</td>   <td>False</td>\n",
       "</tr>\n",
       "<tr>\n",
       "  <td>Hispanic (Latin American)</td>      <td>Middle Eastern</td>        <td>-1.0305</td>   <td>0.9</td>   <td>-5.1537</td> <td>3.0926</td>   <td>False</td>\n",
       "</tr>\n",
       "<tr>\n",
       "  <td>Hispanic (Latin American)</td>  <td>Middle Eastern (White)</td>    <td>1.9523</td>  <td>0.8682</td>  <td>-1.6185</td>  <td>5.523</td>   <td>False</td>\n",
       "</tr>\n",
       "<tr>\n",
       "  <td>Hispanic (Latin American)</td>       <td>Multi racial</td>         <td>-1.1278</td>   <td>0.9</td>   <td>-4.1278</td> <td>1.8722</td>   <td>False</td>\n",
       "</tr>\n",
       "<tr>\n",
       "  <td>Hispanic (Latin American)</td>      <td>Native American</td>       <td>0.3317</td>    <td>0.9</td>   <td>-5.4992</td> <td>6.1627</td>   <td>False</td>\n",
       "</tr>\n",
       "<tr>\n",
       "  <td>Hispanic (Latin American)</td>           <td>White</td>            <td>-0.1441</td>   <td>0.9</td>   <td>-2.5785</td> <td>2.2904</td>   <td>False</td>\n",
       "</tr>\n",
       "<tr>\n",
       "      <td>Hispanic (Latina)</td>         <td>Hispanic (Latino)</td>      <td>-0.8975</td>   <td>0.9</td>   <td>-9.3138</td> <td>7.5188</td>   <td>False</td>\n",
       "</tr>\n",
       "<tr>\n",
       "      <td>Hispanic (Latina)</td>         <td>Hispanic (White)</td>        <td>-2.97</td>    <td>0.9</td>  <td>-11.3863</td> <td>5.4463</td>   <td>False</td>\n",
       "</tr>\n",
       "<tr>\n",
       "      <td>Hispanic (Latina)</td>              <td>Indian</td>            <td>-4.483</td>    <td>0.9</td>  <td>-15.1289</td> <td>6.1629</td>   <td>False</td>\n",
       "</tr>\n",
       "<tr>\n",
       "      <td>Hispanic (Latina)</td>           <td>Mediterranean</td>        <td>-4.3741</td>   <td>0.9</td>   <td>-15.02</td>  <td>6.2717</td>   <td>False</td>\n",
       "</tr>\n",
       "<tr>\n",
       "      <td>Hispanic (Latina)</td>          <td>Middle Eastern</td>        <td>-3.0552</td>   <td>0.9</td>  <td>-11.3015</td> <td>5.1911</td>   <td>False</td>\n",
       "</tr>\n",
       "<tr>\n",
       "      <td>Hispanic (Latina)</td>      <td>Middle Eastern (White)</td>    <td>-0.0724</td>   <td>0.9</td>   <td>-8.0568</td>  <td>7.912</td>   <td>False</td>\n",
       "</tr>\n",
       "<tr>\n",
       "      <td>Hispanic (Latina)</td>           <td>Multi racial</td>         <td>-3.1525</td>   <td>0.9</td>  <td>-10.8985</td> <td>4.5935</td>   <td>False</td>\n",
       "</tr>\n",
       "<tr>\n",
       "      <td>Hispanic (Latina)</td>          <td>Native American</td>       <td>-1.6929</td>   <td>0.9</td>  <td>-10.9125</td> <td>7.5267</td>   <td>False</td>\n",
       "</tr>\n",
       "<tr>\n",
       "      <td>Hispanic (Latina)</td>               <td>White</td>            <td>-2.1687</td>   <td>0.9</td>   <td>-9.7137</td> <td>5.3763</td>   <td>False</td>\n",
       "</tr>\n",
       "<tr>\n",
       "      <td>Hispanic (Latino)</td>         <td>Hispanic (White)</td>       <td>-2.0725</td>   <td>0.9</td>   <td>-7.3954</td> <td>3.2504</td>   <td>False</td>\n",
       "</tr>\n",
       "<tr>\n",
       "      <td>Hispanic (Latino)</td>              <td>Indian</td>            <td>-3.5855</td>   <td>0.9</td>  <td>-12.0018</td> <td>4.8308</td>   <td>False</td>\n",
       "</tr>\n",
       "<tr>\n",
       "      <td>Hispanic (Latino)</td>           <td>Mediterranean</td>        <td>-3.4767</td>   <td>0.9</td>   <td>-11.893</td> <td>4.9396</td>   <td>False</td>\n",
       "</tr>\n",
       "<tr>\n",
       "      <td>Hispanic (Latino)</td>          <td>Middle Eastern</td>        <td>-2.1577</td>   <td>0.9</td>   <td>-7.2075</td>  <td>2.892</td>   <td>False</td>\n",
       "</tr>\n",
       "<tr>\n",
       "      <td>Hispanic (Latino)</td>      <td>Middle Eastern (White)</td>     <td>0.825</td>    <td>0.9</td>   <td>-3.7848</td> <td>5.4348</td>   <td>False</td>\n",
       "</tr>\n",
       "<tr>\n",
       "      <td>Hispanic (Latino)</td>           <td>Multi racial</td>         <td>-2.255</td>  <td>0.8852</td>  <td>-6.4383</td> <td>1.9283</td>   <td>False</td>\n",
       "</tr>\n",
       "<tr>\n",
       "      <td>Hispanic (Latino)</td>          <td>Native American</td>       <td>-0.7955</td>   <td>0.9</td>   <td>-7.3147</td> <td>5.7238</td>   <td>False</td>\n",
       "</tr>\n",
       "<tr>\n",
       "      <td>Hispanic (Latino)</td>               <td>White</td>            <td>-1.2713</td>   <td>0.9</td>   <td>-5.0695</td>  <td>2.527</td>   <td>False</td>\n",
       "</tr>\n",
       "<tr>\n",
       "      <td>Hispanic (White)</td>               <td>Indian</td>            <td>-1.513</td>    <td>0.9</td>   <td>-9.9294</td> <td>6.9033</td>   <td>False</td>\n",
       "</tr>\n",
       "<tr>\n",
       "      <td>Hispanic (White)</td>            <td>Mediterranean</td>        <td>-1.4042</td>   <td>0.9</td>   <td>-9.8205</td> <td>7.0121</td>   <td>False</td>\n",
       "</tr>\n",
       "<tr>\n",
       "      <td>Hispanic (White)</td>           <td>Middle Eastern</td>        <td>-0.0853</td>   <td>0.9</td>   <td>-5.135</td>  <td>4.9645</td>   <td>False</td>\n",
       "</tr>\n",
       "<tr>\n",
       "      <td>Hispanic (White)</td>       <td>Middle Eastern (White)</td>    <td>2.8975</td>  <td>0.6877</td>  <td>-1.7123</td> <td>7.5073</td>   <td>False</td>\n",
       "</tr>\n",
       "<tr>\n",
       "      <td>Hispanic (White)</td>            <td>Multi racial</td>         <td>-0.1825</td>   <td>0.9</td>   <td>-4.3659</td> <td>4.0008</td>   <td>False</td>\n",
       "</tr>\n",
       "<tr>\n",
       "      <td>Hispanic (White)</td>           <td>Native American</td>        <td>1.277</td>    <td>0.9</td>   <td>-5.2422</td> <td>7.7963</td>   <td>False</td>\n",
       "</tr>\n",
       "<tr>\n",
       "      <td>Hispanic (White)</td>                <td>White</td>            <td>0.8012</td>    <td>0.9</td>   <td>-2.997</td>  <td>4.5995</td>   <td>False</td>\n",
       "</tr>\n",
       "<tr>\n",
       "           <td>Indian</td>                 <td>Mediterranean</td>        <td>0.1089</td>    <td>0.9</td>   <td>-10.537</td> <td>10.7547</td>  <td>False</td>\n",
       "</tr>\n",
       "<tr>\n",
       "           <td>Indian</td>                <td>Middle Eastern</td>        <td>1.4278</td>    <td>0.9</td>   <td>-6.8185</td> <td>9.6741</td>   <td>False</td>\n",
       "</tr>\n",
       "<tr>\n",
       "           <td>Indian</td>            <td>Middle Eastern (White)</td>    <td>4.4106</td>  <td>0.8557</td>  <td>-3.5738</td> <td>12.395</td>   <td>False</td>\n",
       "</tr>\n",
       "<tr>\n",
       "           <td>Indian</td>                 <td>Multi racial</td>         <td>1.3305</td>    <td>0.9</td>   <td>-6.4155</td> <td>9.0765</td>   <td>False</td>\n",
       "</tr>\n",
       "<tr>\n",
       "           <td>Indian</td>                <td>Native American</td>       <td>2.7901</td>    <td>0.9</td>   <td>-6.4295</td> <td>12.0097</td>  <td>False</td>\n",
       "</tr>\n",
       "<tr>\n",
       "           <td>Indian</td>                     <td>White</td>            <td>2.3143</td>    <td>0.9</td>   <td>-5.2307</td> <td>9.8593</td>   <td>False</td>\n",
       "</tr>\n",
       "<tr>\n",
       "        <td>Mediterranean</td>            <td>Middle Eastern</td>        <td>1.3189</td>    <td>0.9</td>   <td>-6.9273</td> <td>9.5652</td>   <td>False</td>\n",
       "</tr>\n",
       "<tr>\n",
       "        <td>Mediterranean</td>        <td>Middle Eastern (White)</td>    <td>4.3017</td>  <td>0.8858</td>  <td>-3.6827</td> <td>12.2861</td>  <td>False</td>\n",
       "</tr>\n",
       "<tr>\n",
       "        <td>Mediterranean</td>             <td>Multi racial</td>         <td>1.2217</td>    <td>0.9</td>   <td>-6.5244</td> <td>8.9677</td>   <td>False</td>\n",
       "</tr>\n",
       "<tr>\n",
       "        <td>Mediterranean</td>            <td>Native American</td>       <td>2.6812</td>    <td>0.9</td>   <td>-6.5384</td> <td>11.9008</td>  <td>False</td>\n",
       "</tr>\n",
       "<tr>\n",
       "        <td>Mediterranean</td>                 <td>White</td>            <td>2.2054</td>    <td>0.9</td>   <td>-5.3396</td> <td>9.7504</td>   <td>False</td>\n",
       "</tr>\n",
       "<tr>\n",
       "       <td>Middle Eastern</td>        <td>Middle Eastern (White)</td>    <td>2.9828</td>   <td>0.541</td>  <td>-1.3087</td> <td>7.2743</td>   <td>False</td>\n",
       "</tr>\n",
       "<tr>\n",
       "       <td>Middle Eastern</td>             <td>Multi racial</td>         <td>-0.0973</td>   <td>0.9</td>   <td>-3.927</td>  <td>3.7325</td>   <td>False</td>\n",
       "</tr>\n",
       "<tr>\n",
       "       <td>Middle Eastern</td>            <td>Native American</td>       <td>1.3623</td>    <td>0.9</td>   <td>-4.9359</td> <td>7.6605</td>   <td>False</td>\n",
       "</tr>\n",
       "<tr>\n",
       "       <td>Middle Eastern</td>                 <td>White</td>            <td>0.8865</td>    <td>0.9</td>   <td>-2.5184</td> <td>4.2914</td>   <td>False</td>\n",
       "</tr>\n",
       "<tr>\n",
       "   <td>Middle Eastern (White)</td>         <td>Multi racial</td>         <td>-3.0801</td> <td>0.0805</td>  <td>-6.3076</td> <td>0.1474</td>   <td>False</td>\n",
       "</tr>\n",
       "<tr>\n",
       "   <td>Middle Eastern (White)</td>        <td>Native American</td>       <td>-1.6205</td>   <td>0.9</td>   <td>-7.5717</td> <td>4.3307</td>   <td>False</td>\n",
       "</tr>\n",
       "<tr>\n",
       "   <td>Middle Eastern (White)</td>             <td>White</td>            <td>-2.0963</td> <td>0.3547</td>  <td>-4.8062</td> <td>0.6136</td>   <td>False</td>\n",
       "</tr>\n",
       "<tr>\n",
       "        <td>Multi racial</td>             <td>Native American</td>       <td>1.4596</td>    <td>0.9</td>   <td>-4.1678</td> <td>7.0869</td>   <td>False</td>\n",
       "</tr>\n",
       "<tr>\n",
       "        <td>Multi racial</td>                  <td>White</td>            <td>0.9838</td>    <td>0.9</td>   <td>-0.9118</td> <td>2.8794</td>   <td>False</td>\n",
       "</tr>\n",
       "<tr>\n",
       "       <td>Native American</td>                <td>White</td>            <td>-0.4758</td>   <td>0.9</td>   <td>-5.8231</td> <td>4.8715</td>   <td>False</td>\n",
       "</tr>\n",
       "</table>"
      ],
      "text/plain": [
       "<class 'statsmodels.iolib.table.SimpleTable'>"
      ]
     },
     "execution_count": 35,
     "metadata": {},
     "output_type": "execute_result"
    }
   ],
   "source": [
    "res = pairwise_tukeyhsd(biopics['log_box_office_dollars'], biopics['subject_race'])\n",
    "res.summary()"
   ]
  },
  {
   "cell_type": "markdown",
   "metadata": {},
   "source": [
    "The function sets the default critical value $\\alpha = 0.05$, and the `reject` column in the result shows whether we reject the null hypothesis that there is no difference between the groups. \n",
    "\n",
    "We can see that we only reject the null hypothesis for 2 pairs: {African American, Multi racial}, and {African American, White}. Therefore, we have evidence that the groups within the pairs are different, but for all the other pairs, we don't reject the null hypothesis."
   ]
  },
  {
   "cell_type": "markdown",
   "metadata": {},
   "source": [
    "# <font color=\"green\">END OF NOTEBOOK</font>\n",
    "## Remember to submit HTML and IPYNB files via Canvas."
   ]
  }
 ],
 "metadata": {
  "kernelspec": {
   "display_name": "Python 3",
   "language": "python",
   "name": "python3"
  },
  "language_info": {
   "codemirror_mode": {
    "name": "ipython",
    "version": 3
   },
   "file_extension": ".py",
   "mimetype": "text/x-python",
   "name": "python",
   "nbconvert_exporter": "python",
   "pygments_lexer": "ipython3",
   "version": "3.8.1"
  }
 },
 "nbformat": 4,
 "nbformat_minor": 4
}
